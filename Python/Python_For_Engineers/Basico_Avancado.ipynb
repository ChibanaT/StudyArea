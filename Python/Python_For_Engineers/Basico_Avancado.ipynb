{
 "cells": [
  {
   "cell_type": "markdown",
   "metadata": {},
   "source": [
    "## Exercicio 1\n",
    "\n",
    "Crie um condicional que, dada uma variavel faca as operacoes:\n",
    "\n",
    "* Se for um numero positivo \"Positive Number\"\n",
    "* Se for um numero negativo \"Negative Number\"\n",
    "* Se for zero \"Zero\"\n",
    "* Se nao for numero \"Not a Number\""
   ]
  },
  {
   "cell_type": "code",
   "execution_count": 8,
   "metadata": {},
   "outputs": [
    {
     "name": "stdout",
     "output_type": "stream",
     "text": [
      "Zero\n"
     ]
    }
   ],
   "source": [
    "x = 0\n",
    "\n",
    "if type (x) is str:\n",
    "    print ('Not a Number')\n",
    "elif x > 0:\n",
    "    print('Positive Number')\n",
    "elif x < 0:\n",
    "    print('Negative Number')\n",
    "elif x == 0:\n",
    "    print('Zero')"
   ]
  },
  {
   "cell_type": "markdown",
   "metadata": {},
   "source": [
    "## Exercicio 2\n",
    "\n",
    "Faca um loop for para criar uma lista que intercale os valores das listas:\n",
    "\n",
    "* Valores = [1,2,3,4,5]\n",
    "* Letras = ['a','b','c','d','e']\n"
   ]
  },
  {
   "cell_type": "code",
   "execution_count": 11,
   "metadata": {},
   "outputs": [
    {
     "name": "stdout",
     "output_type": "stream",
     "text": [
      "[1, 'a', 2, 'b', 3, 'c', 4, 'd', 5, 'e']\n"
     ]
    },
    {
     "data": {
      "text/plain": [
       "10"
      ]
     },
     "execution_count": 11,
     "metadata": {},
     "output_type": "execute_result"
    }
   ],
   "source": [
    "valores = [1,2,3,4,5]\n",
    "letras = ['a','b','c','d','e']\n",
    "\n",
    "nova_lista = []\n",
    "\n",
    "for i in range(len(valores)):\n",
    "    nova_lista.append(valores[i])\n",
    "    nova_lista.append(letras[i])\n",
    "\n",
    "print(nova_lista)\n",
    "len(nova_lista)\n",
    "\n"
   ]
  },
  {
   "cell_type": "markdown",
   "metadata": {},
   "source": [
    "## Exercicio 3\n",
    "\n",
    "Dado um numero inteiro faca um operador while que calcule o fatorial desse numero"
   ]
  },
  {
   "cell_type": "code",
   "execution_count": 13,
   "metadata": {},
   "outputs": [
    {
     "name": "stdout",
     "output_type": "stream",
     "text": [
      "120\n"
     ]
    }
   ],
   "source": [
    "# n! = (n) * (n-1)\n",
    "\n",
    "x = 5\n",
    "fact_x = 1\n",
    "\n",
    "if type(x) is int:\n",
    "    while x > 0:\n",
    "        fact_x *= x\n",
    "        x -= 1\n",
    "\n",
    "print(fact_x)"
   ]
  },
  {
   "cell_type": "markdown",
   "metadata": {},
   "source": [
    "## Desafio 1\n",
    "\n",
    "Crie um lista com os 50 primeiros numeros primos\n"
   ]
  },
  {
   "cell_type": "code",
   "execution_count": 18,
   "metadata": {},
   "outputs": [
    {
     "ename": "TypeError",
     "evalue": "'int' object is not iterable",
     "output_type": "error",
     "traceback": [
      "\u001b[0;31m---------------------------------------------------------------------------\u001b[0m",
      "\u001b[0;31mTypeError\u001b[0m                                 Traceback (most recent call last)",
      "Cell \u001b[0;32mIn[18], line 5\u001b[0m\n\u001b[1;32m      2\u001b[0m proximo_elemento \u001b[38;5;241m=\u001b[39m [\u001b[38;5;241m2\u001b[39m]\n\u001b[1;32m      4\u001b[0m \u001b[38;5;28;01mwhile\u001b[39;00m \u001b[38;5;28mlen\u001b[39m(lista_numeros_primos) \u001b[38;5;241m<\u001b[39m \u001b[38;5;241m50\u001b[39m:\n\u001b[0;32m----> 5\u001b[0m     proximo_elemento \u001b[38;5;241m+\u001b[39m\u001b[38;5;241m=\u001b[39m \u001b[38;5;241m1\u001b[39m\n\u001b[1;32m      6\u001b[0m     proximo_elemento_status \u001b[38;5;241m=\u001b[39m \u001b[38;5;124m\"\u001b[39m\u001b[38;5;124m\"\u001b[39m\n\u001b[1;32m      8\u001b[0m     \u001b[38;5;28;01mfor\u001b[39;00m elemento \u001b[38;5;129;01min\u001b[39;00m lista_numeros_primos:\n",
      "\u001b[0;31mTypeError\u001b[0m: 'int' object is not iterable"
     ]
    }
   ],
   "source": [
    "lista_numeros_primos = [2]\n",
    "proximo_elemento = [2]\n",
    "\n",
    "while len(lista_numeros_primos) < 50:\n",
    "    proximo_elemento += 1\n",
    "    proximo_elemento_status = \"\"\n",
    "\n",
    "    for elemento in lista_numeros_primos:\n",
    "        quociente = proximo_elemento / elemento\n",
    "        quociente_inteiro = proximo_elemento // elemento\n",
    "\n",
    "        if quociente_inteiro == quociente:\n",
    "            proximo_elemento_status = \"pula\"\n",
    "            break\n",
    "    \n",
    "    if proximo_elemento_status == \"pula\":\n",
    "        continue\n",
    "    else:\n",
    "        lista_numeros_primos.append(proximo_elemento)"
   ]
  }
 ],
 "metadata": {
  "kernelspec": {
   "display_name": "Python 3",
   "language": "python",
   "name": "python3"
  },
  "language_info": {
   "codemirror_mode": {
    "name": "ipython",
    "version": 3
   },
   "file_extension": ".py",
   "mimetype": "text/x-python",
   "name": "python",
   "nbconvert_exporter": "python",
   "pygments_lexer": "ipython3",
   "version": "3.9.18"
  }
 },
 "nbformat": 4,
 "nbformat_minor": 2
}
