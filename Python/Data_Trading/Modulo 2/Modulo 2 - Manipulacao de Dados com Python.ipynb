{
 "cells": [
  {
   "cell_type": "markdown",
   "metadata": {},
   "source": [
    "<center><img src = \"/home/chibana/Documents/GitHub/Study_Area/Python/Data_Trading/Modulo 2/Imagens/logotipo-trading-com-dados-branco.svg?raw=true\" width = \"250\">"
   ]
  },
  {
   "cell_type": "markdown",
   "metadata": {},
   "source": [
    "<center><PMF 001.png>"
   ]
  },
  {
   "cell_type": "markdown",
   "metadata": {},
   "source": [
    "<center><img src = \"/home/chibana/Documents/GitHub/Study_Area/Python/Data_Trading/Modulo 2/Imagens/PMF 001.png?raw=true\" width = \"500\">"
   ]
  },
  {
   "cell_type": "markdown",
   "metadata": {},
   "source": [
    "# **Python para Mercado Financeiro**"
   ]
  },
  {
   "cell_type": "markdown",
   "metadata": {},
   "source": [
    "O objetivo deste modulo e dar inicio ao processo de transformacao e processamento de dados utilizando a biblioteca Pandas. Assim, vamos deixar nossos dados no formato que precisamos antes de realizar as analises de mercado financeiro e construcao de estrategias. Alem disso, mostraremos como filtrar, modificar e juntar diferentes tipos de dados.\n",
    "\n",
    "Por fim, entraremos em conceitos de financas quantitativas e mostraremos como obter e manipular dados de mercado financeiro usando diferentes bibliotecas.\n",
    "\n",
    "Este modulo abrange as seguintes seccoes:\n",
    "\n",
    "**1. Nocoes basicas de obtencao e processamento de dados**\\\n",
    "**2. Manipulacao de dados**\\\n",
    "**3. Consolidacao de dataframes**\\\n",
    "**4. Financas quantitativas**\\"
   ]
  },
  {
   "cell_type": "markdown",
   "metadata": {},
   "source": [
    "### 1. Nocoes basicas da obtencao e processamento de dados"
   ]
  },
  {
   "cell_type": "code",
   "execution_count": 45,
   "metadata": {},
   "outputs": [],
   "source": [
    "import pandas as pd"
   ]
  },
  {
   "cell_type": "markdown",
   "metadata": {},
   "source": [
    "Neste modulo vamos focar nossas atencoes no poder da biblioteca pandas.\n",
    "\n",
    "Esta e a biblioteca de referencia que devemos usar quando ha necessidade de abrir arquivos como .txt, .csv, .xlsx"
   ]
  },
  {
   "cell_type": "markdown",
   "metadata": {},
   "source": [
    "#### 1.1. Obtencao de dados via arquivos"
   ]
  },
  {
   "cell_type": "markdown",
   "metadata": {},
   "source": [
    "Durante sua jornada no mundo de dados voce precisara trabalhar com diferentes tipos de arquivos e essa seccao e dedicada para a importacao desses arquivos para o ambiente de analise em python"
   ]
  },
  {
   "cell_type": "markdown",
   "metadata": {},
   "source": [
    "##### 1.1.1. Arquivos .CSV"
   ]
  },
  {
   "cell_type": "code",
   "execution_count": 46,
   "metadata": {},
   "outputs": [
    {
     "data": {
      "text/html": [
       "<div>\n",
       "<style scoped>\n",
       "    .dataframe tbody tr th:only-of-type {\n",
       "        vertical-align: middle;\n",
       "    }\n",
       "\n",
       "    .dataframe tbody tr th {\n",
       "        vertical-align: top;\n",
       "    }\n",
       "\n",
       "    .dataframe thead th {\n",
       "        text-align: right;\n",
       "    }\n",
       "</style>\n",
       "<table border=\"1\" class=\"dataframe\">\n",
       "  <thead>\n",
       "    <tr style=\"text-align: right;\">\n",
       "      <th></th>\n",
       "      <th>Date</th>\n",
       "      <th>Open</th>\n",
       "      <th>High</th>\n",
       "      <th>Low</th>\n",
       "      <th>Close</th>\n",
       "      <th>Adj Close</th>\n",
       "      <th>Volume</th>\n",
       "    </tr>\n",
       "  </thead>\n",
       "  <tbody>\n",
       "    <tr>\n",
       "      <th>0</th>\n",
       "      <td>2000-01-03</td>\n",
       "      <td>5.875000</td>\n",
       "      <td>5.875000</td>\n",
       "      <td>5.875000</td>\n",
       "      <td>5.875000</td>\n",
       "      <td>1.872027</td>\n",
       "      <td>35389440000</td>\n",
       "    </tr>\n",
       "    <tr>\n",
       "      <th>1</th>\n",
       "      <td>2000-01-04</td>\n",
       "      <td>5.550000</td>\n",
       "      <td>5.550000</td>\n",
       "      <td>5.550000</td>\n",
       "      <td>5.550000</td>\n",
       "      <td>1.768469</td>\n",
       "      <td>28861440000</td>\n",
       "    </tr>\n",
       "    <tr>\n",
       "      <th>2</th>\n",
       "      <td>2000-01-05</td>\n",
       "      <td>5.494000</td>\n",
       "      <td>5.494000</td>\n",
       "      <td>5.494000</td>\n",
       "      <td>5.494000</td>\n",
       "      <td>1.750625</td>\n",
       "      <td>43033600000</td>\n",
       "    </tr>\n",
       "    <tr>\n",
       "      <th>3</th>\n",
       "      <td>2000-01-06</td>\n",
       "      <td>5.475000</td>\n",
       "      <td>5.475000</td>\n",
       "      <td>5.475000</td>\n",
       "      <td>5.475000</td>\n",
       "      <td>1.744570</td>\n",
       "      <td>34055680000</td>\n",
       "    </tr>\n",
       "    <tr>\n",
       "      <th>4</th>\n",
       "      <td>2000-01-07</td>\n",
       "      <td>5.500000</td>\n",
       "      <td>5.500000</td>\n",
       "      <td>5.500000</td>\n",
       "      <td>5.500000</td>\n",
       "      <td>1.752536</td>\n",
       "      <td>20912640000</td>\n",
       "    </tr>\n",
       "    <tr>\n",
       "      <th>...</th>\n",
       "      <td>...</td>\n",
       "      <td>...</td>\n",
       "      <td>...</td>\n",
       "      <td>...</td>\n",
       "      <td>...</td>\n",
       "      <td>...</td>\n",
       "      <td>...</td>\n",
       "    </tr>\n",
       "    <tr>\n",
       "      <th>5765</th>\n",
       "      <td>2022-12-13</td>\n",
       "      <td>24.100000</td>\n",
       "      <td>24.200001</td>\n",
       "      <td>23.309999</td>\n",
       "      <td>23.320000</td>\n",
       "      <td>23.320000</td>\n",
       "      <td>102533100</td>\n",
       "    </tr>\n",
       "    <tr>\n",
       "      <th>5766</th>\n",
       "      <td>2022-12-14</td>\n",
       "      <td>22.500000</td>\n",
       "      <td>22.600000</td>\n",
       "      <td>20.770000</td>\n",
       "      <td>21.469999</td>\n",
       "      <td>21.469999</td>\n",
       "      <td>319501600</td>\n",
       "    </tr>\n",
       "    <tr>\n",
       "      <th>5767</th>\n",
       "      <td>2022-12-15</td>\n",
       "      <td>21.000000</td>\n",
       "      <td>22.370001</td>\n",
       "      <td>20.830000</td>\n",
       "      <td>22.040001</td>\n",
       "      <td>22.040001</td>\n",
       "      <td>132385600</td>\n",
       "    </tr>\n",
       "    <tr>\n",
       "      <th>5768</th>\n",
       "      <td>2022-12-16</td>\n",
       "      <td>21.959999</td>\n",
       "      <td>22.110001</td>\n",
       "      <td>21.510000</td>\n",
       "      <td>22.049999</td>\n",
       "      <td>22.049999</td>\n",
       "      <td>90767300</td>\n",
       "    </tr>\n",
       "    <tr>\n",
       "      <th>5769</th>\n",
       "      <td>2022-12-19</td>\n",
       "      <td>22.100000</td>\n",
       "      <td>22.469999</td>\n",
       "      <td>21.639999</td>\n",
       "      <td>22.350000</td>\n",
       "      <td>22.350000</td>\n",
       "      <td>37837300</td>\n",
       "    </tr>\n",
       "  </tbody>\n",
       "</table>\n",
       "<p>5770 rows × 7 columns</p>\n",
       "</div>"
      ],
      "text/plain": [
       "            Date       Open       High        Low      Close  Adj Close  \\\n",
       "0     2000-01-03   5.875000   5.875000   5.875000   5.875000   1.872027   \n",
       "1     2000-01-04   5.550000   5.550000   5.550000   5.550000   1.768469   \n",
       "2     2000-01-05   5.494000   5.494000   5.494000   5.494000   1.750625   \n",
       "3     2000-01-06   5.475000   5.475000   5.475000   5.475000   1.744570   \n",
       "4     2000-01-07   5.500000   5.500000   5.500000   5.500000   1.752536   \n",
       "...          ...        ...        ...        ...        ...        ...   \n",
       "5765  2022-12-13  24.100000  24.200001  23.309999  23.320000  23.320000   \n",
       "5766  2022-12-14  22.500000  22.600000  20.770000  21.469999  21.469999   \n",
       "5767  2022-12-15  21.000000  22.370001  20.830000  22.040001  22.040001   \n",
       "5768  2022-12-16  21.959999  22.110001  21.510000  22.049999  22.049999   \n",
       "5769  2022-12-19  22.100000  22.469999  21.639999  22.350000  22.350000   \n",
       "\n",
       "           Volume  \n",
       "0     35389440000  \n",
       "1     28861440000  \n",
       "2     43033600000  \n",
       "3     34055680000  \n",
       "4     20912640000  \n",
       "...           ...  \n",
       "5765    102533100  \n",
       "5766    319501600  \n",
       "5767    132385600  \n",
       "5768     90767300  \n",
       "5769     37837300  \n",
       "\n",
       "[5770 rows x 7 columns]"
      ]
     },
     "execution_count": 46,
     "metadata": {},
     "output_type": "execute_result"
    }
   ],
   "source": [
    "pd.read_csv('/home/chibana/Documents/GitHub/Study_Area/Python/Data_Trading/Modulo 2/Data/PETR4.csv')"
   ]
  },
  {
   "cell_type": "code",
   "execution_count": 47,
   "metadata": {},
   "outputs": [],
   "source": [
    "petr = pd.read_csv('/home/chibana/Documents/GitHub/Study_Area/Python/Data_Trading/Modulo 2/Data/PETR4.csv')"
   ]
  },
  {
   "cell_type": "code",
   "execution_count": 48,
   "metadata": {},
   "outputs": [
    {
     "data": {
      "text/html": [
       "<div>\n",
       "<style scoped>\n",
       "    .dataframe tbody tr th:only-of-type {\n",
       "        vertical-align: middle;\n",
       "    }\n",
       "\n",
       "    .dataframe tbody tr th {\n",
       "        vertical-align: top;\n",
       "    }\n",
       "\n",
       "    .dataframe thead th {\n",
       "        text-align: right;\n",
       "    }\n",
       "</style>\n",
       "<table border=\"1\" class=\"dataframe\">\n",
       "  <thead>\n",
       "    <tr style=\"text-align: right;\">\n",
       "      <th></th>\n",
       "      <th>Date</th>\n",
       "      <th>Open</th>\n",
       "      <th>High</th>\n",
       "      <th>Low</th>\n",
       "      <th>Close</th>\n",
       "      <th>Adj Close</th>\n",
       "      <th>Volume</th>\n",
       "    </tr>\n",
       "  </thead>\n",
       "  <tbody>\n",
       "    <tr>\n",
       "      <th>0</th>\n",
       "      <td>2000-01-03</td>\n",
       "      <td>5.875000</td>\n",
       "      <td>5.875000</td>\n",
       "      <td>5.875000</td>\n",
       "      <td>5.875000</td>\n",
       "      <td>1.872027</td>\n",
       "      <td>35389440000</td>\n",
       "    </tr>\n",
       "    <tr>\n",
       "      <th>1</th>\n",
       "      <td>2000-01-04</td>\n",
       "      <td>5.550000</td>\n",
       "      <td>5.550000</td>\n",
       "      <td>5.550000</td>\n",
       "      <td>5.550000</td>\n",
       "      <td>1.768469</td>\n",
       "      <td>28861440000</td>\n",
       "    </tr>\n",
       "    <tr>\n",
       "      <th>2</th>\n",
       "      <td>2000-01-05</td>\n",
       "      <td>5.494000</td>\n",
       "      <td>5.494000</td>\n",
       "      <td>5.494000</td>\n",
       "      <td>5.494000</td>\n",
       "      <td>1.750625</td>\n",
       "      <td>43033600000</td>\n",
       "    </tr>\n",
       "    <tr>\n",
       "      <th>3</th>\n",
       "      <td>2000-01-06</td>\n",
       "      <td>5.475000</td>\n",
       "      <td>5.475000</td>\n",
       "      <td>5.475000</td>\n",
       "      <td>5.475000</td>\n",
       "      <td>1.744570</td>\n",
       "      <td>34055680000</td>\n",
       "    </tr>\n",
       "    <tr>\n",
       "      <th>4</th>\n",
       "      <td>2000-01-07</td>\n",
       "      <td>5.500000</td>\n",
       "      <td>5.500000</td>\n",
       "      <td>5.500000</td>\n",
       "      <td>5.500000</td>\n",
       "      <td>1.752536</td>\n",
       "      <td>20912640000</td>\n",
       "    </tr>\n",
       "    <tr>\n",
       "      <th>...</th>\n",
       "      <td>...</td>\n",
       "      <td>...</td>\n",
       "      <td>...</td>\n",
       "      <td>...</td>\n",
       "      <td>...</td>\n",
       "      <td>...</td>\n",
       "      <td>...</td>\n",
       "    </tr>\n",
       "    <tr>\n",
       "      <th>5765</th>\n",
       "      <td>2022-12-13</td>\n",
       "      <td>24.100000</td>\n",
       "      <td>24.200001</td>\n",
       "      <td>23.309999</td>\n",
       "      <td>23.320000</td>\n",
       "      <td>23.320000</td>\n",
       "      <td>102533100</td>\n",
       "    </tr>\n",
       "    <tr>\n",
       "      <th>5766</th>\n",
       "      <td>2022-12-14</td>\n",
       "      <td>22.500000</td>\n",
       "      <td>22.600000</td>\n",
       "      <td>20.770000</td>\n",
       "      <td>21.469999</td>\n",
       "      <td>21.469999</td>\n",
       "      <td>319501600</td>\n",
       "    </tr>\n",
       "    <tr>\n",
       "      <th>5767</th>\n",
       "      <td>2022-12-15</td>\n",
       "      <td>21.000000</td>\n",
       "      <td>22.370001</td>\n",
       "      <td>20.830000</td>\n",
       "      <td>22.040001</td>\n",
       "      <td>22.040001</td>\n",
       "      <td>132385600</td>\n",
       "    </tr>\n",
       "    <tr>\n",
       "      <th>5768</th>\n",
       "      <td>2022-12-16</td>\n",
       "      <td>21.959999</td>\n",
       "      <td>22.110001</td>\n",
       "      <td>21.510000</td>\n",
       "      <td>22.049999</td>\n",
       "      <td>22.049999</td>\n",
       "      <td>90767300</td>\n",
       "    </tr>\n",
       "    <tr>\n",
       "      <th>5769</th>\n",
       "      <td>2022-12-19</td>\n",
       "      <td>22.100000</td>\n",
       "      <td>22.469999</td>\n",
       "      <td>21.639999</td>\n",
       "      <td>22.350000</td>\n",
       "      <td>22.350000</td>\n",
       "      <td>37837300</td>\n",
       "    </tr>\n",
       "  </tbody>\n",
       "</table>\n",
       "<p>5770 rows × 7 columns</p>\n",
       "</div>"
      ],
      "text/plain": [
       "            Date       Open       High        Low      Close  Adj Close  \\\n",
       "0     2000-01-03   5.875000   5.875000   5.875000   5.875000   1.872027   \n",
       "1     2000-01-04   5.550000   5.550000   5.550000   5.550000   1.768469   \n",
       "2     2000-01-05   5.494000   5.494000   5.494000   5.494000   1.750625   \n",
       "3     2000-01-06   5.475000   5.475000   5.475000   5.475000   1.744570   \n",
       "4     2000-01-07   5.500000   5.500000   5.500000   5.500000   1.752536   \n",
       "...          ...        ...        ...        ...        ...        ...   \n",
       "5765  2022-12-13  24.100000  24.200001  23.309999  23.320000  23.320000   \n",
       "5766  2022-12-14  22.500000  22.600000  20.770000  21.469999  21.469999   \n",
       "5767  2022-12-15  21.000000  22.370001  20.830000  22.040001  22.040001   \n",
       "5768  2022-12-16  21.959999  22.110001  21.510000  22.049999  22.049999   \n",
       "5769  2022-12-19  22.100000  22.469999  21.639999  22.350000  22.350000   \n",
       "\n",
       "           Volume  \n",
       "0     35389440000  \n",
       "1     28861440000  \n",
       "2     43033600000  \n",
       "3     34055680000  \n",
       "4     20912640000  \n",
       "...           ...  \n",
       "5765    102533100  \n",
       "5766    319501600  \n",
       "5767    132385600  \n",
       "5768     90767300  \n",
       "5769     37837300  \n",
       "\n",
       "[5770 rows x 7 columns]"
      ]
     },
     "execution_count": 48,
     "metadata": {},
     "output_type": "execute_result"
    }
   ],
   "source": [
    "petr"
   ]
  },
  {
   "cell_type": "code",
   "execution_count": 49,
   "metadata": {},
   "outputs": [
    {
     "data": {
      "text/plain": [
       "pandas.core.frame.DataFrame"
      ]
     },
     "execution_count": 49,
     "metadata": {},
     "output_type": "execute_result"
    }
   ],
   "source": [
    "type(petr)"
   ]
  },
  {
   "cell_type": "code",
   "execution_count": 50,
   "metadata": {},
   "outputs": [
    {
     "data": {
      "text/html": [
       "<div>\n",
       "<style scoped>\n",
       "    .dataframe tbody tr th:only-of-type {\n",
       "        vertical-align: middle;\n",
       "    }\n",
       "\n",
       "    .dataframe tbody tr th {\n",
       "        vertical-align: top;\n",
       "    }\n",
       "\n",
       "    .dataframe thead th {\n",
       "        text-align: right;\n",
       "    }\n",
       "</style>\n",
       "<table border=\"1\" class=\"dataframe\">\n",
       "  <thead>\n",
       "    <tr style=\"text-align: right;\">\n",
       "      <th></th>\n",
       "      <th>Date</th>\n",
       "      <th>Open</th>\n",
       "      <th>High</th>\n",
       "      <th>Low</th>\n",
       "      <th>Close</th>\n",
       "      <th>Adj Close</th>\n",
       "      <th>Volume</th>\n",
       "    </tr>\n",
       "  </thead>\n",
       "  <tbody>\n",
       "    <tr>\n",
       "      <th>0</th>\n",
       "      <td>2000-01-03</td>\n",
       "      <td>5.875</td>\n",
       "      <td>5.875</td>\n",
       "      <td>5.875</td>\n",
       "      <td>5.875</td>\n",
       "      <td>1.872027</td>\n",
       "      <td>35389440000</td>\n",
       "    </tr>\n",
       "    <tr>\n",
       "      <th>1</th>\n",
       "      <td>2000-01-04</td>\n",
       "      <td>5.550</td>\n",
       "      <td>5.550</td>\n",
       "      <td>5.550</td>\n",
       "      <td>5.550</td>\n",
       "      <td>1.768469</td>\n",
       "      <td>28861440000</td>\n",
       "    </tr>\n",
       "    <tr>\n",
       "      <th>2</th>\n",
       "      <td>2000-01-05</td>\n",
       "      <td>5.494</td>\n",
       "      <td>5.494</td>\n",
       "      <td>5.494</td>\n",
       "      <td>5.494</td>\n",
       "      <td>1.750625</td>\n",
       "      <td>43033600000</td>\n",
       "    </tr>\n",
       "    <tr>\n",
       "      <th>3</th>\n",
       "      <td>2000-01-06</td>\n",
       "      <td>5.475</td>\n",
       "      <td>5.475</td>\n",
       "      <td>5.475</td>\n",
       "      <td>5.475</td>\n",
       "      <td>1.744570</td>\n",
       "      <td>34055680000</td>\n",
       "    </tr>\n",
       "    <tr>\n",
       "      <th>4</th>\n",
       "      <td>2000-01-07</td>\n",
       "      <td>5.500</td>\n",
       "      <td>5.500</td>\n",
       "      <td>5.500</td>\n",
       "      <td>5.500</td>\n",
       "      <td>1.752536</td>\n",
       "      <td>20912640000</td>\n",
       "    </tr>\n",
       "  </tbody>\n",
       "</table>\n",
       "</div>"
      ],
      "text/plain": [
       "         Date   Open   High    Low  Close  Adj Close       Volume\n",
       "0  2000-01-03  5.875  5.875  5.875  5.875   1.872027  35389440000\n",
       "1  2000-01-04  5.550  5.550  5.550  5.550   1.768469  28861440000\n",
       "2  2000-01-05  5.494  5.494  5.494  5.494   1.750625  43033600000\n",
       "3  2000-01-06  5.475  5.475  5.475  5.475   1.744570  34055680000\n",
       "4  2000-01-07  5.500  5.500  5.500  5.500   1.752536  20912640000"
      ]
     },
     "execution_count": 50,
     "metadata": {},
     "output_type": "execute_result"
    }
   ],
   "source": [
    "petr.head()"
   ]
  },
  {
   "cell_type": "code",
   "execution_count": 51,
   "metadata": {},
   "outputs": [
    {
     "data": {
      "text/html": [
       "<div>\n",
       "<style scoped>\n",
       "    .dataframe tbody tr th:only-of-type {\n",
       "        vertical-align: middle;\n",
       "    }\n",
       "\n",
       "    .dataframe tbody tr th {\n",
       "        vertical-align: top;\n",
       "    }\n",
       "\n",
       "    .dataframe thead th {\n",
       "        text-align: right;\n",
       "    }\n",
       "</style>\n",
       "<table border=\"1\" class=\"dataframe\">\n",
       "  <thead>\n",
       "    <tr style=\"text-align: right;\">\n",
       "      <th></th>\n",
       "      <th>Date</th>\n",
       "      <th>Open</th>\n",
       "      <th>High</th>\n",
       "      <th>Low</th>\n",
       "      <th>Close</th>\n",
       "      <th>Adj Close</th>\n",
       "      <th>Volume</th>\n",
       "    </tr>\n",
       "  </thead>\n",
       "  <tbody>\n",
       "    <tr>\n",
       "      <th>5765</th>\n",
       "      <td>2022-12-13</td>\n",
       "      <td>24.100000</td>\n",
       "      <td>24.200001</td>\n",
       "      <td>23.309999</td>\n",
       "      <td>23.320000</td>\n",
       "      <td>23.320000</td>\n",
       "      <td>102533100</td>\n",
       "    </tr>\n",
       "    <tr>\n",
       "      <th>5766</th>\n",
       "      <td>2022-12-14</td>\n",
       "      <td>22.500000</td>\n",
       "      <td>22.600000</td>\n",
       "      <td>20.770000</td>\n",
       "      <td>21.469999</td>\n",
       "      <td>21.469999</td>\n",
       "      <td>319501600</td>\n",
       "    </tr>\n",
       "    <tr>\n",
       "      <th>5767</th>\n",
       "      <td>2022-12-15</td>\n",
       "      <td>21.000000</td>\n",
       "      <td>22.370001</td>\n",
       "      <td>20.830000</td>\n",
       "      <td>22.040001</td>\n",
       "      <td>22.040001</td>\n",
       "      <td>132385600</td>\n",
       "    </tr>\n",
       "    <tr>\n",
       "      <th>5768</th>\n",
       "      <td>2022-12-16</td>\n",
       "      <td>21.959999</td>\n",
       "      <td>22.110001</td>\n",
       "      <td>21.510000</td>\n",
       "      <td>22.049999</td>\n",
       "      <td>22.049999</td>\n",
       "      <td>90767300</td>\n",
       "    </tr>\n",
       "    <tr>\n",
       "      <th>5769</th>\n",
       "      <td>2022-12-19</td>\n",
       "      <td>22.100000</td>\n",
       "      <td>22.469999</td>\n",
       "      <td>21.639999</td>\n",
       "      <td>22.350000</td>\n",
       "      <td>22.350000</td>\n",
       "      <td>37837300</td>\n",
       "    </tr>\n",
       "  </tbody>\n",
       "</table>\n",
       "</div>"
      ],
      "text/plain": [
       "            Date       Open       High        Low      Close  Adj Close  \\\n",
       "5765  2022-12-13  24.100000  24.200001  23.309999  23.320000  23.320000   \n",
       "5766  2022-12-14  22.500000  22.600000  20.770000  21.469999  21.469999   \n",
       "5767  2022-12-15  21.000000  22.370001  20.830000  22.040001  22.040001   \n",
       "5768  2022-12-16  21.959999  22.110001  21.510000  22.049999  22.049999   \n",
       "5769  2022-12-19  22.100000  22.469999  21.639999  22.350000  22.350000   \n",
       "\n",
       "         Volume  \n",
       "5765  102533100  \n",
       "5766  319501600  \n",
       "5767  132385600  \n",
       "5768   90767300  \n",
       "5769   37837300  "
      ]
     },
     "execution_count": 51,
     "metadata": {},
     "output_type": "execute_result"
    }
   ],
   "source": [
    "petr.tail()"
   ]
  },
  {
   "cell_type": "code",
   "execution_count": 52,
   "metadata": {},
   "outputs": [
    {
     "data": {
      "image/png": "[encoded data removed]",
      "text/plain": [
       "<Figure size 640x480 with 1 Axes>"
      ]
     },
     "metadata": {},
     "output_type": "display_data"
    }
   ],
   "source": [
    "petr['Close'].plot();"
   ]
  },
  {
   "cell_type": "markdown",
   "metadata": {},
   "source": [
    "##### 1.1.2. Arquivos .txt"
   ]
  },
  {
   "cell_type": "code",
   "execution_count": 53,
   "metadata": {},
   "outputs": [],
   "source": [
    "data = pd.read_csv('/home/chibana/Documents/GitHub/Study_Area/Python/Data_Trading/Modulo 2/Data/PETR4.txt')"
   ]
  },
  {
   "cell_type": "code",
   "execution_count": 54,
   "metadata": {},
   "outputs": [
    {
     "data": {
      "text/html": [
       "<div>\n",
       "<style scoped>\n",
       "    .dataframe tbody tr th:only-of-type {\n",
       "        vertical-align: middle;\n",
       "    }\n",
       "\n",
       "    .dataframe tbody tr th {\n",
       "        vertical-align: top;\n",
       "    }\n",
       "\n",
       "    .dataframe thead th {\n",
       "        text-align: right;\n",
       "    }\n",
       "</style>\n",
       "<table border=\"1\" class=\"dataframe\">\n",
       "  <thead>\n",
       "    <tr style=\"text-align: right;\">\n",
       "      <th></th>\n",
       "      <th>Date</th>\n",
       "      <th>Open</th>\n",
       "      <th>High</th>\n",
       "      <th>Low</th>\n",
       "      <th>Close</th>\n",
       "      <th>Adj Close</th>\n",
       "      <th>Volume</th>\n",
       "    </tr>\n",
       "  </thead>\n",
       "  <tbody>\n",
       "    <tr>\n",
       "      <th>0</th>\n",
       "      <td>2000-01-03</td>\n",
       "      <td>5.875</td>\n",
       "      <td>5.875</td>\n",
       "      <td>5.875</td>\n",
       "      <td>5.875</td>\n",
       "      <td>1.872027</td>\n",
       "      <td>35389440000</td>\n",
       "    </tr>\n",
       "    <tr>\n",
       "      <th>1</th>\n",
       "      <td>2000-01-04</td>\n",
       "      <td>5.550</td>\n",
       "      <td>5.550</td>\n",
       "      <td>5.550</td>\n",
       "      <td>5.550</td>\n",
       "      <td>1.768469</td>\n",
       "      <td>28861440000</td>\n",
       "    </tr>\n",
       "    <tr>\n",
       "      <th>2</th>\n",
       "      <td>2000-01-05</td>\n",
       "      <td>5.494</td>\n",
       "      <td>5.494</td>\n",
       "      <td>5.494</td>\n",
       "      <td>5.494</td>\n",
       "      <td>1.750625</td>\n",
       "      <td>43033600000</td>\n",
       "    </tr>\n",
       "    <tr>\n",
       "      <th>3</th>\n",
       "      <td>2000-01-06</td>\n",
       "      <td>5.475</td>\n",
       "      <td>5.475</td>\n",
       "      <td>5.475</td>\n",
       "      <td>5.475</td>\n",
       "      <td>1.744570</td>\n",
       "      <td>34055680000</td>\n",
       "    </tr>\n",
       "    <tr>\n",
       "      <th>4</th>\n",
       "      <td>2000-01-07</td>\n",
       "      <td>5.500</td>\n",
       "      <td>5.500</td>\n",
       "      <td>5.500</td>\n",
       "      <td>5.500</td>\n",
       "      <td>1.752536</td>\n",
       "      <td>20912640000</td>\n",
       "    </tr>\n",
       "  </tbody>\n",
       "</table>\n",
       "</div>"
      ],
      "text/plain": [
       "         Date   Open   High    Low  Close  Adj Close       Volume\n",
       "0  2000-01-03  5.875  5.875  5.875  5.875   1.872027  35389440000\n",
       "1  2000-01-04  5.550  5.550  5.550  5.550   1.768469  28861440000\n",
       "2  2000-01-05  5.494  5.494  5.494  5.494   1.750625  43033600000\n",
       "3  2000-01-06  5.475  5.475  5.475  5.475   1.744570  34055680000\n",
       "4  2000-01-07  5.500  5.500  5.500  5.500   1.752536  20912640000"
      ]
     },
     "execution_count": 54,
     "metadata": {},
     "output_type": "execute_result"
    }
   ],
   "source": [
    "data.head()"
   ]
  },
  {
   "cell_type": "markdown",
   "metadata": {},
   "source": [
    "**Estrutura de dataframes**\n",
    "\n",
    "As linhas e colunas representam um formato relaciona.\\\n",
    "As colunas e linhas podem ser nomeadas com rotulos.\n"
   ]
  },
  {
   "cell_type": "markdown",
   "metadata": {},
   "source": [
    "<center><img src = \"/home/chibana/Documents/GitHub/Study_Area/Python/Data_Trading/Modulo 2/Imagens/dataframe.png?raw=true\" width = \"500\">"
   ]
  },
  {
   "cell_type": "code",
   "execution_count": 55,
   "metadata": {},
   "outputs": [
    {
     "data": {
      "text/plain": [
       "0       2000-01-03\n",
       "1       2000-01-04\n",
       "2       2000-01-05\n",
       "3       2000-01-06\n",
       "4       2000-01-07\n",
       "           ...    \n",
       "5765    2022-12-13\n",
       "5766    2022-12-14\n",
       "5767    2022-12-15\n",
       "5768    2022-12-16\n",
       "5769    2022-12-19\n",
       "Name: Date, Length: 5770, dtype: object"
      ]
     },
     "execution_count": 55,
     "metadata": {},
     "output_type": "execute_result"
    }
   ],
   "source": [
    "# Formato da data nao reconhecido (dtype: object)\n",
    "\n",
    "data['Date']"
   ]
  },
  {
   "cell_type": "code",
   "execution_count": 56,
   "metadata": {},
   "outputs": [
    {
     "data": {
      "text/plain": [
       "Date          object\n",
       "Open         float64\n",
       "High         float64\n",
       "Low          float64\n",
       "Close        float64\n",
       "Adj Close    float64\n",
       "Volume         int64\n",
       "dtype: object"
      ]
     },
     "execution_count": 56,
     "metadata": {},
     "output_type": "execute_result"
    }
   ],
   "source": [
    "data.dtypes"
   ]
  },
  {
   "cell_type": "code",
   "execution_count": 57,
   "metadata": {},
   "outputs": [],
   "source": [
    "data['Date'] = pd.to_datetime(data['Date'])"
   ]
  },
  {
   "cell_type": "markdown",
   "metadata": {},
   "source": [
    "Como transformar a coluna 'Date' no index do dataframe"
   ]
  },
  {
   "cell_type": "code",
   "execution_count": 58,
   "metadata": {},
   "outputs": [],
   "source": [
    "data.index = data['Date']"
   ]
  },
  {
   "cell_type": "code",
   "execution_count": 59,
   "metadata": {},
   "outputs": [
    {
     "data": {
      "text/html": [
       "<div>\n",
       "<style scoped>\n",
       "    .dataframe tbody tr th:only-of-type {\n",
       "        vertical-align: middle;\n",
       "    }\n",
       "\n",
       "    .dataframe tbody tr th {\n",
       "        vertical-align: top;\n",
       "    }\n",
       "\n",
       "    .dataframe thead th {\n",
       "        text-align: right;\n",
       "    }\n",
       "</style>\n",
       "<table border=\"1\" class=\"dataframe\">\n",
       "  <thead>\n",
       "    <tr style=\"text-align: right;\">\n",
       "      <th></th>\n",
       "      <th>Date</th>\n",
       "      <th>Open</th>\n",
       "      <th>High</th>\n",
       "      <th>Low</th>\n",
       "      <th>Close</th>\n",
       "      <th>Adj Close</th>\n",
       "      <th>Volume</th>\n",
       "    </tr>\n",
       "    <tr>\n",
       "      <th>Date</th>\n",
       "      <th></th>\n",
       "      <th></th>\n",
       "      <th></th>\n",
       "      <th></th>\n",
       "      <th></th>\n",
       "      <th></th>\n",
       "      <th></th>\n",
       "    </tr>\n",
       "  </thead>\n",
       "  <tbody>\n",
       "    <tr>\n",
       "      <th>2000-01-03</th>\n",
       "      <td>2000-01-03</td>\n",
       "      <td>5.875</td>\n",
       "      <td>5.875</td>\n",
       "      <td>5.875</td>\n",
       "      <td>5.875</td>\n",
       "      <td>1.872027</td>\n",
       "      <td>35389440000</td>\n",
       "    </tr>\n",
       "    <tr>\n",
       "      <th>2000-01-04</th>\n",
       "      <td>2000-01-04</td>\n",
       "      <td>5.550</td>\n",
       "      <td>5.550</td>\n",
       "      <td>5.550</td>\n",
       "      <td>5.550</td>\n",
       "      <td>1.768469</td>\n",
       "      <td>28861440000</td>\n",
       "    </tr>\n",
       "    <tr>\n",
       "      <th>2000-01-05</th>\n",
       "      <td>2000-01-05</td>\n",
       "      <td>5.494</td>\n",
       "      <td>5.494</td>\n",
       "      <td>5.494</td>\n",
       "      <td>5.494</td>\n",
       "      <td>1.750625</td>\n",
       "      <td>43033600000</td>\n",
       "    </tr>\n",
       "    <tr>\n",
       "      <th>2000-01-06</th>\n",
       "      <td>2000-01-06</td>\n",
       "      <td>5.475</td>\n",
       "      <td>5.475</td>\n",
       "      <td>5.475</td>\n",
       "      <td>5.475</td>\n",
       "      <td>1.744570</td>\n",
       "      <td>34055680000</td>\n",
       "    </tr>\n",
       "    <tr>\n",
       "      <th>2000-01-07</th>\n",
       "      <td>2000-01-07</td>\n",
       "      <td>5.500</td>\n",
       "      <td>5.500</td>\n",
       "      <td>5.500</td>\n",
       "      <td>5.500</td>\n",
       "      <td>1.752536</td>\n",
       "      <td>20912640000</td>\n",
       "    </tr>\n",
       "  </tbody>\n",
       "</table>\n",
       "</div>"
      ],
      "text/plain": [
       "                 Date   Open   High    Low  Close  Adj Close       Volume\n",
       "Date                                                                     \n",
       "2000-01-03 2000-01-03  5.875  5.875  5.875  5.875   1.872027  35389440000\n",
       "2000-01-04 2000-01-04  5.550  5.550  5.550  5.550   1.768469  28861440000\n",
       "2000-01-05 2000-01-05  5.494  5.494  5.494  5.494   1.750625  43033600000\n",
       "2000-01-06 2000-01-06  5.475  5.475  5.475  5.475   1.744570  34055680000\n",
       "2000-01-07 2000-01-07  5.500  5.500  5.500  5.500   1.752536  20912640000"
      ]
     },
     "execution_count": 59,
     "metadata": {},
     "output_type": "execute_result"
    }
   ],
   "source": [
    "data.head()"
   ]
  },
  {
   "cell_type": "code",
   "execution_count": 60,
   "metadata": {},
   "outputs": [
    {
     "data": {
      "image/png": "[encoded data removed]",
      "text/plain": [
       "<Figure size 640x480 with 1 Axes>"
      ]
     },
     "metadata": {},
     "output_type": "display_data"
    }
   ],
   "source": [
    "data.Close.plot();"
   ]
  },
  {
   "cell_type": "markdown",
   "metadata": {},
   "source": [
    "Verificar o nome das colunas"
   ]
  },
  {
   "cell_type": "code",
   "execution_count": 61,
   "metadata": {},
   "outputs": [
    {
     "data": {
      "text/plain": [
       "Index(['Date', 'Open', 'High', 'Low', 'Close', 'Adj Close', 'Volume'], dtype='object')"
      ]
     },
     "execution_count": 61,
     "metadata": {},
     "output_type": "execute_result"
    }
   ],
   "source": [
    "data.columns"
   ]
  },
  {
   "cell_type": "code",
   "execution_count": 62,
   "metadata": {},
   "outputs": [],
   "source": [
    "lista = data.columns"
   ]
  },
  {
   "cell_type": "markdown",
   "metadata": {},
   "source": [
    "Verifica as dimensoes do data frame"
   ]
  },
  {
   "cell_type": "code",
   "execution_count": 63,
   "metadata": {},
   "outputs": [
    {
     "data": {
      "text/plain": [
       "(5770, 7)"
      ]
     },
     "execution_count": 63,
     "metadata": {},
     "output_type": "execute_result"
    }
   ],
   "source": [
    "data.shape"
   ]
  },
  {
   "cell_type": "markdown",
   "metadata": {},
   "source": [
    "Verifica os tipos de dados por coluna"
   ]
  },
  {
   "cell_type": "code",
   "execution_count": 64,
   "metadata": {},
   "outputs": [
    {
     "data": {
      "text/plain": [
       "Date         datetime64[ns]\n",
       "Open                float64\n",
       "High                float64\n",
       "Low                 float64\n",
       "Close               float64\n",
       "Adj Close           float64\n",
       "Volume                int64\n",
       "dtype: object"
      ]
     },
     "execution_count": 64,
     "metadata": {},
     "output_type": "execute_result"
    }
   ],
   "source": [
    "data.dtypes"
   ]
  },
  {
   "cell_type": "markdown",
   "metadata": {},
   "source": [
    "Qual foi o valor maximo de PETR4"
   ]
  },
  {
   "cell_type": "code",
   "execution_count": 65,
   "metadata": {},
   "outputs": [
    {
     "data": {
      "text/plain": [
       "52.5099983215332"
      ]
     },
     "execution_count": 65,
     "metadata": {},
     "output_type": "execute_result"
    }
   ],
   "source": [
    "data.Close.max()"
   ]
  },
  {
   "cell_type": "markdown",
   "metadata": {},
   "source": [
    "Valor minimo da coluna"
   ]
  },
  {
   "cell_type": "code",
   "execution_count": 66,
   "metadata": {},
   "outputs": [
    {
     "data": {
      "text/plain": [
       "4.199999809265137"
      ]
     },
     "execution_count": 66,
     "metadata": {},
     "output_type": "execute_result"
    }
   ],
   "source": [
    "data.Close.min()"
   ]
  },
  {
   "cell_type": "markdown",
   "metadata": {},
   "source": [
    "Podemos fazer isso para outras colunas"
   ]
  },
  {
   "cell_type": "code",
   "execution_count": 67,
   "metadata": {},
   "outputs": [
    {
     "data": {
      "text/plain": [
       "67.5"
      ]
     },
     "execution_count": 67,
     "metadata": {},
     "output_type": "execute_result"
    }
   ],
   "source": [
    "data.High.max()"
   ]
  },
  {
   "cell_type": "code",
   "execution_count": 68,
   "metadata": {},
   "outputs": [
    {
     "data": {
      "text/plain": [
       "4.269999980926514"
      ]
     },
     "execution_count": 68,
     "metadata": {},
     "output_type": "execute_result"
    }
   ],
   "source": [
    "data.High.min()"
   ]
  },
  {
   "cell_type": "markdown",
   "metadata": {},
   "source": [
    "Valor medio de uma coluna"
   ]
  },
  {
   "cell_type": "code",
   "execution_count": 69,
   "metadata": {},
   "outputs": [
    {
     "data": {
      "text/plain": [
       "18.983105641882382"
      ]
     },
     "execution_count": 69,
     "metadata": {},
     "output_type": "execute_result"
    }
   ],
   "source": [
    "data.Close.mean()"
   ]
  },
  {
   "cell_type": "markdown",
   "metadata": {},
   "source": [
    "Mediana de uma coluna"
   ]
  },
  {
   "cell_type": "code",
   "execution_count": 70,
   "metadata": {},
   "outputs": [
    {
     "data": {
      "text/plain": [
       "19.255000114440918"
      ]
     },
     "execution_count": 70,
     "metadata": {},
     "output_type": "execute_result"
    }
   ],
   "source": [
    "data.Close.median()"
   ]
  },
  {
   "cell_type": "markdown",
   "metadata": {},
   "source": [
    "Valor da moda"
   ]
  },
  {
   "cell_type": "code",
   "execution_count": 71,
   "metadata": {},
   "outputs": [
    {
     "data": {
      "text/plain": [
       "0    23.5\n",
       "Name: Close, dtype: float64"
      ]
     },
     "execution_count": 71,
     "metadata": {},
     "output_type": "execute_result"
    }
   ],
   "source": [
    "data.Close.mode()"
   ]
  },
  {
   "cell_type": "markdown",
   "metadata": {},
   "source": [
    "Valor da variancia"
   ]
  },
  {
   "cell_type": "code",
   "execution_count": 72,
   "metadata": {},
   "outputs": [
    {
     "data": {
      "text/plain": [
       "91.58168462628566"
      ]
     },
     "execution_count": 72,
     "metadata": {},
     "output_type": "execute_result"
    }
   ],
   "source": [
    "data.Close.var()"
   ]
  },
  {
   "cell_type": "markdown",
   "metadata": {},
   "source": [
    "Valor do desvio padrao"
   ]
  },
  {
   "cell_type": "code",
   "execution_count": 44,
   "metadata": {},
   "outputs": [
    {
     "data": {
      "text/plain": [
       "9.56983200616843"
      ]
     },
     "execution_count": 44,
     "metadata": {},
     "output_type": "execute_result"
    }
   ],
   "source": [
    "data.Close.std()"
   ]
  },
  {
   "cell_type": "markdown",
   "metadata": {},
   "source": [
    "#### Metodo pct_change( )"
   ]
  },
  {
   "cell_type": "code",
   "execution_count": 74,
   "metadata": {},
   "outputs": [],
   "source": [
    "retornos = data.Close.pct_change()"
   ]
  },
  {
   "cell_type": "code",
   "execution_count": 75,
   "metadata": {},
   "outputs": [
    {
     "data": {
      "text/plain": [
       "Date\n",
       "2000-01-03         NaN\n",
       "2000-01-04   -0.055319\n",
       "2000-01-05   -0.010090\n",
       "2000-01-06   -0.003458\n",
       "2000-01-07    0.004566\n",
       "                ...   \n",
       "2022-12-13   -0.024676\n",
       "2022-12-14   -0.079331\n",
       "2022-12-15    0.026549\n",
       "2022-12-16    0.000454\n",
       "2022-12-19    0.013605\n",
       "Name: Close, Length: 5770, dtype: float64"
      ]
     },
     "execution_count": 75,
     "metadata": {},
     "output_type": "execute_result"
    }
   ],
   "source": [
    "retornos"
   ]
  },
  {
   "cell_type": "markdown",
   "metadata": {},
   "source": [
    "Desvio padrao dos retornos"
   ]
  },
  {
   "cell_type": "code",
   "execution_count": 79,
   "metadata": {},
   "outputs": [
    {
     "data": {
      "text/plain": [
       "0.027025810844933572"
      ]
     },
     "execution_count": 79,
     "metadata": {},
     "output_type": "execute_result"
    }
   ],
   "source": [
    "retornos.std()"
   ]
  },
  {
   "cell_type": "markdown",
   "metadata": {},
   "source": [
    "Fiquem atentos quanto a diferenca de Series com DataFrames"
   ]
  },
  {
   "cell_type": "code",
   "execution_count": 80,
   "metadata": {},
   "outputs": [
    {
     "data": {
      "text/plain": [
       "pandas.core.series.Series"
      ]
     },
     "execution_count": 80,
     "metadata": {},
     "output_type": "execute_result"
    }
   ],
   "source": [
    "type(retornos)"
   ]
  },
  {
   "cell_type": "code",
   "execution_count": 81,
   "metadata": {},
   "outputs": [],
   "source": [
    "retornos_df = pd.DataFrame(retornos)"
   ]
  },
  {
   "cell_type": "code",
   "execution_count": 82,
   "metadata": {},
   "outputs": [
    {
     "data": {
      "text/html": [
       "<div>\n",
       "<style scoped>\n",
       "    .dataframe tbody tr th:only-of-type {\n",
       "        vertical-align: middle;\n",
       "    }\n",
       "\n",
       "    .dataframe tbody tr th {\n",
       "        vertical-align: top;\n",
       "    }\n",
       "\n",
       "    .dataframe thead th {\n",
       "        text-align: right;\n",
       "    }\n",
       "</style>\n",
       "<table border=\"1\" class=\"dataframe\">\n",
       "  <thead>\n",
       "    <tr style=\"text-align: right;\">\n",
       "      <th></th>\n",
       "      <th>Close</th>\n",
       "    </tr>\n",
       "    <tr>\n",
       "      <th>Date</th>\n",
       "      <th></th>\n",
       "    </tr>\n",
       "  </thead>\n",
       "  <tbody>\n",
       "    <tr>\n",
       "      <th>2000-01-03</th>\n",
       "      <td>NaN</td>\n",
       "    </tr>\n",
       "    <tr>\n",
       "      <th>2000-01-04</th>\n",
       "      <td>-0.055319</td>\n",
       "    </tr>\n",
       "    <tr>\n",
       "      <th>2000-01-05</th>\n",
       "      <td>-0.010090</td>\n",
       "    </tr>\n",
       "    <tr>\n",
       "      <th>2000-01-06</th>\n",
       "      <td>-0.003458</td>\n",
       "    </tr>\n",
       "    <tr>\n",
       "      <th>2000-01-07</th>\n",
       "      <td>0.004566</td>\n",
       "    </tr>\n",
       "    <tr>\n",
       "      <th>...</th>\n",
       "      <td>...</td>\n",
       "    </tr>\n",
       "    <tr>\n",
       "      <th>2022-12-13</th>\n",
       "      <td>-0.024676</td>\n",
       "    </tr>\n",
       "    <tr>\n",
       "      <th>2022-12-14</th>\n",
       "      <td>-0.079331</td>\n",
       "    </tr>\n",
       "    <tr>\n",
       "      <th>2022-12-15</th>\n",
       "      <td>0.026549</td>\n",
       "    </tr>\n",
       "    <tr>\n",
       "      <th>2022-12-16</th>\n",
       "      <td>0.000454</td>\n",
       "    </tr>\n",
       "    <tr>\n",
       "      <th>2022-12-19</th>\n",
       "      <td>0.013605</td>\n",
       "    </tr>\n",
       "  </tbody>\n",
       "</table>\n",
       "<p>5770 rows × 1 columns</p>\n",
       "</div>"
      ],
      "text/plain": [
       "               Close\n",
       "Date                \n",
       "2000-01-03       NaN\n",
       "2000-01-04 -0.055319\n",
       "2000-01-05 -0.010090\n",
       "2000-01-06 -0.003458\n",
       "2000-01-07  0.004566\n",
       "...              ...\n",
       "2022-12-13 -0.024676\n",
       "2022-12-14 -0.079331\n",
       "2022-12-15  0.026549\n",
       "2022-12-16  0.000454\n",
       "2022-12-19  0.013605\n",
       "\n",
       "[5770 rows x 1 columns]"
      ]
     },
     "execution_count": 82,
     "metadata": {},
     "output_type": "execute_result"
    }
   ],
   "source": [
    "retornos_df"
   ]
  },
  {
   "cell_type": "markdown",
   "metadata": {},
   "source": [
    "Em muitos casos, o arquivo .txt pode apresentar uma formatacao diferente do padrao usado no Python.\\\n",
    "Por exemplo, separador decimal como virgula (,padrao no portugues) e nao ponto(.)\\\n",
    "Nesses casos usamos diversos argumentos que auxiliam na leitura dos dados"
   ]
  },
  {
   "cell_type": "markdown",
   "metadata": {},
   "source": [
    "Dados oriundos do PROFIT"
   ]
  },
  {
   "cell_type": "code",
   "execution_count": 84,
   "metadata": {},
   "outputs": [
    {
     "data": {
      "text/html": [
       "<div>\n",
       "<style scoped>\n",
       "    .dataframe tbody tr th:only-of-type {\n",
       "        vertical-align: middle;\n",
       "    }\n",
       "\n",
       "    .dataframe tbody tr th {\n",
       "        vertical-align: top;\n",
       "    }\n",
       "\n",
       "    .dataframe thead th {\n",
       "        text-align: right;\n",
       "    }\n",
       "</style>\n",
       "<table border=\"1\" class=\"dataframe\">\n",
       "  <thead>\n",
       "    <tr style=\"text-align: right;\">\n",
       "      <th></th>\n",
       "      <th></th>\n",
       "      <th></th>\n",
       "      <th></th>\n",
       "      <th></th>\n",
       "      <th>Date;Open;High;Low;Close;Adj Close;Volume</th>\n",
       "    </tr>\n",
       "  </thead>\n",
       "  <tbody>\n",
       "    <tr>\n",
       "      <th>2000-01-03;5</th>\n",
       "      <th>875;5</th>\n",
       "      <th>875;5</th>\n",
       "      <th>875;5</th>\n",
       "      <th>875;1</th>\n",
       "      <td>872026801109314;35389440000</td>\n",
       "    </tr>\n",
       "    <tr>\n",
       "      <th>2000-01-04;5</th>\n",
       "      <th>550000190734863;5</th>\n",
       "      <th>550000190734863;5</th>\n",
       "      <th>550000190734863;5</th>\n",
       "      <th>550000190734863;1</th>\n",
       "      <td>7684690952301025;28861440000</td>\n",
       "    </tr>\n",
       "    <tr>\n",
       "      <th>2000-01-05;5</th>\n",
       "      <th>49399995803833;5</th>\n",
       "      <th>49399995803833;5</th>\n",
       "      <th>49399995803833;5</th>\n",
       "      <th>49399995803833;1</th>\n",
       "      <td>7506250143051147;43033600000</td>\n",
       "    </tr>\n",
       "    <tr>\n",
       "      <th>2000-01-06;5</th>\n",
       "      <th>474999904632568;5</th>\n",
       "      <th>474999904632568;5</th>\n",
       "      <th>474999904632568;5</th>\n",
       "      <th>474999904632568;1</th>\n",
       "      <td>7445701360702515;34055680000</td>\n",
       "    </tr>\n",
       "    <tr>\n",
       "      <th>2000-01-07;5</th>\n",
       "      <th>5;5</th>\n",
       "      <th>5;5</th>\n",
       "      <th>5;5</th>\n",
       "      <th>5;1</th>\n",
       "      <td>7525360584259033;20912640000</td>\n",
       "    </tr>\n",
       "    <tr>\n",
       "      <th>...</th>\n",
       "      <th>...</th>\n",
       "      <th>...</th>\n",
       "      <th>...</th>\n",
       "      <th>...</th>\n",
       "      <td>...</td>\n",
       "    </tr>\n",
       "    <tr>\n",
       "      <th>2022-12-13;24</th>\n",
       "      <th>100000381469727;24</th>\n",
       "      <th>200000762939453;23</th>\n",
       "      <th>309999465942383;23</th>\n",
       "      <th>31999969482422;23</th>\n",
       "      <td>31999969482422;102533100</td>\n",
       "    </tr>\n",
       "    <tr>\n",
       "      <th>2022-12-14;22</th>\n",
       "      <th>5;22</th>\n",
       "      <th>600000381469727;20</th>\n",
       "      <th>770000457763672;21</th>\n",
       "      <th>469999313354492;21</th>\n",
       "      <td>469999313354492;319501600</td>\n",
       "    </tr>\n",
       "    <tr>\n",
       "      <th>2022-12-15;21</th>\n",
       "      <th>0;22</th>\n",
       "      <th>3700008392334;20</th>\n",
       "      <th>829999923706055;22</th>\n",
       "      <th>040000915527344;22</th>\n",
       "      <td>040000915527344;132385600</td>\n",
       "    </tr>\n",
       "    <tr>\n",
       "      <th>2022-12-16;21</th>\n",
       "      <th>959999084472656;22</th>\n",
       "      <th>110000610351562;21</th>\n",
       "      <th>510000228881836;22</th>\n",
       "      <th>049999237060547;22</th>\n",
       "      <td>049999237060547;90767300</td>\n",
       "    </tr>\n",
       "    <tr>\n",
       "      <th>2022-12-19;22</th>\n",
       "      <th>100000381469727;22</th>\n",
       "      <th>469999313354492;21</th>\n",
       "      <th>639999389648438;22</th>\n",
       "      <th>350000381469727;22</th>\n",
       "      <td>350000381469727;37837300</td>\n",
       "    </tr>\n",
       "  </tbody>\n",
       "</table>\n",
       "<p>5770 rows × 1 columns</p>\n",
       "</div>"
      ],
      "text/plain": [
       "                                                                                          Date;Open;High;Low;Close;Adj Close;Volume\n",
       "2000-01-03;5  875;5              875;5              875;5              875;1                            872026801109314;35389440000\n",
       "2000-01-04;5  550000190734863;5  550000190734863;5  550000190734863;5  550000190734863;1               7684690952301025;28861440000\n",
       "2000-01-05;5  49399995803833;5   49399995803833;5   49399995803833;5   49399995803833;1                7506250143051147;43033600000\n",
       "2000-01-06;5  474999904632568;5  474999904632568;5  474999904632568;5  474999904632568;1               7445701360702515;34055680000\n",
       "2000-01-07;5  5;5                5;5                5;5                5;1                             7525360584259033;20912640000\n",
       "...                                                                                                                             ...\n",
       "2022-12-13;24 100000381469727;24 200000762939453;23 309999465942383;23 31999969482422;23                   31999969482422;102533100\n",
       "2022-12-14;22 5;22               600000381469727;20 770000457763672;21 469999313354492;21                 469999313354492;319501600\n",
       "2022-12-15;21 0;22               3700008392334;20   829999923706055;22 040000915527344;22                 040000915527344;132385600\n",
       "2022-12-16;21 959999084472656;22 110000610351562;21 510000228881836;22 049999237060547;22                  049999237060547;90767300\n",
       "2022-12-19;22 100000381469727;22 469999313354492;21 639999389648438;22 350000381469727;22                  350000381469727;37837300\n",
       "\n",
       "[5770 rows x 1 columns]"
      ]
     },
     "execution_count": 84,
     "metadata": {},
     "output_type": "execute_result"
    }
   ],
   "source": [
    "pd.read_csv('/home/chibana/Documents/GitHub/Study_Area/Python/Data_Trading/Modulo 2/Data/PETR4_PROFIT.txt')"
   ]
  },
  {
   "cell_type": "code",
   "execution_count": 88,
   "metadata": {},
   "outputs": [
    {
     "data": {
      "text/html": [
       "<div>\n",
       "<style scoped>\n",
       "    .dataframe tbody tr th:only-of-type {\n",
       "        vertical-align: middle;\n",
       "    }\n",
       "\n",
       "    .dataframe tbody tr th {\n",
       "        vertical-align: top;\n",
       "    }\n",
       "\n",
       "    .dataframe thead th {\n",
       "        text-align: right;\n",
       "    }\n",
       "</style>\n",
       "<table border=\"1\" class=\"dataframe\">\n",
       "  <thead>\n",
       "    <tr style=\"text-align: right;\">\n",
       "      <th></th>\n",
       "      <th>Date</th>\n",
       "      <th>Open</th>\n",
       "      <th>High</th>\n",
       "      <th>Low</th>\n",
       "      <th>Close</th>\n",
       "      <th>Adj Close</th>\n",
       "      <th>Volume</th>\n",
       "    </tr>\n",
       "  </thead>\n",
       "  <tbody>\n",
       "    <tr>\n",
       "      <th>0</th>\n",
       "      <td>2000-01-03</td>\n",
       "      <td>5,875</td>\n",
       "      <td>5,875</td>\n",
       "      <td>5,875</td>\n",
       "      <td>5,875</td>\n",
       "      <td>1,872026801109314</td>\n",
       "      <td>35389440000</td>\n",
       "    </tr>\n",
       "    <tr>\n",
       "      <th>1</th>\n",
       "      <td>2000-01-04</td>\n",
       "      <td>5,550000190734863</td>\n",
       "      <td>5,550000190734863</td>\n",
       "      <td>5,550000190734863</td>\n",
       "      <td>5,550000190734863</td>\n",
       "      <td>1,7684690952301025</td>\n",
       "      <td>28861440000</td>\n",
       "    </tr>\n",
       "    <tr>\n",
       "      <th>2</th>\n",
       "      <td>2000-01-05</td>\n",
       "      <td>5,49399995803833</td>\n",
       "      <td>5,49399995803833</td>\n",
       "      <td>5,49399995803833</td>\n",
       "      <td>5,49399995803833</td>\n",
       "      <td>1,7506250143051147</td>\n",
       "      <td>43033600000</td>\n",
       "    </tr>\n",
       "    <tr>\n",
       "      <th>3</th>\n",
       "      <td>2000-01-06</td>\n",
       "      <td>5,474999904632568</td>\n",
       "      <td>5,474999904632568</td>\n",
       "      <td>5,474999904632568</td>\n",
       "      <td>5,474999904632568</td>\n",
       "      <td>1,7445701360702515</td>\n",
       "      <td>34055680000</td>\n",
       "    </tr>\n",
       "    <tr>\n",
       "      <th>4</th>\n",
       "      <td>2000-01-07</td>\n",
       "      <td>5,5</td>\n",
       "      <td>5,5</td>\n",
       "      <td>5,5</td>\n",
       "      <td>5,5</td>\n",
       "      <td>1,7525360584259033</td>\n",
       "      <td>20912640000</td>\n",
       "    </tr>\n",
       "    <tr>\n",
       "      <th>...</th>\n",
       "      <td>...</td>\n",
       "      <td>...</td>\n",
       "      <td>...</td>\n",
       "      <td>...</td>\n",
       "      <td>...</td>\n",
       "      <td>...</td>\n",
       "      <td>...</td>\n",
       "    </tr>\n",
       "    <tr>\n",
       "      <th>5765</th>\n",
       "      <td>2022-12-13</td>\n",
       "      <td>24,100000381469727</td>\n",
       "      <td>24,200000762939453</td>\n",
       "      <td>23,309999465942383</td>\n",
       "      <td>23,31999969482422</td>\n",
       "      <td>23,31999969482422</td>\n",
       "      <td>102533100</td>\n",
       "    </tr>\n",
       "    <tr>\n",
       "      <th>5766</th>\n",
       "      <td>2022-12-14</td>\n",
       "      <td>22,5</td>\n",
       "      <td>22,600000381469727</td>\n",
       "      <td>20,770000457763672</td>\n",
       "      <td>21,469999313354492</td>\n",
       "      <td>21,469999313354492</td>\n",
       "      <td>319501600</td>\n",
       "    </tr>\n",
       "    <tr>\n",
       "      <th>5767</th>\n",
       "      <td>2022-12-15</td>\n",
       "      <td>21,0</td>\n",
       "      <td>22,3700008392334</td>\n",
       "      <td>20,829999923706055</td>\n",
       "      <td>22,040000915527344</td>\n",
       "      <td>22,040000915527344</td>\n",
       "      <td>132385600</td>\n",
       "    </tr>\n",
       "    <tr>\n",
       "      <th>5768</th>\n",
       "      <td>2022-12-16</td>\n",
       "      <td>21,959999084472656</td>\n",
       "      <td>22,110000610351562</td>\n",
       "      <td>21,510000228881836</td>\n",
       "      <td>22,049999237060547</td>\n",
       "      <td>22,049999237060547</td>\n",
       "      <td>90767300</td>\n",
       "    </tr>\n",
       "    <tr>\n",
       "      <th>5769</th>\n",
       "      <td>2022-12-19</td>\n",
       "      <td>22,100000381469727</td>\n",
       "      <td>22,469999313354492</td>\n",
       "      <td>21,639999389648438</td>\n",
       "      <td>22,350000381469727</td>\n",
       "      <td>22,350000381469727</td>\n",
       "      <td>37837300</td>\n",
       "    </tr>\n",
       "  </tbody>\n",
       "</table>\n",
       "<p>5770 rows × 7 columns</p>\n",
       "</div>"
      ],
      "text/plain": [
       "            Date                Open                High                 Low  \\\n",
       "0     2000-01-03               5,875               5,875               5,875   \n",
       "1     2000-01-04   5,550000190734863   5,550000190734863   5,550000190734863   \n",
       "2     2000-01-05    5,49399995803833    5,49399995803833    5,49399995803833   \n",
       "3     2000-01-06   5,474999904632568   5,474999904632568   5,474999904632568   \n",
       "4     2000-01-07                 5,5                 5,5                 5,5   \n",
       "...          ...                 ...                 ...                 ...   \n",
       "5765  2022-12-13  24,100000381469727  24,200000762939453  23,309999465942383   \n",
       "5766  2022-12-14                22,5  22,600000381469727  20,770000457763672   \n",
       "5767  2022-12-15                21,0    22,3700008392334  20,829999923706055   \n",
       "5768  2022-12-16  21,959999084472656  22,110000610351562  21,510000228881836   \n",
       "5769  2022-12-19  22,100000381469727  22,469999313354492  21,639999389648438   \n",
       "\n",
       "                   Close           Adj Close       Volume  \n",
       "0                  5,875   1,872026801109314  35389440000  \n",
       "1      5,550000190734863  1,7684690952301025  28861440000  \n",
       "2       5,49399995803833  1,7506250143051147  43033600000  \n",
       "3      5,474999904632568  1,7445701360702515  34055680000  \n",
       "4                    5,5  1,7525360584259033  20912640000  \n",
       "...                  ...                 ...          ...  \n",
       "5765   23,31999969482422   23,31999969482422    102533100  \n",
       "5766  21,469999313354492  21,469999313354492    319501600  \n",
       "5767  22,040000915527344  22,040000915527344    132385600  \n",
       "5768  22,049999237060547  22,049999237060547     90767300  \n",
       "5769  22,350000381469727  22,350000381469727     37837300  \n",
       "\n",
       "[5770 rows x 7 columns]"
      ]
     },
     "execution_count": 88,
     "metadata": {},
     "output_type": "execute_result"
    }
   ],
   "source": [
    "petr_profit = pd.read_csv('/home/chibana/Documents/GitHub/Study_Area/Python/Data_Trading/Modulo 2/Data/PETR4_PROFIT.txt', sep = ';')\n",
    "\n",
    "petr_profit"
   ]
  },
  {
   "cell_type": "code",
   "execution_count": 112,
   "metadata": {},
   "outputs": [
    {
     "data": {
      "text/html": [
       "<div>\n",
       "<style scoped>\n",
       "    .dataframe tbody tr th:only-of-type {\n",
       "        vertical-align: middle;\n",
       "    }\n",
       "\n",
       "    .dataframe tbody tr th {\n",
       "        vertical-align: top;\n",
       "    }\n",
       "\n",
       "    .dataframe thead th {\n",
       "        text-align: right;\n",
       "    }\n",
       "</style>\n",
       "<table border=\"1\" class=\"dataframe\">\n",
       "  <thead>\n",
       "    <tr style=\"text-align: right;\">\n",
       "      <th></th>\n",
       "      <th>Date</th>\n",
       "      <th>Open</th>\n",
       "      <th>High</th>\n",
       "      <th>Low</th>\n",
       "      <th>Close</th>\n",
       "      <th>Adj Close</th>\n",
       "      <th>Volume</th>\n",
       "    </tr>\n",
       "  </thead>\n",
       "  <tbody>\n",
       "    <tr>\n",
       "      <th>0</th>\n",
       "      <td>2000-01-03</td>\n",
       "      <td>5.875</td>\n",
       "      <td>5.875</td>\n",
       "      <td>5.875</td>\n",
       "      <td>5.875</td>\n",
       "      <td>1.872</td>\n",
       "      <td>35389440000</td>\n",
       "    </tr>\n",
       "    <tr>\n",
       "      <th>1</th>\n",
       "      <td>2000-01-04</td>\n",
       "      <td>5.550</td>\n",
       "      <td>5.550</td>\n",
       "      <td>5.550</td>\n",
       "      <td>5.550</td>\n",
       "      <td>1.768</td>\n",
       "      <td>28861440000</td>\n",
       "    </tr>\n",
       "    <tr>\n",
       "      <th>2</th>\n",
       "      <td>2000-01-05</td>\n",
       "      <td>5.494</td>\n",
       "      <td>5.494</td>\n",
       "      <td>5.494</td>\n",
       "      <td>5.494</td>\n",
       "      <td>1.751</td>\n",
       "      <td>43033600000</td>\n",
       "    </tr>\n",
       "    <tr>\n",
       "      <th>3</th>\n",
       "      <td>2000-01-06</td>\n",
       "      <td>5.475</td>\n",
       "      <td>5.475</td>\n",
       "      <td>5.475</td>\n",
       "      <td>5.475</td>\n",
       "      <td>1.745</td>\n",
       "      <td>34055680000</td>\n",
       "    </tr>\n",
       "    <tr>\n",
       "      <th>4</th>\n",
       "      <td>2000-01-07</td>\n",
       "      <td>5.500</td>\n",
       "      <td>5.500</td>\n",
       "      <td>5.500</td>\n",
       "      <td>5.500</td>\n",
       "      <td>1.753</td>\n",
       "      <td>20912640000</td>\n",
       "    </tr>\n",
       "    <tr>\n",
       "      <th>...</th>\n",
       "      <td>...</td>\n",
       "      <td>...</td>\n",
       "      <td>...</td>\n",
       "      <td>...</td>\n",
       "      <td>...</td>\n",
       "      <td>...</td>\n",
       "      <td>...</td>\n",
       "    </tr>\n",
       "    <tr>\n",
       "      <th>5765</th>\n",
       "      <td>2022-12-13</td>\n",
       "      <td>24.100</td>\n",
       "      <td>24.200</td>\n",
       "      <td>23.310</td>\n",
       "      <td>23.320</td>\n",
       "      <td>23.320</td>\n",
       "      <td>102533100</td>\n",
       "    </tr>\n",
       "    <tr>\n",
       "      <th>5766</th>\n",
       "      <td>2022-12-14</td>\n",
       "      <td>22.500</td>\n",
       "      <td>22.600</td>\n",
       "      <td>20.770</td>\n",
       "      <td>21.470</td>\n",
       "      <td>21.470</td>\n",
       "      <td>319501600</td>\n",
       "    </tr>\n",
       "    <tr>\n",
       "      <th>5767</th>\n",
       "      <td>2022-12-15</td>\n",
       "      <td>21.000</td>\n",
       "      <td>22.370</td>\n",
       "      <td>20.830</td>\n",
       "      <td>22.040</td>\n",
       "      <td>22.040</td>\n",
       "      <td>132385600</td>\n",
       "    </tr>\n",
       "    <tr>\n",
       "      <th>5768</th>\n",
       "      <td>2022-12-16</td>\n",
       "      <td>21.960</td>\n",
       "      <td>22.110</td>\n",
       "      <td>21.510</td>\n",
       "      <td>22.050</td>\n",
       "      <td>22.050</td>\n",
       "      <td>90767300</td>\n",
       "    </tr>\n",
       "    <tr>\n",
       "      <th>5769</th>\n",
       "      <td>2022-12-19</td>\n",
       "      <td>22.100</td>\n",
       "      <td>22.470</td>\n",
       "      <td>21.640</td>\n",
       "      <td>22.350</td>\n",
       "      <td>22.350</td>\n",
       "      <td>37837300</td>\n",
       "    </tr>\n",
       "  </tbody>\n",
       "</table>\n",
       "<p>5770 rows × 7 columns</p>\n",
       "</div>"
      ],
      "text/plain": [
       "            Date    Open    High     Low   Close  Adj Close       Volume\n",
       "0     2000-01-03   5.875   5.875   5.875   5.875      1.872  35389440000\n",
       "1     2000-01-04   5.550   5.550   5.550   5.550      1.768  28861440000\n",
       "2     2000-01-05   5.494   5.494   5.494   5.494      1.751  43033600000\n",
       "3     2000-01-06   5.475   5.475   5.475   5.475      1.745  34055680000\n",
       "4     2000-01-07   5.500   5.500   5.500   5.500      1.753  20912640000\n",
       "...          ...     ...     ...     ...     ...        ...          ...\n",
       "5765  2022-12-13  24.100  24.200  23.310  23.320     23.320    102533100\n",
       "5766  2022-12-14  22.500  22.600  20.770  21.470     21.470    319501600\n",
       "5767  2022-12-15  21.000  22.370  20.830  22.040     22.040    132385600\n",
       "5768  2022-12-16  21.960  22.110  21.510  22.050     22.050     90767300\n",
       "5769  2022-12-19  22.100  22.470  21.640  22.350     22.350     37837300\n",
       "\n",
       "[5770 rows x 7 columns]"
      ]
     },
     "execution_count": 112,
     "metadata": {},
     "output_type": "execute_result"
    }
   ],
   "source": [
    "petr_profit = pd.read_csv('/home/chibana/Documents/GitHub/Study_Area/Python/Data_Trading/Modulo 2/Data/PETR4_PROFIT.txt', sep = ';', decimal = ',').round(3)\n",
    "\n",
    "petr_profit"
   ]
  },
  {
   "cell_type": "code",
   "execution_count": 110,
   "metadata": {},
   "outputs": [
    {
     "data": {
      "text/plain": [
       "Date          object\n",
       "Open         float64\n",
       "High         float64\n",
       "Low          float64\n",
       "Close        float64\n",
       "Adj Close    float64\n",
       "Volume         int64\n",
       "dtype: object"
      ]
     },
     "execution_count": 110,
     "metadata": {},
     "output_type": "execute_result"
    }
   ],
   "source": [
    "petr_profit.dtypes"
   ]
  },
  {
   "cell_type": "markdown",
   "metadata": {},
   "source": [
    "##### 1.1.3. Arquivos .xlsx"
   ]
  },
  {
   "cell_type": "markdown",
   "metadata": {},
   "source": [
    "Vamos abrir agora o arquivo Excel que contem uma amostra de dados intraday do minindice"
   ]
  },
  {
   "cell_type": "code",
   "execution_count": 95,
   "metadata": {},
   "outputs": [
    {
     "name": "stdout",
     "output_type": "stream",
     "text": [
      "Defaulting to user installation because normal site-packages is not writeable\n",
      "Collecting openpyxl\n",
      "  Downloading openpyxl-3.1.2-py2.py3-none-any.whl (249 kB)\n",
      "     |████████████████████████████████| 249 kB 5.4 MB/s            \n",
      "\u001b[?25hCollecting et-xmlfile\n",
      "  Downloading et_xmlfile-1.1.0-py3-none-any.whl (4.7 kB)\n",
      "Installing collected packages: et-xmlfile, openpyxl\n",
      "Successfully installed et-xmlfile-1.1.0 openpyxl-3.1.2\n"
     ]
    }
   ],
   "source": [
    "!pip install openpyxl\n",
    "\n",
    "import openpyxl as xl"
   ]
  },
  {
   "cell_type": "code",
   "execution_count": 96,
   "metadata": {},
   "outputs": [],
   "source": [
    "win = pd.read_excel('/home/chibana/Documents/GitHub/Study_Area/Python/Data_Trading/Modulo 2/Data/WIN_MT5.xlsx')"
   ]
  },
  {
   "cell_type": "code",
   "execution_count": 97,
   "metadata": {},
   "outputs": [
    {
     "data": {
      "text/html": [
       "<div>\n",
       "<style scoped>\n",
       "    .dataframe tbody tr th:only-of-type {\n",
       "        vertical-align: middle;\n",
       "    }\n",
       "\n",
       "    .dataframe tbody tr th {\n",
       "        vertical-align: top;\n",
       "    }\n",
       "\n",
       "    .dataframe thead th {\n",
       "        text-align: right;\n",
       "    }\n",
       "</style>\n",
       "<table border=\"1\" class=\"dataframe\">\n",
       "  <thead>\n",
       "    <tr style=\"text-align: right;\">\n",
       "      <th></th>\n",
       "      <th>time</th>\n",
       "      <th>open</th>\n",
       "      <th>high</th>\n",
       "      <th>low</th>\n",
       "      <th>close</th>\n",
       "      <th>tick_volume</th>\n",
       "      <th>spread</th>\n",
       "      <th>real_volume</th>\n",
       "      <th>ticker</th>\n",
       "    </tr>\n",
       "  </thead>\n",
       "  <tbody>\n",
       "    <tr>\n",
       "      <th>0</th>\n",
       "      <td>2022-12-27 09:00:00</td>\n",
       "      <td>111175</td>\n",
       "      <td>111260</td>\n",
       "      <td>111065</td>\n",
       "      <td>111185</td>\n",
       "      <td>15490</td>\n",
       "      <td>1</td>\n",
       "      <td>30698</td>\n",
       "      <td>WIN$</td>\n",
       "    </tr>\n",
       "    <tr>\n",
       "      <th>1</th>\n",
       "      <td>2022-12-27 09:01:00</td>\n",
       "      <td>111190</td>\n",
       "      <td>111370</td>\n",
       "      <td>111180</td>\n",
       "      <td>111215</td>\n",
       "      <td>21014</td>\n",
       "      <td>1</td>\n",
       "      <td>42351</td>\n",
       "      <td>WIN$</td>\n",
       "    </tr>\n",
       "    <tr>\n",
       "      <th>2</th>\n",
       "      <td>2022-12-27 09:02:00</td>\n",
       "      <td>111215</td>\n",
       "      <td>111225</td>\n",
       "      <td>111030</td>\n",
       "      <td>111050</td>\n",
       "      <td>15905</td>\n",
       "      <td>1</td>\n",
       "      <td>30188</td>\n",
       "      <td>WIN$</td>\n",
       "    </tr>\n",
       "    <tr>\n",
       "      <th>3</th>\n",
       "      <td>2022-12-27 09:03:00</td>\n",
       "      <td>111055</td>\n",
       "      <td>111055</td>\n",
       "      <td>110920</td>\n",
       "      <td>110925</td>\n",
       "      <td>16948</td>\n",
       "      <td>1</td>\n",
       "      <td>32705</td>\n",
       "      <td>WIN$</td>\n",
       "    </tr>\n",
       "    <tr>\n",
       "      <th>4</th>\n",
       "      <td>2022-12-27 09:04:00</td>\n",
       "      <td>110930</td>\n",
       "      <td>111070</td>\n",
       "      <td>110915</td>\n",
       "      <td>111030</td>\n",
       "      <td>13465</td>\n",
       "      <td>1</td>\n",
       "      <td>24894</td>\n",
       "      <td>WIN$</td>\n",
       "    </tr>\n",
       "  </tbody>\n",
       "</table>\n",
       "</div>"
      ],
      "text/plain": [
       "                 time    open    high     low   close  tick_volume  spread  \\\n",
       "0 2022-12-27 09:00:00  111175  111260  111065  111185        15490       1   \n",
       "1 2022-12-27 09:01:00  111190  111370  111180  111215        21014       1   \n",
       "2 2022-12-27 09:02:00  111215  111225  111030  111050        15905       1   \n",
       "3 2022-12-27 09:03:00  111055  111055  110920  110925        16948       1   \n",
       "4 2022-12-27 09:04:00  110930  111070  110915  111030        13465       1   \n",
       "\n",
       "   real_volume ticker  \n",
       "0        30698   WIN$  \n",
       "1        42351   WIN$  \n",
       "2        30188   WIN$  \n",
       "3        32705   WIN$  \n",
       "4        24894   WIN$  "
      ]
     },
     "execution_count": 97,
     "metadata": {},
     "output_type": "execute_result"
    }
   ],
   "source": [
    "win.head()"
   ]
  },
  {
   "cell_type": "code",
   "execution_count": 98,
   "metadata": {},
   "outputs": [
    {
     "data": {
      "text/plain": [
       "time           datetime64[ns]\n",
       "open                    int64\n",
       "high                    int64\n",
       "low                     int64\n",
       "close                   int64\n",
       "tick_volume             int64\n",
       "spread                  int64\n",
       "real_volume             int64\n",
       "ticker                 object\n",
       "dtype: object"
      ]
     },
     "execution_count": 98,
     "metadata": {},
     "output_type": "execute_result"
    }
   ],
   "source": [
    "win.dtypes"
   ]
  },
  {
   "cell_type": "code",
   "execution_count": 99,
   "metadata": {},
   "outputs": [],
   "source": [
    "win.index = win['time']"
   ]
  },
  {
   "cell_type": "code",
   "execution_count": 101,
   "metadata": {},
   "outputs": [
    {
     "data": {
      "image/png": "[encoded data removed]",
      "text/plain": [
       "<Figure size 640x480 with 1 Axes>"
      ]
     },
     "metadata": {},
     "output_type": "display_data"
    }
   ],
   "source": [
    "win.close.plot();"
   ]
  },
  {
   "cell_type": "code",
   "execution_count": null,
   "metadata": {},
   "outputs": [],
   "source": []
  },
  {
   "cell_type": "markdown",
   "metadata": {},
   "source": [
    "#### 1.2. Obtencao via bibliotecas/APIs"
   ]
  },
  {
   "cell_type": "markdown",
   "metadata": {},
   "source": [
    "Vamos ver aqui exemplos de captura de dados de \"fora\", isto e, de fontes da web.\\\n",
    "Muito do processo de captura e feito de forma open-source por desenvolvedores individuais. Por causa disso, esses projetos tendem a ser descontinuados com o tempo.\\\n",
    "ATENCAO: as fontes aqui apresentadas podem e vao eventualmente apresentar algum erro ou problema, como: ficar fora do ar, nao ter disponibilidade de dados de algum ativo, ter o codigo fonte removido do repositorio central do Python, dentre outros."
   ]
  },
  {
   "cell_type": "markdown",
   "metadata": {},
   "source": [
    "Autor: Ran Aroussi\n",
    "\n",
    "https://aroussi.com/"
   ]
  },
  {
   "cell_type": "code",
   "execution_count": 113,
   "metadata": {},
   "outputs": [],
   "source": [
    "import yfinance as yf"
   ]
  },
  {
   "cell_type": "code",
   "execution_count": 115,
   "metadata": {},
   "outputs": [
    {
     "name": "stderr",
     "output_type": "stream",
     "text": [
      "[*********************100%%**********************]  1 of 1 completed\n"
     ]
    },
    {
     "data": {
      "text/html": [
       "<div>\n",
       "<style scoped>\n",
       "    .dataframe tbody tr th:only-of-type {\n",
       "        vertical-align: middle;\n",
       "    }\n",
       "\n",
       "    .dataframe tbody tr th {\n",
       "        vertical-align: top;\n",
       "    }\n",
       "\n",
       "    .dataframe thead th {\n",
       "        text-align: right;\n",
       "    }\n",
       "</style>\n",
       "<table border=\"1\" class=\"dataframe\">\n",
       "  <thead>\n",
       "    <tr style=\"text-align: right;\">\n",
       "      <th></th>\n",
       "      <th>Open</th>\n",
       "      <th>High</th>\n",
       "      <th>Low</th>\n",
       "      <th>Close</th>\n",
       "      <th>Adj Close</th>\n",
       "      <th>Volume</th>\n",
       "    </tr>\n",
       "    <tr>\n",
       "      <th>Date</th>\n",
       "      <th></th>\n",
       "      <th></th>\n",
       "      <th></th>\n",
       "      <th></th>\n",
       "      <th></th>\n",
       "      <th></th>\n",
       "    </tr>\n",
       "  </thead>\n",
       "  <tbody>\n",
       "    <tr>\n",
       "      <th>2020-01-02</th>\n",
       "      <td>37.279999</td>\n",
       "      <td>38.029999</td>\n",
       "      <td>36.990002</td>\n",
       "      <td>38.029999</td>\n",
       "      <td>31.529232</td>\n",
       "      <td>20666100</td>\n",
       "    </tr>\n",
       "    <tr>\n",
       "      <th>2020-01-03</th>\n",
       "      <td>37.500000</td>\n",
       "      <td>38.240002</td>\n",
       "      <td>37.450001</td>\n",
       "      <td>37.630001</td>\n",
       "      <td>31.197620</td>\n",
       "      <td>24891400</td>\n",
       "    </tr>\n",
       "    <tr>\n",
       "      <th>2020-01-06</th>\n",
       "      <td>37.549999</td>\n",
       "      <td>37.580002</td>\n",
       "      <td>36.910000</td>\n",
       "      <td>37.070000</td>\n",
       "      <td>30.733334</td>\n",
       "      <td>22294700</td>\n",
       "    </tr>\n",
       "    <tr>\n",
       "      <th>2020-01-07</th>\n",
       "      <td>37.070000</td>\n",
       "      <td>37.240002</td>\n",
       "      <td>36.209999</td>\n",
       "      <td>36.209999</td>\n",
       "      <td>30.020346</td>\n",
       "      <td>20000900</td>\n",
       "    </tr>\n",
       "    <tr>\n",
       "      <th>2020-01-08</th>\n",
       "      <td>36.450001</td>\n",
       "      <td>36.810001</td>\n",
       "      <td>35.619999</td>\n",
       "      <td>35.619999</td>\n",
       "      <td>29.531210</td>\n",
       "      <td>25980900</td>\n",
       "    </tr>\n",
       "    <tr>\n",
       "      <th>...</th>\n",
       "      <td>...</td>\n",
       "      <td>...</td>\n",
       "      <td>...</td>\n",
       "      <td>...</td>\n",
       "      <td>...</td>\n",
       "      <td>...</td>\n",
       "    </tr>\n",
       "    <tr>\n",
       "      <th>2024-04-18</th>\n",
       "      <td>31.750000</td>\n",
       "      <td>32.000000</td>\n",
       "      <td>31.360001</td>\n",
       "      <td>31.730000</td>\n",
       "      <td>31.730000</td>\n",
       "      <td>21697800</td>\n",
       "    </tr>\n",
       "    <tr>\n",
       "      <th>2024-04-19</th>\n",
       "      <td>31.780001</td>\n",
       "      <td>31.969999</td>\n",
       "      <td>31.450001</td>\n",
       "      <td>31.549999</td>\n",
       "      <td>31.549999</td>\n",
       "      <td>26917000</td>\n",
       "    </tr>\n",
       "    <tr>\n",
       "      <th>2024-04-22</th>\n",
       "      <td>31.639999</td>\n",
       "      <td>31.740000</td>\n",
       "      <td>31.280001</td>\n",
       "      <td>31.530001</td>\n",
       "      <td>31.530001</td>\n",
       "      <td>21715600</td>\n",
       "    </tr>\n",
       "    <tr>\n",
       "      <th>2024-04-23</th>\n",
       "      <td>31.400000</td>\n",
       "      <td>32.310001</td>\n",
       "      <td>31.400000</td>\n",
       "      <td>32.000000</td>\n",
       "      <td>32.000000</td>\n",
       "      <td>46873000</td>\n",
       "    </tr>\n",
       "    <tr>\n",
       "      <th>2024-04-24</th>\n",
       "      <td>32.000000</td>\n",
       "      <td>32.090000</td>\n",
       "      <td>31.620001</td>\n",
       "      <td>31.860001</td>\n",
       "      <td>31.860001</td>\n",
       "      <td>24172500</td>\n",
       "    </tr>\n",
       "  </tbody>\n",
       "</table>\n",
       "<p>1072 rows × 6 columns</p>\n",
       "</div>"
      ],
      "text/plain": [
       "                 Open       High        Low      Close  Adj Close    Volume\n",
       "Date                                                                       \n",
       "2020-01-02  37.279999  38.029999  36.990002  38.029999  31.529232  20666100\n",
       "2020-01-03  37.500000  38.240002  37.450001  37.630001  31.197620  24891400\n",
       "2020-01-06  37.549999  37.580002  36.910000  37.070000  30.733334  22294700\n",
       "2020-01-07  37.070000  37.240002  36.209999  36.209999  30.020346  20000900\n",
       "2020-01-08  36.450001  36.810001  35.619999  35.619999  29.531210  25980900\n",
       "...               ...        ...        ...        ...        ...       ...\n",
       "2024-04-18  31.750000  32.000000  31.360001  31.730000  31.730000  21697800\n",
       "2024-04-19  31.780001  31.969999  31.450001  31.549999  31.549999  26917000\n",
       "2024-04-22  31.639999  31.740000  31.280001  31.530001  31.530001  21715600\n",
       "2024-04-23  31.400000  32.310001  31.400000  32.000000  32.000000  46873000\n",
       "2024-04-24  32.000000  32.090000  31.620001  31.860001  31.860001  24172500\n",
       "\n",
       "[1072 rows x 6 columns]"
      ]
     },
     "execution_count": 115,
     "metadata": {},
     "output_type": "execute_result"
    }
   ],
   "source": [
    "yf.download('ITUB4.SA', start = '2020-01-01')"
   ]
  },
  {
   "cell_type": "code",
   "execution_count": 117,
   "metadata": {},
   "outputs": [
    {
     "name": "stderr",
     "output_type": "stream",
     "text": [
      "[*********************100%%**********************]  1 of 1 completed\n"
     ]
    }
   ],
   "source": [
    "itub4 = yf.download('ITUB4.SA', period = 'max')"
   ]
  },
  {
   "cell_type": "code",
   "execution_count": 118,
   "metadata": {},
   "outputs": [
    {
     "data": {
      "text/html": [
       "<div>\n",
       "<style scoped>\n",
       "    .dataframe tbody tr th:only-of-type {\n",
       "        vertical-align: middle;\n",
       "    }\n",
       "\n",
       "    .dataframe tbody tr th {\n",
       "        vertical-align: top;\n",
       "    }\n",
       "\n",
       "    .dataframe thead th {\n",
       "        text-align: right;\n",
       "    }\n",
       "</style>\n",
       "<table border=\"1\" class=\"dataframe\">\n",
       "  <thead>\n",
       "    <tr style=\"text-align: right;\">\n",
       "      <th></th>\n",
       "      <th>Open</th>\n",
       "      <th>High</th>\n",
       "      <th>Low</th>\n",
       "      <th>Close</th>\n",
       "      <th>Adj Close</th>\n",
       "      <th>Volume</th>\n",
       "    </tr>\n",
       "    <tr>\n",
       "      <th>Date</th>\n",
       "      <th></th>\n",
       "      <th></th>\n",
       "      <th></th>\n",
       "      <th></th>\n",
       "      <th></th>\n",
       "      <th></th>\n",
       "    </tr>\n",
       "  </thead>\n",
       "  <tbody>\n",
       "    <tr>\n",
       "      <th>2000-12-21</th>\n",
       "      <td>2.815505</td>\n",
       "      <td>2.988535</td>\n",
       "      <td>2.815174</td>\n",
       "      <td>2.960552</td>\n",
       "      <td>1.644483</td>\n",
       "      <td>74224</td>\n",
       "    </tr>\n",
       "    <tr>\n",
       "      <th>2000-12-22</th>\n",
       "      <td>2.930748</td>\n",
       "      <td>2.930748</td>\n",
       "      <td>2.814843</td>\n",
       "      <td>2.832229</td>\n",
       "      <td>1.573204</td>\n",
       "      <td>23312</td>\n",
       "    </tr>\n",
       "    <tr>\n",
       "      <th>2000-12-25</th>\n",
       "      <td>2.832229</td>\n",
       "      <td>2.832229</td>\n",
       "      <td>2.832229</td>\n",
       "      <td>2.832229</td>\n",
       "      <td>1.573204</td>\n",
       "      <td>0</td>\n",
       "    </tr>\n",
       "    <tr>\n",
       "      <th>2000-12-26</th>\n",
       "      <td>2.816664</td>\n",
       "      <td>2.834712</td>\n",
       "      <td>2.790006</td>\n",
       "      <td>2.831401</td>\n",
       "      <td>1.572743</td>\n",
       "      <td>7851</td>\n",
       "    </tr>\n",
       "    <tr>\n",
       "      <th>2000-12-27</th>\n",
       "      <td>2.881074</td>\n",
       "      <td>2.927437</td>\n",
       "      <td>2.831401</td>\n",
       "      <td>2.927437</td>\n",
       "      <td>1.626087</td>\n",
       "      <td>26996</td>\n",
       "    </tr>\n",
       "  </tbody>\n",
       "</table>\n",
       "</div>"
      ],
      "text/plain": [
       "                Open      High       Low     Close  Adj Close  Volume\n",
       "Date                                                                 \n",
       "2000-12-21  2.815505  2.988535  2.815174  2.960552   1.644483   74224\n",
       "2000-12-22  2.930748  2.930748  2.814843  2.832229   1.573204   23312\n",
       "2000-12-25  2.832229  2.832229  2.832229  2.832229   1.573204       0\n",
       "2000-12-26  2.816664  2.834712  2.790006  2.831401   1.572743    7851\n",
       "2000-12-27  2.881074  2.927437  2.831401  2.927437   1.626087   26996"
      ]
     },
     "execution_count": 118,
     "metadata": {},
     "output_type": "execute_result"
    }
   ],
   "source": [
    "itub4.head()"
   ]
  },
  {
   "cell_type": "code",
   "execution_count": 120,
   "metadata": {},
   "outputs": [
    {
     "data": {
      "image/png": "[encoded data removed]",
      "text/plain": [
       "<Figure size 640x480 with 1 Axes>"
      ]
     },
     "metadata": {},
     "output_type": "display_data"
    }
   ],
   "source": [
    "itub4.Close.plot();"
   ]
  },
  {
   "cell_type": "code",
   "execution_count": 121,
   "metadata": {},
   "outputs": [
    {
     "data": {
      "image/png": "[encoded data removed]",
      "text/plain": [
       "<Figure size 640x480 with 1 Axes>"
      ]
     },
     "metadata": {},
     "output_type": "display_data"
    }
   ],
   "source": [
    "itub4[['Close', 'Adj Close']].plot();"
   ]
  },
  {
   "cell_type": "markdown",
   "metadata": {},
   "source": [
    "Obtencao via APIs"
   ]
  },
  {
   "cell_type": "markdown",
   "metadata": {},
   "source": [
    "APIs são mecanismos que permitem que dois componentes de software se comuniquem usando um conjunto de definições e protocolos. Por exemplo, o sistema de software do instituto meteorológico contém dados meteorológicos diários. A aplicação para a previsão do tempo em seu telefone “fala” com esse sistema por meio de APIs e mostra atualizações meteorológicas diárias no telefone.\n",
    "\n",
    "https://aws.amazon.com/pt/what-is/api/"
   ]
  },
  {
   "cell_type": "markdown",
   "metadata": {},
   "source": [
    "Dados do TradingView"
   ]
  },
  {
   "cell_type": "code",
   "execution_count": 122,
   "metadata": {},
   "outputs": [
    {
     "name": "stdout",
     "output_type": "stream",
     "text": [
      "Defaulting to user installation because normal site-packages is not writeable\n",
      "Collecting git+https://github.com/rongardF/tvdatafeed.git\n",
      "  Cloning https://github.com/rongardF/tvdatafeed.git to /tmp/pip-req-build-on3ek18r\n",
      "  Running command git clone --filter=blob:none -q https://github.com/rongardF/tvdatafeed.git /tmp/pip-req-build-on3ek18r\n",
      "  Resolved https://github.com/rongardF/tvdatafeed.git to commit e6f6aaa7de439ac6e454d9b26d2760ded8dc4923\n",
      "  Preparing metadata (setup.py) ... \u001b[?25ldone\n",
      "\u001b[?25hRequirement already satisfied: setuptools in /usr/lib/python3.9/site-packages (from tvdatafeed==2.1.0) (53.0.0)\n",
      "Requirement already satisfied: pandas in /home/chibana/.local/lib/python3.9/site-packages (from tvdatafeed==2.1.0) (2.2.2)\n",
      "Collecting websocket-client\n",
      "  Downloading websocket_client-1.8.0-py3-none-any.whl (58 kB)\n",
      "     |████████████████████████████████| 58 kB 5.7 MB/s             \n",
      "\u001b[?25hRequirement already satisfied: requests in /home/chibana/.local/lib/python3.9/site-packages (from tvdatafeed==2.1.0) (2.31.0)\n",
      "Requirement already satisfied: numpy>=1.22.4 in /home/chibana/.local/lib/python3.9/site-packages (from pandas->tvdatafeed==2.1.0) (1.26.4)\n",
      "Requirement already satisfied: pytz>=2020.1 in /home/chibana/.local/lib/python3.9/site-packages (from pandas->tvdatafeed==2.1.0) (2024.1)\n",
      "Requirement already satisfied: python-dateutil>=2.8.2 in /home/chibana/.local/lib/python3.9/site-packages (from pandas->tvdatafeed==2.1.0) (2.9.0.post0)\n",
      "Requirement already satisfied: tzdata>=2022.7 in /home/chibana/.local/lib/python3.9/site-packages (from pandas->tvdatafeed==2.1.0) (2024.1)\n",
      "Requirement already satisfied: charset-normalizer<4,>=2 in /home/chibana/.local/lib/python3.9/site-packages (from requests->tvdatafeed==2.1.0) (3.3.2)\n",
      "Requirement already satisfied: certifi>=2017.4.17 in /home/chibana/.local/lib/python3.9/site-packages (from requests->tvdatafeed==2.1.0) (2024.2.2)\n",
      "Requirement already satisfied: urllib3<3,>=1.21.1 in /usr/lib/python3.9/site-packages (from requests->tvdatafeed==2.1.0) (1.26.5)\n",
      "Requirement already satisfied: idna<4,>=2.5 in /usr/lib/python3.9/site-packages (from requests->tvdatafeed==2.1.0) (2.10)\n",
      "Requirement already satisfied: six>=1.5 in /usr/lib/python3.9/site-packages (from python-dateutil>=2.8.2->pandas->tvdatafeed==2.1.0) (1.15.0)\n",
      "Using legacy 'setup.py install' for tvdatafeed, since package 'wheel' is not installed.\n",
      "Installing collected packages: websocket-client, tvdatafeed\n",
      "    Running setup.py install for tvdatafeed ... \u001b[?25ldone\n",
      "\u001b[?25hSuccessfully installed tvdatafeed-2.1.0 websocket-client-1.8.0\n",
      "Note: you may need to restart the kernel to use updated packages.\n"
     ]
    }
   ],
   "source": [
    "%pip install --upgrade --no-cache-dir git+https://github.com/rongardF/tvdatafeed.git\n"
   ]
  },
  {
   "cell_type": "code",
   "execution_count": 126,
   "metadata": {},
   "outputs": [],
   "source": [
    "from tvDatafeed import TvDatafeed, Interval"
   ]
  },
  {
   "cell_type": "code",
   "execution_count": 127,
   "metadata": {},
   "outputs": [
    {
     "name": "stderr",
     "output_type": "stream",
     "text": [
      "you are using nologin method, data you access may be limited\n"
     ]
    }
   ],
   "source": [
    "tv = TvDatafeed()\n",
    "\n",
    "lren = tv.get_hist(symbol = 'LREN3', exchange = 'BMFBOVESPA', interval = Interval.in_daily, n_bars = 10000)"
   ]
  },
  {
   "cell_type": "code",
   "execution_count": 128,
   "metadata": {},
   "outputs": [
    {
     "data": {
      "text/html": [
       "<div>\n",
       "<style scoped>\n",
       "    .dataframe tbody tr th:only-of-type {\n",
       "        vertical-align: middle;\n",
       "    }\n",
       "\n",
       "    .dataframe tbody tr th {\n",
       "        vertical-align: top;\n",
       "    }\n",
       "\n",
       "    .dataframe thead th {\n",
       "        text-align: right;\n",
       "    }\n",
       "</style>\n",
       "<table border=\"1\" class=\"dataframe\">\n",
       "  <thead>\n",
       "    <tr style=\"text-align: right;\">\n",
       "      <th></th>\n",
       "      <th>symbol</th>\n",
       "      <th>open</th>\n",
       "      <th>high</th>\n",
       "      <th>low</th>\n",
       "      <th>close</th>\n",
       "      <th>volume</th>\n",
       "    </tr>\n",
       "    <tr>\n",
       "      <th>datetime</th>\n",
       "      <th></th>\n",
       "      <th></th>\n",
       "      <th></th>\n",
       "      <th></th>\n",
       "      <th></th>\n",
       "      <th></th>\n",
       "    </tr>\n",
       "  </thead>\n",
       "  <tbody>\n",
       "    <tr>\n",
       "      <th>2005-04-01 22:00:00</th>\n",
       "      <td>BMFBOVESPA:LREN3</td>\n",
       "      <td>14.018237</td>\n",
       "      <td>14.018237</td>\n",
       "      <td>14.018237</td>\n",
       "      <td>14.018237</td>\n",
       "      <td>1.029916e+02</td>\n",
       "    </tr>\n",
       "    <tr>\n",
       "      <th>2005-06-27 22:00:00</th>\n",
       "      <td>BMFBOVESPA:LREN3</td>\n",
       "      <td>18.690984</td>\n",
       "      <td>18.690984</td>\n",
       "      <td>18.690984</td>\n",
       "      <td>18.690984</td>\n",
       "      <td>3.130137e+01</td>\n",
       "    </tr>\n",
       "    <tr>\n",
       "      <th>2005-07-01 22:00:00</th>\n",
       "      <td>BMFBOVESPA:LREN3</td>\n",
       "      <td>0.103015</td>\n",
       "      <td>0.107154</td>\n",
       "      <td>0.103015</td>\n",
       "      <td>0.107154</td>\n",
       "      <td>4.507010e+08</td>\n",
       "    </tr>\n",
       "    <tr>\n",
       "      <th>2005-07-04 22:00:00</th>\n",
       "      <td>BMFBOVESPA:LREN3</td>\n",
       "      <td>0.107951</td>\n",
       "      <td>0.111294</td>\n",
       "      <td>0.107154</td>\n",
       "      <td>0.110020</td>\n",
       "      <td>1.551298e+07</td>\n",
       "    </tr>\n",
       "    <tr>\n",
       "      <th>2005-07-05 22:00:00</th>\n",
       "      <td>BMFBOVESPA:LREN3</td>\n",
       "      <td>0.110179</td>\n",
       "      <td>0.111294</td>\n",
       "      <td>0.105721</td>\n",
       "      <td>0.106835</td>\n",
       "      <td>5.354244e+07</td>\n",
       "    </tr>\n",
       "  </tbody>\n",
       "</table>\n",
       "</div>"
      ],
      "text/plain": [
       "                               symbol       open       high        low  \\\n",
       "datetime                                                                 \n",
       "2005-04-01 22:00:00  BMFBOVESPA:LREN3  14.018237  14.018237  14.018237   \n",
       "2005-06-27 22:00:00  BMFBOVESPA:LREN3  18.690984  18.690984  18.690984   \n",
       "2005-07-01 22:00:00  BMFBOVESPA:LREN3   0.103015   0.107154   0.103015   \n",
       "2005-07-04 22:00:00  BMFBOVESPA:LREN3   0.107951   0.111294   0.107154   \n",
       "2005-07-05 22:00:00  BMFBOVESPA:LREN3   0.110179   0.111294   0.105721   \n",
       "\n",
       "                         close        volume  \n",
       "datetime                                      \n",
       "2005-04-01 22:00:00  14.018237  1.029916e+02  \n",
       "2005-06-27 22:00:00  18.690984  3.130137e+01  \n",
       "2005-07-01 22:00:00   0.107154  4.507010e+08  \n",
       "2005-07-04 22:00:00   0.110020  1.551298e+07  \n",
       "2005-07-05 22:00:00   0.106835  5.354244e+07  "
      ]
     },
     "execution_count": 128,
     "metadata": {},
     "output_type": "execute_result"
    }
   ],
   "source": [
    "\n",
    "lren.head()"
   ]
  },
  {
   "cell_type": "code",
   "execution_count": 129,
   "metadata": {},
   "outputs": [
    {
     "data": {
      "text/html": [
       "<div>\n",
       "<style scoped>\n",
       "    .dataframe tbody tr th:only-of-type {\n",
       "        vertical-align: middle;\n",
       "    }\n",
       "\n",
       "    .dataframe tbody tr th {\n",
       "        vertical-align: top;\n",
       "    }\n",
       "\n",
       "    .dataframe thead th {\n",
       "        text-align: right;\n",
       "    }\n",
       "</style>\n",
       "<table border=\"1\" class=\"dataframe\">\n",
       "  <thead>\n",
       "    <tr style=\"text-align: right;\">\n",
       "      <th></th>\n",
       "      <th>symbol</th>\n",
       "      <th>open</th>\n",
       "      <th>high</th>\n",
       "      <th>low</th>\n",
       "      <th>close</th>\n",
       "      <th>volume</th>\n",
       "    </tr>\n",
       "    <tr>\n",
       "      <th>datetime</th>\n",
       "      <th></th>\n",
       "      <th></th>\n",
       "      <th></th>\n",
       "      <th></th>\n",
       "      <th></th>\n",
       "      <th></th>\n",
       "    </tr>\n",
       "  </thead>\n",
       "  <tbody>\n",
       "    <tr>\n",
       "      <th>2024-04-18 22:00:00</th>\n",
       "      <td>BMFBOVESPA:LREN3</td>\n",
       "      <td>15.70</td>\n",
       "      <td>15.850000</td>\n",
       "      <td>15.28</td>\n",
       "      <td>15.41</td>\n",
       "      <td>15390200.0</td>\n",
       "    </tr>\n",
       "    <tr>\n",
       "      <th>2024-04-19 22:00:00</th>\n",
       "      <td>BMFBOVESPA:LREN3</td>\n",
       "      <td>15.41</td>\n",
       "      <td>16.040001</td>\n",
       "      <td>15.33</td>\n",
       "      <td>15.65</td>\n",
       "      <td>16431900.0</td>\n",
       "    </tr>\n",
       "    <tr>\n",
       "      <th>2024-04-22 22:00:00</th>\n",
       "      <td>BMFBOVESPA:LREN3</td>\n",
       "      <td>15.70</td>\n",
       "      <td>16.000000</td>\n",
       "      <td>15.52</td>\n",
       "      <td>15.59</td>\n",
       "      <td>8988100.0</td>\n",
       "    </tr>\n",
       "    <tr>\n",
       "      <th>2024-04-23 22:00:00</th>\n",
       "      <td>BMFBOVESPA:LREN3</td>\n",
       "      <td>15.45</td>\n",
       "      <td>15.690000</td>\n",
       "      <td>15.24</td>\n",
       "      <td>15.56</td>\n",
       "      <td>21331300.0</td>\n",
       "    </tr>\n",
       "    <tr>\n",
       "      <th>2024-04-24 22:00:00</th>\n",
       "      <td>BMFBOVESPA:LREN3</td>\n",
       "      <td>15.56</td>\n",
       "      <td>15.900000</td>\n",
       "      <td>15.55</td>\n",
       "      <td>15.59</td>\n",
       "      <td>8476700.0</td>\n",
       "    </tr>\n",
       "  </tbody>\n",
       "</table>\n",
       "</div>"
      ],
      "text/plain": [
       "                               symbol   open       high    low  close  \\\n",
       "datetime                                                                \n",
       "2024-04-18 22:00:00  BMFBOVESPA:LREN3  15.70  15.850000  15.28  15.41   \n",
       "2024-04-19 22:00:00  BMFBOVESPA:LREN3  15.41  16.040001  15.33  15.65   \n",
       "2024-04-22 22:00:00  BMFBOVESPA:LREN3  15.70  16.000000  15.52  15.59   \n",
       "2024-04-23 22:00:00  BMFBOVESPA:LREN3  15.45  15.690000  15.24  15.56   \n",
       "2024-04-24 22:00:00  BMFBOVESPA:LREN3  15.56  15.900000  15.55  15.59   \n",
       "\n",
       "                         volume  \n",
       "datetime                         \n",
       "2024-04-18 22:00:00  15390200.0  \n",
       "2024-04-19 22:00:00  16431900.0  \n",
       "2024-04-22 22:00:00   8988100.0  \n",
       "2024-04-23 22:00:00  21331300.0  \n",
       "2024-04-24 22:00:00   8476700.0  "
      ]
     },
     "execution_count": 129,
     "metadata": {},
     "output_type": "execute_result"
    }
   ],
   "source": [
    "lren.tail()"
   ]
  },
  {
   "cell_type": "code",
   "execution_count": 130,
   "metadata": {},
   "outputs": [],
   "source": [
    "lren['symbol'] =  lren.symbol.str.replace('BMFBOVESPA:', '')"
   ]
  },
  {
   "cell_type": "code",
   "execution_count": 131,
   "metadata": {},
   "outputs": [
    {
     "data": {
      "text/html": [
       "<div>\n",
       "<style scoped>\n",
       "    .dataframe tbody tr th:only-of-type {\n",
       "        vertical-align: middle;\n",
       "    }\n",
       "\n",
       "    .dataframe tbody tr th {\n",
       "        vertical-align: top;\n",
       "    }\n",
       "\n",
       "    .dataframe thead th {\n",
       "        text-align: right;\n",
       "    }\n",
       "</style>\n",
       "<table border=\"1\" class=\"dataframe\">\n",
       "  <thead>\n",
       "    <tr style=\"text-align: right;\">\n",
       "      <th></th>\n",
       "      <th>symbol</th>\n",
       "      <th>open</th>\n",
       "      <th>high</th>\n",
       "      <th>low</th>\n",
       "      <th>close</th>\n",
       "      <th>volume</th>\n",
       "    </tr>\n",
       "    <tr>\n",
       "      <th>datetime</th>\n",
       "      <th></th>\n",
       "      <th></th>\n",
       "      <th></th>\n",
       "      <th></th>\n",
       "      <th></th>\n",
       "      <th></th>\n",
       "    </tr>\n",
       "  </thead>\n",
       "  <tbody>\n",
       "    <tr>\n",
       "      <th>2024-04-18 22:00:00</th>\n",
       "      <td>LREN3</td>\n",
       "      <td>15.70</td>\n",
       "      <td>15.850000</td>\n",
       "      <td>15.28</td>\n",
       "      <td>15.41</td>\n",
       "      <td>15390200.0</td>\n",
       "    </tr>\n",
       "    <tr>\n",
       "      <th>2024-04-19 22:00:00</th>\n",
       "      <td>LREN3</td>\n",
       "      <td>15.41</td>\n",
       "      <td>16.040001</td>\n",
       "      <td>15.33</td>\n",
       "      <td>15.65</td>\n",
       "      <td>16431900.0</td>\n",
       "    </tr>\n",
       "    <tr>\n",
       "      <th>2024-04-22 22:00:00</th>\n",
       "      <td>LREN3</td>\n",
       "      <td>15.70</td>\n",
       "      <td>16.000000</td>\n",
       "      <td>15.52</td>\n",
       "      <td>15.59</td>\n",
       "      <td>8988100.0</td>\n",
       "    </tr>\n",
       "    <tr>\n",
       "      <th>2024-04-23 22:00:00</th>\n",
       "      <td>LREN3</td>\n",
       "      <td>15.45</td>\n",
       "      <td>15.690000</td>\n",
       "      <td>15.24</td>\n",
       "      <td>15.56</td>\n",
       "      <td>21331300.0</td>\n",
       "    </tr>\n",
       "    <tr>\n",
       "      <th>2024-04-24 22:00:00</th>\n",
       "      <td>LREN3</td>\n",
       "      <td>15.56</td>\n",
       "      <td>15.900000</td>\n",
       "      <td>15.55</td>\n",
       "      <td>15.59</td>\n",
       "      <td>8476700.0</td>\n",
       "    </tr>\n",
       "  </tbody>\n",
       "</table>\n",
       "</div>"
      ],
      "text/plain": [
       "                    symbol   open       high    low  close      volume\n",
       "datetime                                                              \n",
       "2024-04-18 22:00:00  LREN3  15.70  15.850000  15.28  15.41  15390200.0\n",
       "2024-04-19 22:00:00  LREN3  15.41  16.040001  15.33  15.65  16431900.0\n",
       "2024-04-22 22:00:00  LREN3  15.70  16.000000  15.52  15.59   8988100.0\n",
       "2024-04-23 22:00:00  LREN3  15.45  15.690000  15.24  15.56  21331300.0\n",
       "2024-04-24 22:00:00  LREN3  15.56  15.900000  15.55  15.59   8476700.0"
      ]
     },
     "execution_count": 131,
     "metadata": {},
     "output_type": "execute_result"
    }
   ],
   "source": [
    "lren.tail()"
   ]
  },
  {
   "cell_type": "markdown",
   "metadata": {},
   "source": [
    "#### 1.3. Dados estruturados e nao-estruturados"
   ]
  },
  {
   "cell_type": "code",
   "execution_count": 132,
   "metadata": {},
   "outputs": [
    {
     "data": {
      "text/html": [
       "<div>\n",
       "<style scoped>\n",
       "    .dataframe tbody tr th:only-of-type {\n",
       "        vertical-align: middle;\n",
       "    }\n",
       "\n",
       "    .dataframe tbody tr th {\n",
       "        vertical-align: top;\n",
       "    }\n",
       "\n",
       "    .dataframe thead th {\n",
       "        text-align: right;\n",
       "    }\n",
       "</style>\n",
       "<table border=\"1\" class=\"dataframe\">\n",
       "  <thead>\n",
       "    <tr style=\"text-align: right;\">\n",
       "      <th></th>\n",
       "      <th>symbol</th>\n",
       "      <th>open</th>\n",
       "      <th>high</th>\n",
       "      <th>low</th>\n",
       "      <th>close</th>\n",
       "      <th>volume</th>\n",
       "    </tr>\n",
       "    <tr>\n",
       "      <th>datetime</th>\n",
       "      <th></th>\n",
       "      <th></th>\n",
       "      <th></th>\n",
       "      <th></th>\n",
       "      <th></th>\n",
       "      <th></th>\n",
       "    </tr>\n",
       "  </thead>\n",
       "  <tbody>\n",
       "    <tr>\n",
       "      <th>2005-04-01 22:00:00</th>\n",
       "      <td>LREN3</td>\n",
       "      <td>14.018237</td>\n",
       "      <td>14.018237</td>\n",
       "      <td>14.018237</td>\n",
       "      <td>14.018237</td>\n",
       "      <td>1.029916e+02</td>\n",
       "    </tr>\n",
       "    <tr>\n",
       "      <th>2005-06-27 22:00:00</th>\n",
       "      <td>LREN3</td>\n",
       "      <td>18.690984</td>\n",
       "      <td>18.690984</td>\n",
       "      <td>18.690984</td>\n",
       "      <td>18.690984</td>\n",
       "      <td>3.130137e+01</td>\n",
       "    </tr>\n",
       "    <tr>\n",
       "      <th>2005-07-01 22:00:00</th>\n",
       "      <td>LREN3</td>\n",
       "      <td>0.103015</td>\n",
       "      <td>0.107154</td>\n",
       "      <td>0.103015</td>\n",
       "      <td>0.107154</td>\n",
       "      <td>4.507010e+08</td>\n",
       "    </tr>\n",
       "    <tr>\n",
       "      <th>2005-07-04 22:00:00</th>\n",
       "      <td>LREN3</td>\n",
       "      <td>0.107951</td>\n",
       "      <td>0.111294</td>\n",
       "      <td>0.107154</td>\n",
       "      <td>0.110020</td>\n",
       "      <td>1.551298e+07</td>\n",
       "    </tr>\n",
       "    <tr>\n",
       "      <th>2005-07-05 22:00:00</th>\n",
       "      <td>LREN3</td>\n",
       "      <td>0.110179</td>\n",
       "      <td>0.111294</td>\n",
       "      <td>0.105721</td>\n",
       "      <td>0.106835</td>\n",
       "      <td>5.354244e+07</td>\n",
       "    </tr>\n",
       "  </tbody>\n",
       "</table>\n",
       "</div>"
      ],
      "text/plain": [
       "                    symbol       open       high        low      close  \\\n",
       "datetime                                                                 \n",
       "2005-04-01 22:00:00  LREN3  14.018237  14.018237  14.018237  14.018237   \n",
       "2005-06-27 22:00:00  LREN3  18.690984  18.690984  18.690984  18.690984   \n",
       "2005-07-01 22:00:00  LREN3   0.103015   0.107154   0.103015   0.107154   \n",
       "2005-07-04 22:00:00  LREN3   0.107951   0.111294   0.107154   0.110020   \n",
       "2005-07-05 22:00:00  LREN3   0.110179   0.111294   0.105721   0.106835   \n",
       "\n",
       "                           volume  \n",
       "datetime                           \n",
       "2005-04-01 22:00:00  1.029916e+02  \n",
       "2005-06-27 22:00:00  3.130137e+01  \n",
       "2005-07-01 22:00:00  4.507010e+08  \n",
       "2005-07-04 22:00:00  1.551298e+07  \n",
       "2005-07-05 22:00:00  5.354244e+07  "
      ]
     },
     "execution_count": 132,
     "metadata": {},
     "output_type": "execute_result"
    }
   ],
   "source": [
    "# Exemplo de um dado estruturado\n",
    "\n",
    "lren.head()"
   ]
  },
  {
   "cell_type": "code",
   "execution_count": 134,
   "metadata": {},
   "outputs": [
    {
     "data": {
      "text/html": [
       "<img src=\"https://upload.wikimedia.org/wikipedia/commons/a/ad/Lozingle_10032014.jpg\"/>"
      ],
      "text/plain": [
       "<IPython.core.display.Image object>"
      ]
     },
     "execution_count": 134,
     "metadata": {},
     "output_type": "execute_result"
    }
   ],
   "source": [
    "# Dados nao estruturados\n",
    "# Exemplo: uma imagem e uma forma de dado nao estruturado\n",
    "\n",
    "# Entretando, pode-se extrair informacoes relevantes mesmo nesse tipo de dado\n",
    "\n",
    "from IPython.display import Image\n",
    "Image(url = 'https://upload.wikimedia.org/wikipedia/commons/a/ad/Lozingle_10032014.jpg')"
   ]
  },
  {
   "cell_type": "markdown",
   "metadata": {},
   "source": [
    "Outros exemplos sao paginas de internet, mensagens em aplicativos e redes sociais, audios..."
   ]
  },
  {
   "cell_type": "markdown",
   "metadata": {},
   "source": [
    "#### 1.4. Variaveis quantitativas e qualitativas"
   ]
  },
  {
   "cell_type": "code",
   "execution_count": 135,
   "metadata": {},
   "outputs": [
    {
     "data": {
      "text/html": [
       "<div>\n",
       "<style scoped>\n",
       "    .dataframe tbody tr th:only-of-type {\n",
       "        vertical-align: middle;\n",
       "    }\n",
       "\n",
       "    .dataframe tbody tr th {\n",
       "        vertical-align: top;\n",
       "    }\n",
       "\n",
       "    .dataframe thead th {\n",
       "        text-align: right;\n",
       "    }\n",
       "</style>\n",
       "<table border=\"1\" class=\"dataframe\">\n",
       "  <thead>\n",
       "    <tr style=\"text-align: right;\">\n",
       "      <th></th>\n",
       "      <th>Open</th>\n",
       "      <th>High</th>\n",
       "      <th>Low</th>\n",
       "      <th>Close</th>\n",
       "      <th>Adj Close</th>\n",
       "      <th>Volume</th>\n",
       "    </tr>\n",
       "    <tr>\n",
       "      <th>Date</th>\n",
       "      <th></th>\n",
       "      <th></th>\n",
       "      <th></th>\n",
       "      <th></th>\n",
       "      <th></th>\n",
       "      <th></th>\n",
       "    </tr>\n",
       "  </thead>\n",
       "  <tbody>\n",
       "    <tr>\n",
       "      <th>2000-12-21</th>\n",
       "      <td>2.815505</td>\n",
       "      <td>2.988535</td>\n",
       "      <td>2.815174</td>\n",
       "      <td>2.960552</td>\n",
       "      <td>1.644483</td>\n",
       "      <td>74224</td>\n",
       "    </tr>\n",
       "    <tr>\n",
       "      <th>2000-12-22</th>\n",
       "      <td>2.930748</td>\n",
       "      <td>2.930748</td>\n",
       "      <td>2.814843</td>\n",
       "      <td>2.832229</td>\n",
       "      <td>1.573204</td>\n",
       "      <td>23312</td>\n",
       "    </tr>\n",
       "    <tr>\n",
       "      <th>2000-12-25</th>\n",
       "      <td>2.832229</td>\n",
       "      <td>2.832229</td>\n",
       "      <td>2.832229</td>\n",
       "      <td>2.832229</td>\n",
       "      <td>1.573204</td>\n",
       "      <td>0</td>\n",
       "    </tr>\n",
       "    <tr>\n",
       "      <th>2000-12-26</th>\n",
       "      <td>2.816664</td>\n",
       "      <td>2.834712</td>\n",
       "      <td>2.790006</td>\n",
       "      <td>2.831401</td>\n",
       "      <td>1.572743</td>\n",
       "      <td>7851</td>\n",
       "    </tr>\n",
       "    <tr>\n",
       "      <th>2000-12-27</th>\n",
       "      <td>2.881074</td>\n",
       "      <td>2.927437</td>\n",
       "      <td>2.831401</td>\n",
       "      <td>2.927437</td>\n",
       "      <td>1.626087</td>\n",
       "      <td>26996</td>\n",
       "    </tr>\n",
       "    <tr>\n",
       "      <th>...</th>\n",
       "      <td>...</td>\n",
       "      <td>...</td>\n",
       "      <td>...</td>\n",
       "      <td>...</td>\n",
       "      <td>...</td>\n",
       "      <td>...</td>\n",
       "    </tr>\n",
       "    <tr>\n",
       "      <th>2024-04-18</th>\n",
       "      <td>31.750000</td>\n",
       "      <td>32.000000</td>\n",
       "      <td>31.360001</td>\n",
       "      <td>31.730000</td>\n",
       "      <td>31.730000</td>\n",
       "      <td>21697800</td>\n",
       "    </tr>\n",
       "    <tr>\n",
       "      <th>2024-04-19</th>\n",
       "      <td>31.780001</td>\n",
       "      <td>31.969999</td>\n",
       "      <td>31.450001</td>\n",
       "      <td>31.549999</td>\n",
       "      <td>31.549999</td>\n",
       "      <td>26917000</td>\n",
       "    </tr>\n",
       "    <tr>\n",
       "      <th>2024-04-22</th>\n",
       "      <td>31.639999</td>\n",
       "      <td>31.740000</td>\n",
       "      <td>31.280001</td>\n",
       "      <td>31.530001</td>\n",
       "      <td>31.530001</td>\n",
       "      <td>21715600</td>\n",
       "    </tr>\n",
       "    <tr>\n",
       "      <th>2024-04-23</th>\n",
       "      <td>31.400000</td>\n",
       "      <td>32.310001</td>\n",
       "      <td>31.400000</td>\n",
       "      <td>32.000000</td>\n",
       "      <td>32.000000</td>\n",
       "      <td>46873000</td>\n",
       "    </tr>\n",
       "    <tr>\n",
       "      <th>2024-04-24</th>\n",
       "      <td>32.000000</td>\n",
       "      <td>32.090000</td>\n",
       "      <td>31.620001</td>\n",
       "      <td>31.860001</td>\n",
       "      <td>31.860001</td>\n",
       "      <td>24172500</td>\n",
       "    </tr>\n",
       "  </tbody>\n",
       "</table>\n",
       "<p>5852 rows × 6 columns</p>\n",
       "</div>"
      ],
      "text/plain": [
       "                 Open       High        Low      Close  Adj Close    Volume\n",
       "Date                                                                       \n",
       "2000-12-21   2.815505   2.988535   2.815174   2.960552   1.644483     74224\n",
       "2000-12-22   2.930748   2.930748   2.814843   2.832229   1.573204     23312\n",
       "2000-12-25   2.832229   2.832229   2.832229   2.832229   1.573204         0\n",
       "2000-12-26   2.816664   2.834712   2.790006   2.831401   1.572743      7851\n",
       "2000-12-27   2.881074   2.927437   2.831401   2.927437   1.626087     26996\n",
       "...               ...        ...        ...        ...        ...       ...\n",
       "2024-04-18  31.750000  32.000000  31.360001  31.730000  31.730000  21697800\n",
       "2024-04-19  31.780001  31.969999  31.450001  31.549999  31.549999  26917000\n",
       "2024-04-22  31.639999  31.740000  31.280001  31.530001  31.530001  21715600\n",
       "2024-04-23  31.400000  32.310001  31.400000  32.000000  32.000000  46873000\n",
       "2024-04-24  32.000000  32.090000  31.620001  31.860001  31.860001  24172500\n",
       "\n",
       "[5852 rows x 6 columns]"
      ]
     },
     "execution_count": 135,
     "metadata": {},
     "output_type": "execute_result"
    }
   ],
   "source": [
    "itub4"
   ]
  },
  {
   "cell_type": "code",
   "execution_count": 136,
   "metadata": {},
   "outputs": [
    {
     "data": {
      "text/plain": [
       "Open         float64\n",
       "High         float64\n",
       "Low          float64\n",
       "Close        float64\n",
       "Adj Close    float64\n",
       "Volume         int64\n",
       "dtype: object"
      ]
     },
     "execution_count": 136,
     "metadata": {},
     "output_type": "execute_result"
    }
   ],
   "source": [
    "itub4.dtypes"
   ]
  },
  {
   "cell_type": "markdown",
   "metadata": {},
   "source": [
    "Variaveis do tipo \"float\" e \"int\" sao numericas, ou seja, quantitativas.\\\n",
    "Para visualizar na pratica um exemplo de variavel quantitativa, realizaremos algumas transformacoes na tabela acima\n"
   ]
  },
  {
   "cell_type": "code",
   "execution_count": 138,
   "metadata": {},
   "outputs": [],
   "source": [
    "# Vamos mudar o formato dos dados acima\n",
    "\n",
    "cotacoes_ativos_long = pd.melt(itub4, ignore_index = False)"
   ]
  },
  {
   "cell_type": "code",
   "execution_count": 140,
   "metadata": {},
   "outputs": [
    {
     "data": {
      "text/html": [
       "<div>\n",
       "<style scoped>\n",
       "    .dataframe tbody tr th:only-of-type {\n",
       "        vertical-align: middle;\n",
       "    }\n",
       "\n",
       "    .dataframe tbody tr th {\n",
       "        vertical-align: top;\n",
       "    }\n",
       "\n",
       "    .dataframe thead th {\n",
       "        text-align: right;\n",
       "    }\n",
       "</style>\n",
       "<table border=\"1\" class=\"dataframe\">\n",
       "  <thead>\n",
       "    <tr style=\"text-align: right;\">\n",
       "      <th></th>\n",
       "      <th>variable</th>\n",
       "      <th>value</th>\n",
       "    </tr>\n",
       "    <tr>\n",
       "      <th>Date</th>\n",
       "      <th></th>\n",
       "      <th></th>\n",
       "    </tr>\n",
       "  </thead>\n",
       "  <tbody>\n",
       "    <tr>\n",
       "      <th>2000-12-21</th>\n",
       "      <td>Open</td>\n",
       "      <td>2.815505e+00</td>\n",
       "    </tr>\n",
       "    <tr>\n",
       "      <th>2000-12-22</th>\n",
       "      <td>Open</td>\n",
       "      <td>2.930748e+00</td>\n",
       "    </tr>\n",
       "    <tr>\n",
       "      <th>2000-12-25</th>\n",
       "      <td>Open</td>\n",
       "      <td>2.832229e+00</td>\n",
       "    </tr>\n",
       "    <tr>\n",
       "      <th>2000-12-26</th>\n",
       "      <td>Open</td>\n",
       "      <td>2.816664e+00</td>\n",
       "    </tr>\n",
       "    <tr>\n",
       "      <th>2000-12-27</th>\n",
       "      <td>Open</td>\n",
       "      <td>2.881074e+00</td>\n",
       "    </tr>\n",
       "    <tr>\n",
       "      <th>...</th>\n",
       "      <td>...</td>\n",
       "      <td>...</td>\n",
       "    </tr>\n",
       "    <tr>\n",
       "      <th>2024-04-18</th>\n",
       "      <td>Volume</td>\n",
       "      <td>2.169780e+07</td>\n",
       "    </tr>\n",
       "    <tr>\n",
       "      <th>2024-04-19</th>\n",
       "      <td>Volume</td>\n",
       "      <td>2.691700e+07</td>\n",
       "    </tr>\n",
       "    <tr>\n",
       "      <th>2024-04-22</th>\n",
       "      <td>Volume</td>\n",
       "      <td>2.171560e+07</td>\n",
       "    </tr>\n",
       "    <tr>\n",
       "      <th>2024-04-23</th>\n",
       "      <td>Volume</td>\n",
       "      <td>4.687300e+07</td>\n",
       "    </tr>\n",
       "    <tr>\n",
       "      <th>2024-04-24</th>\n",
       "      <td>Volume</td>\n",
       "      <td>2.417250e+07</td>\n",
       "    </tr>\n",
       "  </tbody>\n",
       "</table>\n",
       "<p>35112 rows × 2 columns</p>\n",
       "</div>"
      ],
      "text/plain": [
       "           variable         value\n",
       "Date                             \n",
       "2000-12-21     Open  2.815505e+00\n",
       "2000-12-22     Open  2.930748e+00\n",
       "2000-12-25     Open  2.832229e+00\n",
       "2000-12-26     Open  2.816664e+00\n",
       "2000-12-27     Open  2.881074e+00\n",
       "...             ...           ...\n",
       "2024-04-18   Volume  2.169780e+07\n",
       "2024-04-19   Volume  2.691700e+07\n",
       "2024-04-22   Volume  2.171560e+07\n",
       "2024-04-23   Volume  4.687300e+07\n",
       "2024-04-24   Volume  2.417250e+07\n",
       "\n",
       "[35112 rows x 2 columns]"
      ]
     },
     "execution_count": 140,
     "metadata": {},
     "output_type": "execute_result"
    }
   ],
   "source": [
    "cotacoes_ativos_long"
   ]
  },
  {
   "cell_type": "markdown",
   "metadata": {},
   "source": [
    "Perceba que essa nova coluna 'variable', que determina o tipo do dado, passou a ser uma variavel qualitativa."
   ]
  },
  {
   "cell_type": "code",
   "execution_count": 141,
   "metadata": {},
   "outputs": [
    {
     "data": {
      "text/plain": [
       "variable     object\n",
       "value       float64\n",
       "dtype: object"
      ]
     },
     "execution_count": 141,
     "metadata": {},
     "output_type": "execute_result"
    }
   ],
   "source": [
    "cotacoes_ativos_long.dtypes"
   ]
  },
  {
   "cell_type": "code",
   "execution_count": 142,
   "metadata": {},
   "outputs": [
    {
     "data": {
      "text/plain": [
       "{'Adj Close', 'Close', 'High', 'Low', 'Open', 'Volume'}"
      ]
     },
     "execution_count": 142,
     "metadata": {},
     "output_type": "execute_result"
    }
   ],
   "source": [
    "set(cotacoes_ativos_long.variable)"
   ]
  },
  {
   "cell_type": "markdown",
   "metadata": {},
   "source": [
    "Perceba que antes essas eram as colunas do dataframe original"
   ]
  },
  {
   "cell_type": "code",
   "execution_count": 143,
   "metadata": {},
   "outputs": [
    {
     "data": {
      "text/plain": [
       "Index(['Open', 'High', 'Low', 'Close', 'Adj Close', 'Volume'], dtype='object')"
      ]
     },
     "execution_count": 143,
     "metadata": {},
     "output_type": "execute_result"
    }
   ],
   "source": [
    "itub4.columns"
   ]
  },
  {
   "cell_type": "markdown",
   "metadata": {},
   "source": [
    "#### 1.5. Alterando diretorios de acesso aos dados (nesse caso apenas em IDEs locais)"
   ]
  },
  {
   "cell_type": "markdown",
   "metadata": {},
   "source": [
    "Podemos fazer algumas modificacoes e ajustes um pouco mais avancados. E se o arquivo nao estiver na pasta onde esta o codigo que voce esta criando?\n",
    "\n",
    "Primeiro verifique qual o endereco que o Python esta \"vendo\" naquele momento"
   ]
  },
  {
   "cell_type": "code",
   "execution_count": 144,
   "metadata": {},
   "outputs": [],
   "source": [
    "import os"
   ]
  },
  {
   "cell_type": "code",
   "execution_count": 145,
   "metadata": {},
   "outputs": [
    {
     "data": {
      "text/plain": [
       "'/home/chibana/Documents/GitHub/Study_Area/Python/Data_Trading/Modulo 2'"
      ]
     },
     "execution_count": 145,
     "metadata": {},
     "output_type": "execute_result"
    }
   ],
   "source": [
    "os.getcwd()"
   ]
  },
  {
   "cell_type": "code",
   "execution_count": null,
   "metadata": {},
   "outputs": [],
   "source": []
  }
 ],
 "metadata": {
  "kernelspec": {
   "display_name": "Python 3",
   "language": "python",
   "name": "python3"
  },
  "language_info": {
   "codemirror_mode": {
    "name": "ipython",
    "version": 3
   },
   "file_extension": ".py",
   "mimetype": "text/x-python",
   "name": "python",
   "nbconvert_exporter": "python",
   "pygments_lexer": "ipython3",
   "version": "3.9.18"
  }
 },
 "nbformat": 4,
 "nbformat_minor": 2
}
