{
 "cells": [
  {
   "cell_type": "markdown",
   "metadata": {},
   "source": [
    "<center><img src = \"/home/chibana/Documents/GitHub/Study_Area/Python/Data_Trading/Modulo1/Imagens/logotipo-trading-com-dados-branco.svg?raw=true\" width = \"250\">"
   ]
  },
  {
   "cell_type": "markdown",
   "metadata": {},
   "source": [
    "<center><PMF 001.png>"
   ]
  },
  {
   "cell_type": "markdown",
   "metadata": {},
   "source": [
    "<center><img src = \"/home/chibana/Documents/GitHub/Study_Area/Python/Data_Trading/Modulo1/Imagens/PMF 001.png?raw=true\" width = \"500\">"
   ]
  },
  {
   "cell_type": "markdown",
   "metadata": {},
   "source": [
    "# **Python para Mercado Financeiro**"
   ]
  },
  {
   "cell_type": "markdown",
   "metadata": {},
   "source": [
    "### 10. Estruturas de Repeticao"
   ]
  },
  {
   "cell_type": "markdown",
   "metadata": {},
   "source": [
    "#### 10.1. For"
   ]
  },
  {
   "cell_type": "code",
   "execution_count": 59,
   "metadata": {},
   "outputs": [],
   "source": [
    "lista = [1, 2, 3]"
   ]
  },
  {
   "cell_type": "markdown",
   "metadata": {},
   "source": [
    "**loop**\n",
    "\n",
    "Vamos criar um psudo codigo de um loop:\n",
    "\n",
    "Para cada elemento dentro da lista: \\\n",
    "   imprima (elemento)"
   ]
  },
  {
   "cell_type": "code",
   "execution_count": 60,
   "metadata": {},
   "outputs": [
    {
     "name": "stdout",
     "output_type": "stream",
     "text": [
      "1\n",
      "2\n",
      "3\n"
     ]
    }
   ],
   "source": [
    "for elemento in lista:\n",
    "    print(elemento)"
   ]
  },
  {
   "cell_type": "code",
   "execution_count": 61,
   "metadata": {},
   "outputs": [
    {
     "name": "stdout",
     "output_type": "stream",
     "text": [
      "1\n",
      "2\n",
      "3\n"
     ]
    }
   ],
   "source": [
    "for veiculo in lista:\n",
    "    print(veiculo)"
   ]
  },
  {
   "cell_type": "code",
   "execution_count": 62,
   "metadata": {},
   "outputs": [],
   "source": [
    "acoes = [\"BPAN4\", \"BBSE3\", \"BRFS3\", \"ECOR3\", \"ENGI11\", \"RAIL3\", \"SULA11\", \"VALE3\", \"WEGE3\"]"
   ]
  },
  {
   "cell_type": "code",
   "execution_count": 63,
   "metadata": {},
   "outputs": [
    {
     "name": "stdout",
     "output_type": "stream",
     "text": [
      "BPAN4\n",
      "BBSE3\n",
      "BRFS3\n",
      "ECOR3\n",
      "ENGI11\n",
      "RAIL3\n",
      "SULA11\n",
      "VALE3\n",
      "WEGE3\n"
     ]
    }
   ],
   "source": [
    "for i in acoes:\n",
    "    print(i)"
   ]
  },
  {
   "cell_type": "markdown",
   "metadata": {},
   "source": [
    "Nos podemos utilizar qualquer variavel dentro do nosso loop desde que a lista onde o loop esta iterando seja mantida"
   ]
  },
  {
   "cell_type": "markdown",
   "metadata": {},
   "source": [
    "Exercicio: Coloque \".SA\" no final do ticker de cada papel acima"
   ]
  },
  {
   "cell_type": "code",
   "execution_count": 64,
   "metadata": {},
   "outputs": [
    {
     "name": "stdout",
     "output_type": "stream",
     "text": [
      "BPAN4.SA\n",
      "BBSE3.SA\n",
      "BRFS3.SA\n",
      "ECOR3.SA\n",
      "ENGI11.SA\n",
      "RAIL3.SA\n",
      "SULA11.SA\n",
      "VALE3.SA\n",
      "WEGE3.SA\n"
     ]
    }
   ],
   "source": [
    "for i in acoes:\n",
    "    print(i + '.SA')"
   ]
  },
  {
   "cell_type": "code",
   "execution_count": 65,
   "metadata": {},
   "outputs": [
    {
     "data": {
      "text/plain": [
       "'BPAN4.SA'"
      ]
     },
     "metadata": {},
     "output_type": "display_data"
    },
    {
     "data": {
      "text/plain": [
       "'BBSE3.SA'"
      ]
     },
     "metadata": {},
     "output_type": "display_data"
    },
    {
     "data": {
      "text/plain": [
       "'BRFS3.SA'"
      ]
     },
     "metadata": {},
     "output_type": "display_data"
    },
    {
     "data": {
      "text/plain": [
       "'ECOR3.SA'"
      ]
     },
     "metadata": {},
     "output_type": "display_data"
    },
    {
     "data": {
      "text/plain": [
       "'ENGI11.SA'"
      ]
     },
     "metadata": {},
     "output_type": "display_data"
    },
    {
     "data": {
      "text/plain": [
       "'RAIL3.SA'"
      ]
     },
     "metadata": {},
     "output_type": "display_data"
    },
    {
     "data": {
      "text/plain": [
       "'SULA11.SA'"
      ]
     },
     "metadata": {},
     "output_type": "display_data"
    },
    {
     "data": {
      "text/plain": [
       "'VALE3.SA'"
      ]
     },
     "metadata": {},
     "output_type": "display_data"
    },
    {
     "data": {
      "text/plain": [
       "'WEGE3.SA'"
      ]
     },
     "metadata": {},
     "output_type": "display_data"
    }
   ],
   "source": [
    "for i in acoes:\n",
    "    display(i + '.SA')"
   ]
  },
  {
   "cell_type": "markdown",
   "metadata": {},
   "source": [
    "Exercicio: crie um nova lista que recebe o ticker das acoes modificados, contendo o .SA no final"
   ]
  },
  {
   "cell_type": "code",
   "execution_count": 66,
   "metadata": {},
   "outputs": [],
   "source": [
    "for i in acoes:\n",
    "    acoes_modificadas.append(i + '.SA')"
   ]
  },
  {
   "cell_type": "code",
   "execution_count": 67,
   "metadata": {},
   "outputs": [
    {
     "name": "stdout",
     "output_type": "stream",
     "text": [
      "['BPAN4.SA', 'BBSE3.SA', 'BRFS3.SA', 'ECOR3.SA', 'ENGI11.SA', 'RAIL3.SA', 'SULA11.SA', 'VALE3.SA', 'WEGE3.SA', 'SUZB3.SA', 'BPAN4.SA', 'BBSE3.SA', 'BRFS3.SA', 'ECOR3.SA', 'ENGI11.SA', 'RAIL3.SA', 'SULA11.SA', 'VALE3.SA', 'WEGE3.SA']\n"
     ]
    }
   ],
   "source": [
    "print(acoes_modificadas)"
   ]
  },
  {
   "cell_type": "code",
   "execution_count": 68,
   "metadata": {},
   "outputs": [],
   "source": [
    "acoes.append('SUZB3')\n",
    "acoes_modificadas.append('SUZB3'+ '.SA')"
   ]
  },
  {
   "cell_type": "code",
   "execution_count": 69,
   "metadata": {},
   "outputs": [],
   "source": [
    "mensagem = \"e um papel do Ibov\""
   ]
  },
  {
   "cell_type": "code",
   "execution_count": 70,
   "metadata": {},
   "outputs": [
    {
     "name": "stdout",
     "output_type": "stream",
     "text": [
      "BPAN4 e um papel do Ibov\n",
      "BBSE3 e um papel do Ibov\n",
      "BRFS3 e um papel do Ibov\n",
      "ECOR3 e um papel do Ibov\n",
      "ENGI11 e um papel do Ibov\n",
      "RAIL3 e um papel do Ibov\n",
      "SULA11 e um papel do Ibov\n",
      "VALE3 e um papel do Ibov\n",
      "WEGE3 e um papel do Ibov\n",
      "SUZB3 e um papel do Ibov\n"
     ]
    }
   ],
   "source": [
    "for acao in acoes:\n",
    "    print(acao, mensagem)"
   ]
  },
  {
   "cell_type": "code",
   "execution_count": 71,
   "metadata": {},
   "outputs": [],
   "source": [
    "acoes.append('HCTR11')"
   ]
  },
  {
   "cell_type": "code",
   "execution_count": 72,
   "metadata": {},
   "outputs": [],
   "source": [
    "acoes.append('IVVB11')"
   ]
  },
  {
   "cell_type": "code",
   "execution_count": 73,
   "metadata": {},
   "outputs": [],
   "source": [
    "acoes.append('COCA34')"
   ]
  },
  {
   "cell_type": "code",
   "execution_count": 74,
   "metadata": {},
   "outputs": [
    {
     "data": {
      "text/plain": [
       "'SUZB3'"
      ]
     },
     "execution_count": 74,
     "metadata": {},
     "output_type": "execute_result"
    }
   ],
   "source": [
    "acoes.pop(-4)"
   ]
  },
  {
   "cell_type": "code",
   "execution_count": 75,
   "metadata": {},
   "outputs": [
    {
     "data": {
      "text/plain": [
       "'WEGE3'"
      ]
     },
     "execution_count": 75,
     "metadata": {},
     "output_type": "execute_result"
    }
   ],
   "source": [
    "acoes.pop(-4)"
   ]
  },
  {
   "cell_type": "code",
   "execution_count": 76,
   "metadata": {},
   "outputs": [
    {
     "data": {
      "text/plain": [
       "['BPAN4',\n",
       " 'BBSE3',\n",
       " 'BRFS3',\n",
       " 'ECOR3',\n",
       " 'ENGI11',\n",
       " 'RAIL3',\n",
       " 'SULA11',\n",
       " 'VALE3',\n",
       " 'HCTR11',\n",
       " 'IVVB11',\n",
       " 'COCA34']"
      ]
     },
     "execution_count": 76,
     "metadata": {},
     "output_type": "execute_result"
    }
   ],
   "source": [
    "acoes"
   ]
  },
  {
   "cell_type": "markdown",
   "metadata": {},
   "source": [
    "Automacao usando a funcao break para interromper o loop assim que uma condicao for satisfeita"
   ]
  },
  {
   "cell_type": "code",
   "execution_count": 77,
   "metadata": {},
   "outputs": [
    {
     "name": "stdout",
     "output_type": "stream",
     "text": [
      "BPAN4 e um papel do Ibov\n",
      "BBSE3 e um papel do Ibov\n",
      "BRFS3 e um papel do Ibov\n",
      "ECOR3 e um papel do Ibov\n",
      "ENGI11 e um papel do Ibov\n",
      "RAIL3 e um papel do Ibov\n",
      "SULA11 e um papel do Ibov\n",
      "VALE3 e um papel do Ibov\n",
      "HCTR11 e um papel do Ibov\n",
      "IVVB11 e um papel do Ibov\n",
      "COCA34 e um papel do Ibov\n"
     ]
    }
   ],
   "source": [
    "for acao in acoes:\n",
    "    print(acao, mensagem)\n",
    "    if acao == 'SUZB3':\n",
    "        break"
   ]
  },
  {
   "cell_type": "markdown",
   "metadata": {},
   "source": [
    "Vamos lembrar dos dicionarios"
   ]
  },
  {
   "cell_type": "code",
   "execution_count": 78,
   "metadata": {},
   "outputs": [],
   "source": [
    "precos = {'PETR4':30, 'VALE3':102, 'WEGE3':34}"
   ]
  },
  {
   "cell_type": "code",
   "execution_count": 79,
   "metadata": {},
   "outputs": [
    {
     "data": {
      "text/plain": [
       "dict_keys(['PETR4', 'VALE3', 'WEGE3'])"
      ]
     },
     "execution_count": 79,
     "metadata": {},
     "output_type": "execute_result"
    }
   ],
   "source": [
    "precos.keys()"
   ]
  },
  {
   "cell_type": "code",
   "execution_count": 80,
   "metadata": {},
   "outputs": [
    {
     "data": {
      "text/plain": [
       "dict_values([30, 102, 34])"
      ]
     },
     "execution_count": 80,
     "metadata": {},
     "output_type": "execute_result"
    }
   ],
   "source": [
    "precos.values()"
   ]
  },
  {
   "cell_type": "code",
   "execution_count": 81,
   "metadata": {},
   "outputs": [
    {
     "data": {
      "text/plain": [
       "['PETR4', 'VALE3', 'WEGE3']"
      ]
     },
     "execution_count": 81,
     "metadata": {},
     "output_type": "execute_result"
    }
   ],
   "source": [
    "list(precos.keys())"
   ]
  },
  {
   "cell_type": "markdown",
   "metadata": {},
   "source": [
    "Se isso e uma lista, pode ser indexada"
   ]
  },
  {
   "cell_type": "code",
   "execution_count": 82,
   "metadata": {},
   "outputs": [
    {
     "data": {
      "text/plain": [
       "'WEGE3'"
      ]
     },
     "execution_count": 82,
     "metadata": {},
     "output_type": "execute_result"
    }
   ],
   "source": [
    "list(precos.keys())[2]"
   ]
  },
  {
   "cell_type": "code",
   "execution_count": 85,
   "metadata": {},
   "outputs": [
    {
     "data": {
      "text/plain": [
       "'A acao WEGE3 esta com o preco de 34 neste momento'"
      ]
     },
     "execution_count": 85,
     "metadata": {},
     "output_type": "execute_result"
    }
   ],
   "source": [
    "\"A acao \" + list(precos.keys())[2] + \" esta com o preco de \" + str(list(precos.values())[2]) + \" neste momento\""
   ]
  },
  {
   "cell_type": "code",
   "execution_count": 91,
   "metadata": {},
   "outputs": [
    {
     "name": "stdout",
     "output_type": "stream",
     "text": [
      "A acao WEGE3 esta com o preco de 34 neste momento\n"
     ]
    }
   ],
   "source": [
    "print(\"A acao\", list(precos.keys())[2], \"esta com o preco de\", list(precos.values())[2], \"neste momento\")"
   ]
  },
  {
   "cell_type": "markdown",
   "metadata": {},
   "source": [
    "Vamos lembrar do operador len (comprimento)\n"
   ]
  },
  {
   "cell_type": "code",
   "execution_count": 97,
   "metadata": {},
   "outputs": [
    {
     "data": {
      "text/plain": [
       "3"
      ]
     },
     "execution_count": 97,
     "metadata": {},
     "output_type": "execute_result"
    }
   ],
   "source": [
    "len(precos)"
   ]
  },
  {
   "cell_type": "markdown",
   "metadata": {},
   "source": [
    "O operador range para obter os elementos contidos dentro de um intervalo"
   ]
  },
  {
   "cell_type": "code",
   "execution_count": 95,
   "metadata": {},
   "outputs": [
    {
     "data": {
      "text/plain": [
       "range(0, 3)"
      ]
     },
     "execution_count": 95,
     "metadata": {},
     "output_type": "execute_result"
    }
   ],
   "source": [
    "range(0, len(precos))"
   ]
  },
  {
   "cell_type": "code",
   "execution_count": 98,
   "metadata": {},
   "outputs": [
    {
     "data": {
      "text/plain": [
       "[0, 1, 2]"
      ]
     },
     "execution_count": 98,
     "metadata": {},
     "output_type": "execute_result"
    }
   ],
   "source": [
    "list(range(0, len(precos)))"
   ]
  },
  {
   "cell_type": "code",
   "execution_count": 99,
   "metadata": {},
   "outputs": [
    {
     "name": "stdout",
     "output_type": "stream",
     "text": [
      "0\n",
      "1\n",
      "2\n"
     ]
    }
   ],
   "source": [
    "for i in list(range(0, len(precos))):\n",
    "    print(i)"
   ]
  },
  {
   "cell_type": "code",
   "execution_count": 100,
   "metadata": {},
   "outputs": [
    {
     "name": "stdout",
     "output_type": "stream",
     "text": [
      "A acao PETR4 esta com o preco de 30 neste momento\n",
      "A acao VALE3 esta com o preco de 102 neste momento\n",
      "A acao WEGE3 esta com o preco de 34 neste momento\n"
     ]
    }
   ],
   "source": [
    "for i in list(range(0, len(precos))):\n",
    "    print(\"A acao\", list(precos.keys())[i], \"esta com o preco de\", list(precos.values())[i], \"neste momento\")"
   ]
  },
  {
   "cell_type": "markdown",
   "metadata": {},
   "source": [
    "#### 10.2. While"
   ]
  },
  {
   "cell_type": "markdown",
   "metadata": {},
   "source": [
    "A estrutura while (enquanto, em portugues) se refere a outra repeticao (loop) que ocorrera enquanto a condicao for verdadeira. Poderia ser pensada de uma maneira analoga ao uso do 'for' e 'if' integrados"
   ]
  },
  {
   "cell_type": "markdown",
   "metadata": {},
   "source": [
    "Enquanto o preco for menor que R$100, imprima a seguinte frase:\\\n",
    "\"Ainda nao atingiu o preco ideal para a venda. Espere!\"\n",
    "\n",
    "Caso a condicao seja verdadeira (preco_vale >= R$100), imprima esta outra frase:\\\n",
    "\"Preco alvo atingido. Hora de vender!\""
   ]
  },
  {
   "cell_type": "code",
   "execution_count": 104,
   "metadata": {},
   "outputs": [],
   "source": [
    "preco_vale = 70"
   ]
  },
  {
   "cell_type": "code",
   "execution_count": 105,
   "metadata": {},
   "outputs": [
    {
     "name": "stdout",
     "output_type": "stream",
     "text": [
      "Ainda nao atingiu o preco ideal para a venda. Espere! O preco atual e: 70\n",
      "Ainda nao atingiu o preco ideal para a venda. Espere! O preco atual e: 70.7\n",
      "Ainda nao atingiu o preco ideal para a venda. Espere! O preco atual e: 71.41\n",
      "Ainda nao atingiu o preco ideal para a venda. Espere! O preco atual e: 72.12\n",
      "Ainda nao atingiu o preco ideal para a venda. Espere! O preco atual e: 72.84\n",
      "Ainda nao atingiu o preco ideal para a venda. Espere! O preco atual e: 73.57\n",
      "Ainda nao atingiu o preco ideal para a venda. Espere! O preco atual e: 74.31\n",
      "Ainda nao atingiu o preco ideal para a venda. Espere! O preco atual e: 75.05\n",
      "Ainda nao atingiu o preco ideal para a venda. Espere! O preco atual e: 75.8\n",
      "Ainda nao atingiu o preco ideal para a venda. Espere! O preco atual e: 76.56\n",
      "Ainda nao atingiu o preco ideal para a venda. Espere! O preco atual e: 77.32\n",
      "Ainda nao atingiu o preco ideal para a venda. Espere! O preco atual e: 78.1\n",
      "Ainda nao atingiu o preco ideal para a venda. Espere! O preco atual e: 78.88\n",
      "Ainda nao atingiu o preco ideal para a venda. Espere! O preco atual e: 79.67\n",
      "Ainda nao atingiu o preco ideal para a venda. Espere! O preco atual e: 80.46\n",
      "Ainda nao atingiu o preco ideal para a venda. Espere! O preco atual e: 81.27\n",
      "Ainda nao atingiu o preco ideal para a venda. Espere! O preco atual e: 82.08\n",
      "Ainda nao atingiu o preco ideal para a venda. Espere! O preco atual e: 82.9\n",
      "Ainda nao atingiu o preco ideal para a venda. Espere! O preco atual e: 83.73\n",
      "Ainda nao atingiu o preco ideal para a venda. Espere! O preco atual e: 84.57\n",
      "Ainda nao atingiu o preco ideal para a venda. Espere! O preco atual e: 85.41\n",
      "Ainda nao atingiu o preco ideal para a venda. Espere! O preco atual e: 86.27\n",
      "Ainda nao atingiu o preco ideal para a venda. Espere! O preco atual e: 87.13\n",
      "Ainda nao atingiu o preco ideal para a venda. Espere! O preco atual e: 88.0\n",
      "Ainda nao atingiu o preco ideal para a venda. Espere! O preco atual e: 88.88\n",
      "Ainda nao atingiu o preco ideal para a venda. Espere! O preco atual e: 89.77\n",
      "Ainda nao atingiu o preco ideal para a venda. Espere! O preco atual e: 90.67\n",
      "Ainda nao atingiu o preco ideal para a venda. Espere! O preco atual e: 91.57\n",
      "Ainda nao atingiu o preco ideal para a venda. Espere! O preco atual e: 92.49\n",
      "Ainda nao atingiu o preco ideal para a venda. Espere! O preco atual e: 93.42\n",
      "Ainda nao atingiu o preco ideal para a venda. Espere! O preco atual e: 94.35\n",
      "Ainda nao atingiu o preco ideal para a venda. Espere! O preco atual e: 95.29\n",
      "Ainda nao atingiu o preco ideal para a venda. Espere! O preco atual e: 96.25\n",
      "Ainda nao atingiu o preco ideal para a venda. Espere! O preco atual e: 97.21\n",
      "Ainda nao atingiu o preco ideal para a venda. Espere! O preco atual e: 98.18\n",
      "Ainda nao atingiu o preco ideal para a venda. Espere! O preco atual e: 99.16\n",
      "Preco alvo foi atingido. Hora de Vender! 100.15\n"
     ]
    }
   ],
   "source": [
    "while preco_vale < 100:\n",
    "    print('Ainda nao atingiu o preco ideal para a venda. Espere! O preco atual e:',round(preco_vale, 2))\n",
    "    preco_vale = preco_vale * 1.01\n",
    "\n",
    "else:\n",
    "    print(\"Preco alvo foi atingido. Hora de Vender!\", round(preco_vale,2))"
   ]
  },
  {
   "cell_type": "markdown",
   "metadata": {},
   "source": [
    "Nesse exercicio, vamos precisar do input do usuario"
   ]
  },
  {
   "cell_type": "markdown",
   "metadata": {},
   "source": [
    "Tudo o que colocarmos dentro da funcao input( ) vai virar uma string."
   ]
  },
  {
   "cell_type": "code",
   "execution_count": 107,
   "metadata": {},
   "outputs": [],
   "source": [
    "investimento = input()"
   ]
  },
  {
   "cell_type": "code",
   "execution_count": 108,
   "metadata": {},
   "outputs": [
    {
     "data": {
      "text/plain": [
       "'MGLU3'"
      ]
     },
     "execution_count": 108,
     "metadata": {},
     "output_type": "execute_result"
    }
   ],
   "source": [
    "investimento"
   ]
  },
  {
   "cell_type": "code",
   "execution_count": 109,
   "metadata": {},
   "outputs": [],
   "source": [
    "investimento = input('Insira o papel que voce deseja investir')"
   ]
  },
  {
   "cell_type": "code",
   "execution_count": 110,
   "metadata": {},
   "outputs": [
    {
     "data": {
      "text/plain": [
       "'ITUB4'"
      ]
     },
     "execution_count": 110,
     "metadata": {},
     "output_type": "execute_result"
    }
   ],
   "source": [
    "investimento"
   ]
  },
  {
   "cell_type": "markdown",
   "metadata": {},
   "source": [
    "Como converter o input de string para numero"
   ]
  },
  {
   "cell_type": "code",
   "execution_count": 111,
   "metadata": {},
   "outputs": [],
   "source": [
    "num_acoes = input('Quantos papeis voce comprou?')"
   ]
  },
  {
   "cell_type": "code",
   "execution_count": 112,
   "metadata": {},
   "outputs": [
    {
     "data": {
      "text/plain": [
       "'200'"
      ]
     },
     "execution_count": 112,
     "metadata": {},
     "output_type": "execute_result"
    }
   ],
   "source": [
    "num_acoes"
   ]
  },
  {
   "cell_type": "code",
   "execution_count": 113,
   "metadata": {},
   "outputs": [
    {
     "data": {
      "text/plain": [
       "str"
      ]
     },
     "execution_count": 113,
     "metadata": {},
     "output_type": "execute_result"
    }
   ],
   "source": [
    "type(num_acoes)"
   ]
  },
  {
   "cell_type": "code",
   "execution_count": 114,
   "metadata": {},
   "outputs": [
    {
     "data": {
      "text/plain": [
       "200"
      ]
     },
     "execution_count": 114,
     "metadata": {},
     "output_type": "execute_result"
    }
   ],
   "source": [
    "int(num_acoes)"
   ]
  },
  {
   "cell_type": "code",
   "execution_count": 115,
   "metadata": {},
   "outputs": [
    {
     "data": {
      "text/plain": [
       "str"
      ]
     },
     "execution_count": 115,
     "metadata": {},
     "output_type": "execute_result"
    }
   ],
   "source": [
    "type(num_acoes)"
   ]
  },
  {
   "cell_type": "markdown",
   "metadata": {},
   "source": [
    "Exercicio:\\\n",
    "Outro exemplo de uso do while. Imagine que tem disponivel 15000 reais para investir. A cada operacao, sera computado o valor alocado nesta operacao (chamaremos de \"investimento_unitario\") e o total ja investido (\"investimento_total\")\\\n",
    "A funcao input interage com o usuario, recebendo um objeto (numerico, string ...) e armazenando em uma variavel."
   ]
  },
  {
   "cell_type": "code",
   "execution_count": 121,
   "metadata": {},
   "outputs": [],
   "source": [
    "investimento_total = 0\n",
    "investimento_unitario = 0"
   ]
  },
  {
   "cell_type": "code",
   "execution_count": 120,
   "metadata": {},
   "outputs": [
    {
     "name": "stdout",
     "output_type": "stream",
     "text": [
      "Limite total previsto para investir foi atingido!\n",
      "Voce excedeu R$ 5000 do valor previsto\n",
      "Voce investiu o total de R$  20000\n"
     ]
    }
   ],
   "source": [
    "while investimento_total < 15000:\n",
    "    investimento_unitario = int(input('Digite o valor do seu investimento: '))\n",
    "    investimento_total = investimento_total + investimento_unitario\n",
    "\n",
    "else:\n",
    "    print('Limite total previsto para investir foi atingido!')\n",
    "    print('Voce excedeu R$',investimento_total - 15000, 'do valor previsto')\n",
    "    print('Voce investiu o total de R$ ', investimento_total)"
   ]
  },
  {
   "cell_type": "code",
   "execution_count": 122,
   "metadata": {},
   "outputs": [
    {
     "name": "stdout",
     "output_type": "stream",
     "text": [
      "Limite total previsto para investir foi atingido!\n",
      "Voce excedeu R$ 4200 do valor previsto\n",
      "Voce investiu o total de R$  19200\n"
     ]
    }
   ],
   "source": [
    "while investimento_total < 15000:\n",
    "    investimento_unitario = int(input('Digite o valor do seu investimento: '))\n",
    "    investimento_total = investimento_total + investimento_unitario\n",
    "\n",
    "\n",
    "print('Limite total previsto para investir foi atingido!')\n",
    "print('Voce excedeu R$',investimento_total - 15000, 'do valor previsto')\n",
    "print('Voce investiu o total de R$ ', investimento_total)"
   ]
  }
 ],
 "metadata": {
  "kernelspec": {
   "display_name": "Python 3",
   "language": "python",
   "name": "python3"
  },
  "language_info": {
   "codemirror_mode": {
    "name": "ipython",
    "version": 3
   },
   "file_extension": ".py",
   "mimetype": "text/x-python",
   "name": "python",
   "nbconvert_exporter": "python",
   "pygments_lexer": "ipython3",
   "version": "3.9.18"
  }
 },
 "nbformat": 4,
 "nbformat_minor": 2
}
