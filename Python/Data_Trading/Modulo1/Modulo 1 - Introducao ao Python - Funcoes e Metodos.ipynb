{
 "cells": [
  {
   "cell_type": "markdown",
   "metadata": {},
   "source": [
    "<center><img src = \"/home/chibana/Documents/GitHub/Study_Area/Python/Data_Trading/Modulo1/Imagens/logotipo-trading-com-dados-branco.svg?raw=true\" width = \"250\">"
   ]
  },
  {
   "cell_type": "markdown",
   "metadata": {},
   "source": [
    "<center><PMF 001.png>"
   ]
  },
  {
   "cell_type": "markdown",
   "metadata": {},
   "source": [
    "<center><img src = \"/home/chibana/Documents/GitHub/Study_Area/Python/Data_Trading/Modulo1/Imagens/PMF 001.png?raw=true\" width = \"500\">"
   ]
  },
  {
   "cell_type": "markdown",
   "metadata": {},
   "source": [
    "# **Python para Mercado Financeiro**"
   ]
  },
  {
   "cell_type": "markdown",
   "metadata": {},
   "source": [
    "### 13. Funcoes e Metodos"
   ]
  },
  {
   "cell_type": "markdown",
   "metadata": {},
   "source": [
    "#### 13.1. Funcoes"
   ]
  },
  {
   "cell_type": "markdown",
   "metadata": {},
   "source": [
    "Uma funcao e um comando capaz de realizar uma tarefa, de acordo com criterios que determinamos.\\\n",
    "A funcao so e executada de fato quando e chamada, e executa atividades que foram especificadas pelo usuario"
   ]
  },
  {
   "cell_type": "code",
   "execution_count": 1,
   "metadata": {},
   "outputs": [
    {
     "name": "stdout",
     "output_type": "stream",
     "text": [
      "O papel mais negociado da bolsa e PETR4\n"
     ]
    }
   ],
   "source": [
    "print('O papel mais negociado da bolsa e PETR4')"
   ]
  },
  {
   "cell_type": "markdown",
   "metadata": {},
   "source": [
    "Vamos criar uma funcao que recebe um papel da bolsa e retorna uma mensagem"
   ]
  },
  {
   "cell_type": "code",
   "execution_count": 2,
   "metadata": {},
   "outputs": [],
   "source": [
    "def mensagem_investidor():\n",
    "    print('O papel mais negociado da bolsa e PETR4')"
   ]
  },
  {
   "cell_type": "code",
   "execution_count": 3,
   "metadata": {},
   "outputs": [
    {
     "name": "stdout",
     "output_type": "stream",
     "text": [
      "O papel mais negociado da bolsa e PETR4\n"
     ]
    }
   ],
   "source": [
    "mensagem_investidor()"
   ]
  },
  {
   "cell_type": "code",
   "execution_count": 4,
   "metadata": {},
   "outputs": [],
   "source": [
    "def mensagem_investidor():\n",
    "    print('Hoje a bolsa abriu em alta de 1%')"
   ]
  },
  {
   "cell_type": "code",
   "execution_count": 5,
   "metadata": {},
   "outputs": [
    {
     "name": "stdout",
     "output_type": "stream",
     "text": [
      "Hoje a bolsa abriu em alta de 1%\n"
     ]
    }
   ],
   "source": [
    "mensagem_investidor()"
   ]
  },
  {
   "cell_type": "markdown",
   "metadata": {},
   "source": [
    "A funcao recebe argumentos"
   ]
  },
  {
   "cell_type": "code",
   "execution_count": 6,
   "metadata": {},
   "outputs": [],
   "source": [
    "def mensagem_investidor(acao):\n",
    "    print('O papel mais negociado da bolsa hoje e', acao)"
   ]
  },
  {
   "cell_type": "code",
   "execution_count": 7,
   "metadata": {},
   "outputs": [
    {
     "name": "stdout",
     "output_type": "stream",
     "text": [
      "O papel mais negociado da bolsa hoje e MGLU3\n"
     ]
    }
   ],
   "source": [
    "mensagem_investidor('MGLU3')"
   ]
  },
  {
   "cell_type": "markdown",
   "metadata": {},
   "source": [
    "<center><img src = \"/home/chibana/Documents/GitHub/Study_Area/Python/Data_Trading/Modulo1/Imagens/Python-Function-Syntax.png?raw=true\" width = \"500\">"
   ]
  },
  {
   "cell_type": "markdown",
   "metadata": {},
   "source": [
    "Exercicio\n",
    "\n",
    "Vamos criar agora uma funcao que vai retornar a soma de dois numeros, sendo estes determinados pelo usuario."
   ]
  },
  {
   "cell_type": "code",
   "execution_count": 14,
   "metadata": {},
   "outputs": [],
   "source": [
    "def soma(n1, n2):\n",
    "    print('O resultado da soma de ', n1, ' + ', n2, ' sera: ',int(n1)+int(n2))"
   ]
  },
  {
   "cell_type": "code",
   "execution_count": 15,
   "metadata": {},
   "outputs": [
    {
     "name": "stdout",
     "output_type": "stream",
     "text": [
      "Insira o primeiro numero: \n",
      "Insira o segundo numero: \n",
      "O resultado da soma de  2  +  3  sera:  5\n"
     ]
    }
   ],
   "source": [
    "n1 = input(print('Insira o primeiro numero: '))\n",
    "n2 = input(print('Insira o segundo numero: '))\n",
    "soma(n1, n2)"
   ]
  },
  {
   "cell_type": "markdown",
   "metadata": {},
   "source": [
    "Exercicio\n",
    "\n",
    "Vamos criar agora uma nova funcao chamada 'preco' que basicamente retorna a cotacao de um papel, de acordo com o que for especificado pelo usuario"
   ]
  },
  {
   "cell_type": "code",
   "execution_count": 16,
   "metadata": {},
   "outputs": [],
   "source": [
    "def preco(acao):\n",
    "    if acao == 'PETR4':\n",
    "        print('PETR4 esta R$24.50 neste momento')\n",
    "    elif acao == 'MGLU3':\n",
    "        print('MGLU3 esta R$2.74 neste momento')\n",
    "    elif acao == 'WEGE3':\n",
    "        print('WEGE3 esta R$38.51 neste momento')\n",
    "    elif acao == 'PRIO3':\n",
    "        print('PRIO3 esta R$37.21 neste momento')\n",
    "    elif acao == 'VALE3':\n",
    "        print('VALE3 esta R$88.88 neste momento')\n",
    "    else:\n",
    "        print('Nao possuimos este papel na nossa base de dados')\n",
    "    "
   ]
  },
  {
   "cell_type": "code",
   "execution_count": 17,
   "metadata": {},
   "outputs": [
    {
     "name": "stdout",
     "output_type": "stream",
     "text": [
      "PETR4 esta R$24.50 neste momento\n"
     ]
    }
   ],
   "source": [
    "preco('PETR4')"
   ]
  },
  {
   "cell_type": "code",
   "execution_count": 18,
   "metadata": {},
   "outputs": [
    {
     "name": "stdout",
     "output_type": "stream",
     "text": [
      "Nao possuimos este papel na nossa base de dados\n"
     ]
    }
   ],
   "source": [
    "preco('SUZB3')"
   ]
  },
  {
   "cell_type": "markdown",
   "metadata": {},
   "source": [
    "**Docstring**\n",
    "\n",
    "\"Docstring\" e a documentacao da funcao, ou seja, a mensagem que aparece quando o usuario consulta a ajuda da funcao"
   ]
  },
  {
   "cell_type": "code",
   "execution_count": 20,
   "metadata": {},
   "outputs": [],
   "source": [
    "def preco(acao):\n",
    "    \n",
    "    ''' ESSA FUNCAO DEVE SER USADA PARA RETORNAR A COTACAO EM TEMPO REAL DE UM PAPEL '''\n",
    "     \n",
    "    if acao == 'PETR4':\n",
    "        print('PETR4 esta R$24.50 neste momento')\n",
    "    elif acao == 'MGLU3':\n",
    "        print('MGLU3 esta R$2.74 neste momento')\n",
    "    elif acao == 'WEGE3':\n",
    "        print('WEGE3 esta R$38.51 neste momento')\n",
    "    elif acao == 'PRIO3':\n",
    "        print('PRIO3 esta R$37.21 neste momento')\n",
    "    elif acao == 'VALE3':\n",
    "        print('VALE3 esta R$88.88 neste momento')\n",
    "    else:\n",
    "        print('Nao possuimos este papel na nossa base de dados')\n",
    "    "
   ]
  },
  {
   "cell_type": "code",
   "execution_count": 21,
   "metadata": {},
   "outputs": [
    {
     "name": "stdout",
     "output_type": "stream",
     "text": [
      "WEGE3 esta R$38.51 neste momento\n"
     ]
    }
   ],
   "source": [
    "preco('WEGE3')"
   ]
  },
  {
   "cell_type": "markdown",
   "metadata": {},
   "source": [
    "#### 13.2. Metodos"
   ]
  },
  {
   "cell_type": "markdown",
   "metadata": {},
   "source": [
    "Metodos sao funcoes aplicaveis apenas a determinados tipos de objetos. Todos os metodos sao funcoes, mas nem todas as funcoes sao metodos. Os metodos sao executados ao fim dos objetos e separados com um ponto."
   ]
  },
  {
   "cell_type": "code",
   "execution_count": 23,
   "metadata": {},
   "outputs": [],
   "source": [
    "numeros = [1, 2, 3, 4, 5, 7, 9, 11, 15]"
   ]
  },
  {
   "cell_type": "markdown",
   "metadata": {},
   "source": [
    "O operador 'append' e, na verdade, um metodo"
   ]
  },
  {
   "cell_type": "code",
   "execution_count": 24,
   "metadata": {},
   "outputs": [],
   "source": [
    "numeros.append(18)"
   ]
  },
  {
   "cell_type": "code",
   "execution_count": 25,
   "metadata": {},
   "outputs": [
    {
     "data": {
      "text/plain": [
       "18"
      ]
     },
     "execution_count": 25,
     "metadata": {},
     "output_type": "execute_result"
    }
   ],
   "source": [
    "numeros.pop()"
   ]
  },
  {
   "cell_type": "code",
   "execution_count": 26,
   "metadata": {},
   "outputs": [],
   "source": [
    "numeros.reverse()"
   ]
  },
  {
   "cell_type": "code",
   "execution_count": 27,
   "metadata": {},
   "outputs": [
    {
     "data": {
      "text/plain": [
       "[15, 11, 9, 7, 5, 4, 3, 2, 1]"
      ]
     },
     "execution_count": 27,
     "metadata": {},
     "output_type": "execute_result"
    }
   ],
   "source": [
    "numeros"
   ]
  },
  {
   "cell_type": "markdown",
   "metadata": {},
   "source": [
    "Alguns metodos aplicaveis a strings"
   ]
  },
  {
   "cell_type": "code",
   "execution_count": 28,
   "metadata": {},
   "outputs": [],
   "source": [
    "texto_investidor = 'PETR4 esta num preco interessante'"
   ]
  },
  {
   "cell_type": "code",
   "execution_count": 29,
   "metadata": {},
   "outputs": [
    {
     "data": {
      "text/plain": [
       "['PETR4', 'esta', 'num', 'preco', 'interessante']"
      ]
     },
     "execution_count": 29,
     "metadata": {},
     "output_type": "execute_result"
    }
   ],
   "source": [
    "texto_investidor.split()"
   ]
  },
  {
   "cell_type": "code",
   "execution_count": 32,
   "metadata": {},
   "outputs": [],
   "source": [
    "palavras = texto_investidor.split()"
   ]
  },
  {
   "cell_type": "code",
   "execution_count": 33,
   "metadata": {},
   "outputs": [
    {
     "data": {
      "text/plain": [
       "'PETR4'"
      ]
     },
     "execution_count": 33,
     "metadata": {},
     "output_type": "execute_result"
    }
   ],
   "source": [
    "palavras[0]"
   ]
  },
  {
   "cell_type": "markdown",
   "metadata": {},
   "source": [
    "Metodos para dicionarios"
   ]
  },
  {
   "cell_type": "code",
   "execution_count": 34,
   "metadata": {},
   "outputs": [],
   "source": [
    "dicionario_precos = {'PRIO3' : 20, 'BBDC4' : 16, 'BRKM5' : 54}"
   ]
  },
  {
   "cell_type": "code",
   "execution_count": 35,
   "metadata": {},
   "outputs": [
    {
     "data": {
      "text/plain": [
       "dict_keys(['PRIO3', 'BBDC4', 'BRKM5'])"
      ]
     },
     "execution_count": 35,
     "metadata": {},
     "output_type": "execute_result"
    }
   ],
   "source": [
    "dicionario_precos.keys()"
   ]
  },
  {
   "cell_type": "code",
   "execution_count": 36,
   "metadata": {},
   "outputs": [
    {
     "data": {
      "text/plain": [
       "dict_values([20, 16, 54])"
      ]
     },
     "execution_count": 36,
     "metadata": {},
     "output_type": "execute_result"
    }
   ],
   "source": [
    "dicionario_precos.values()"
   ]
  },
  {
   "cell_type": "markdown",
   "metadata": {},
   "source": [
    "### 14. Escopo das Variaveis"
   ]
  },
  {
   "cell_type": "markdown",
   "metadata": {},
   "source": [
    "Podemos entender o escopo como a 'area de atuacao' de uma variavel."
   ]
  },
  {
   "cell_type": "markdown",
   "metadata": {},
   "source": [
    "Escopo global"
   ]
  },
  {
   "cell_type": "code",
   "execution_count": 37,
   "metadata": {},
   "outputs": [],
   "source": [
    "acao = 'PETR4'"
   ]
  },
  {
   "cell_type": "code",
   "execution_count": 38,
   "metadata": {},
   "outputs": [
    {
     "data": {
      "text/plain": [
       "'PETR4'"
      ]
     },
     "execution_count": 38,
     "metadata": {},
     "output_type": "execute_result"
    }
   ],
   "source": [
    "acao"
   ]
  },
  {
   "cell_type": "markdown",
   "metadata": {},
   "source": [
    "Escopo local"
   ]
  },
  {
   "cell_type": "code",
   "execution_count": 41,
   "metadata": {},
   "outputs": [],
   "source": [
    "def papel_cliente(numero, papel):\n",
    "    acao = f\"O cliente quer comprar {numero} de acoes do papel {papel}\"\n",
    "    return(acao)"
   ]
  },
  {
   "cell_type": "code",
   "execution_count": 42,
   "metadata": {},
   "outputs": [
    {
     "data": {
      "text/plain": [
       "'O cliente quer comprar 200 de acoes do papel SANB11'"
      ]
     },
     "execution_count": 42,
     "metadata": {},
     "output_type": "execute_result"
    }
   ],
   "source": [
    "papel_cliente(200, 'SANB11')"
   ]
  },
  {
   "cell_type": "code",
   "execution_count": null,
   "metadata": {},
   "outputs": [],
   "source": []
  }
 ],
 "metadata": {
  "kernelspec": {
   "display_name": "Python 3",
   "language": "python",
   "name": "python3"
  },
  "language_info": {
   "codemirror_mode": {
    "name": "ipython",
    "version": 3
   },
   "file_extension": ".py",
   "mimetype": "text/x-python",
   "name": "python",
   "nbconvert_exporter": "python",
   "pygments_lexer": "ipython3",
   "version": "3.9.18"
  }
 },
 "nbformat": 4,
 "nbformat_minor": 2
}
