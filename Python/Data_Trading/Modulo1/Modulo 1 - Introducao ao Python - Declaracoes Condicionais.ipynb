{
 "cells": [
  {
   "cell_type": "markdown",
   "metadata": {},
   "source": [
    "<center><img src = \"/home/chibana/Documents/GitHub/Study_Area/Python/Data_Trading/Modulo1/Imagens/logotipo-trading-com-dados-branco.svg?raw=true\" width = \"250\">"
   ]
  },
  {
   "cell_type": "markdown",
   "metadata": {},
   "source": [
    "<center><PMF 001.png>"
   ]
  },
  {
   "cell_type": "markdown",
   "metadata": {},
   "source": [
    "<center><img src = \"/home/chibana/Documents/GitHub/Study_Area/Python/Data_Trading/Modulo1/Imagens/PMF 001.png?raw=true\" width = \"500\">"
   ]
  },
  {
   "cell_type": "markdown",
   "metadata": {},
   "source": [
    "# **Python para Mercado Financeiro**"
   ]
  },
  {
   "cell_type": "markdown",
   "metadata": {},
   "source": [
    "### 9. Declaracoes Condicionais"
   ]
  },
  {
   "cell_type": "markdown",
   "metadata": {},
   "source": [
    "Em linguagem de programacao, frequentemente devemos criar estruturas e comandos para atuar de acordo com condicoes especificas, ou seja, apenas se alguma condicao for satisfeita"
   ]
  },
  {
   "cell_type": "code",
   "execution_count": 1,
   "metadata": {},
   "outputs": [],
   "source": [
    "preco_atual = 35.27"
   ]
  },
  {
   "cell_type": "code",
   "execution_count": 3,
   "metadata": {},
   "outputs": [],
   "source": [
    "if preco_atual < 28:\n",
    "    print('O preco esta baixo, compre!')"
   ]
  },
  {
   "cell_type": "code",
   "execution_count": 4,
   "metadata": {},
   "outputs": [
    {
     "name": "stdout",
     "output_type": "stream",
     "text": [
      "Preco esta muito caro, fique de fora deste papel.\n"
     ]
    }
   ],
   "source": [
    "if preco_atual > 30:\n",
    "    print('Preco esta muito caro, fique de fora deste papel.')"
   ]
  },
  {
   "cell_type": "markdown",
   "metadata": {},
   "source": [
    "Declaracoes condicionais diferentes na mesma estrutura:"
   ]
  },
  {
   "cell_type": "code",
   "execution_count": 7,
   "metadata": {},
   "outputs": [
    {
     "name": "stdout",
     "output_type": "stream",
     "text": [
      "O preco ainda nao chegou no patamar desejado.\n",
      "Aguarde ate o preco cair abaixo de 28\n"
     ]
    }
   ],
   "source": [
    "if preco_atual < 28:\n",
    "    print('O preco esta baixo, compre!')\n",
    "    print('Preco esta abaixo de 28')\n",
    "else:\n",
    "    print('O preco ainda nao chegou no patamar desejado.')\n",
    "    print('Aguarde ate o preco cair abaixo de 28')"
   ]
  },
  {
   "cell_type": "markdown",
   "metadata": {},
   "source": [
    "Implementacao do 'elif'"
   ]
  },
  {
   "cell_type": "markdown",
   "metadata": {},
   "source": [
    "Exemplo: Determinar o momento da compra"
   ]
  },
  {
   "cell_type": "code",
   "execution_count": 8,
   "metadata": {},
   "outputs": [],
   "source": [
    "preco_weg = 35.72\n",
    "preco_alvo = 31.00"
   ]
  },
  {
   "cell_type": "code",
   "execution_count": 9,
   "metadata": {},
   "outputs": [
    {
     "name": "stdout",
     "output_type": "stream",
     "text": [
      "WEGE3 ainda nao iniciou uma tendencia de queda. Aguarde!\n"
     ]
    }
   ],
   "source": [
    "if preco_weg < 31:\n",
    "    print('O preco esta baixo, compre!')\n",
    "elif preco_weg < 33:\n",
    "    print('O preco esta em queda, continue esperando')\n",
    "elif preco_weg < 35:\n",
    "    print('Detectamos um inicio do processo de queda de WEGE3')\n",
    "else:\n",
    "    print('WEGE3 ainda nao iniciou uma tendencia de queda. Aguarde!')"
   ]
  },
  {
   "cell_type": "code",
   "execution_count": 10,
   "metadata": {},
   "outputs": [],
   "source": [
    "preco_weg = 33.42\n",
    "preco_alvo = 31.00"
   ]
  },
  {
   "cell_type": "code",
   "execution_count": 11,
   "metadata": {},
   "outputs": [
    {
     "name": "stdout",
     "output_type": "stream",
     "text": [
      "Detectamos um inicio do processo de queda de WEGE3\n"
     ]
    }
   ],
   "source": [
    "if preco_weg < 31:\n",
    "    print('O preco esta baixo, compre!')\n",
    "elif preco_weg < 33:\n",
    "    print('O preco esta em queda, continue esperando')\n",
    "elif preco_weg < 35:\n",
    "    print('Detectamos um inicio do processo de queda de WEGE3')\n",
    "else:\n",
    "    print('WEGE3 ainda nao iniciou uma tendencia de queda. Aguarde!')"
   ]
  },
  {
   "cell_type": "markdown",
   "metadata": {},
   "source": [
    "Vamos utilizar a variavel preco_alvo"
   ]
  },
  {
   "cell_type": "code",
   "execution_count": 12,
   "metadata": {},
   "outputs": [
    {
     "name": "stdout",
     "output_type": "stream",
     "text": [
      "Detectamos um inicio do processo de queda de WEGE3\n"
     ]
    }
   ],
   "source": [
    "if preco_weg < preco_alvo:\n",
    "    print('O preco esta baixo, compre!')\n",
    "elif preco_weg < (preco_alvo + 2):\n",
    "    print('O preco esta em queda, continue esperando')\n",
    "elif preco_weg < (preco_alvo + 4):\n",
    "    print('Detectamos um inicio do processo de queda de WEGE3')\n",
    "else:\n",
    "    print('WEGE3 ainda nao iniciou uma tendencia de queda. Aguarde!')"
   ]
  },
  {
   "cell_type": "code",
   "execution_count": 13,
   "metadata": {},
   "outputs": [],
   "source": [
    "preco_weg = 27.42"
   ]
  },
  {
   "cell_type": "code",
   "execution_count": 14,
   "metadata": {},
   "outputs": [
    {
     "name": "stdout",
     "output_type": "stream",
     "text": [
      "O preco esta baixo, compre!\n"
     ]
    }
   ],
   "source": [
    "if preco_weg < preco_alvo:\n",
    "    print('O preco esta baixo, compre!')\n",
    "elif preco_weg < (preco_alvo + 2):\n",
    "    print('O preco esta em queda, continue esperando')\n",
    "elif preco_weg < (preco_alvo + 4):\n",
    "    print('Detectamos um inicio do processo de queda de WEGE3')\n",
    "else:\n",
    "    print('WEGE3 ainda nao iniciou uma tendencia de queda. Aguarde!')"
   ]
  },
  {
   "cell_type": "markdown",
   "metadata": {},
   "source": [
    "Importante observar que as condicoes vao sendo checadas pela ordem que foram declaradas.\n",
    "Assim que uma delas e satisfeita, as demais nao sao executadas mais."
   ]
  },
  {
   "cell_type": "markdown",
   "metadata": {},
   "source": [
    "Trocando a ordem das declaracoes. Note que assim que atendeu a primeira, as demais sao ignoradas."
   ]
  },
  {
   "cell_type": "code",
   "execution_count": 15,
   "metadata": {},
   "outputs": [
    {
     "name": "stdout",
     "output_type": "stream",
     "text": [
      "O preco esta em queda, continue esperando\n"
     ]
    }
   ],
   "source": [
    "if preco_weg < 33:\n",
    "    print('O preco esta em queda, continue esperando')\n",
    "elif preco_weg < preco_alvo:\n",
    "    print('O preco esta baixo, compre!')\n",
    "elif preco_weg < (preco_alvo + 2):\n",
    "    print('O preco esta em queda, continue esperando')\n",
    "elif preco_weg < (preco_alvo + 4):\n",
    "    print('Detectamos um inicio do processo de queda de WEGE3')\n",
    "else:\n",
    "    print('WEGE3 ainda nao iniciou uma tendencia de queda. Aguarde!')"
   ]
  },
  {
   "cell_type": "markdown",
   "metadata": {},
   "source": [
    "Criar uma declaracao condicional que usa o operador de igualde"
   ]
  },
  {
   "cell_type": "code",
   "execution_count": 19,
   "metadata": {},
   "outputs": [],
   "source": [
    "interesse_cliente = 'VALE3'"
   ]
  },
  {
   "cell_type": "code",
   "execution_count": 20,
   "metadata": {},
   "outputs": [
    {
     "name": "stdout",
     "output_type": "stream",
     "text": [
      "O cliente comprou acoes de VALE3\n"
     ]
    }
   ],
   "source": [
    "if interesse_cliente == 'PETR4':\n",
    "    print('O cliente seguiu minha recomendacao e comprou PETR4')\n",
    "else:\n",
    "    print('O cliente comprou acoes de', interesse_cliente)"
   ]
  }
 ],
 "metadata": {
  "kernelspec": {
   "display_name": "Python 3",
   "language": "python",
   "name": "python3"
  },
  "language_info": {
   "codemirror_mode": {
    "name": "ipython",
    "version": 3
   },
   "file_extension": ".py",
   "mimetype": "text/x-python",
   "name": "python",
   "nbconvert_exporter": "python",
   "pygments_lexer": "ipython3",
   "version": "3.9.18"
  }
 },
 "nbformat": 4,
 "nbformat_minor": 2
}
