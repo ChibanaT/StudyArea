{
 "cells": [
  {
   "cell_type": "markdown",
   "metadata": {},
   "source": [
    "## Marcação na Curva"
   ]
  },
  {
   "cell_type": "code",
   "execution_count": 15,
   "metadata": {},
   "outputs": [
    {
     "name": "stdout",
     "output_type": "stream",
     "text": [
      "O Preco unitario do titulo sera: R$ 767.4\n"
     ]
    }
   ],
   "source": [
    "# Dados iniciais\n",
    "VF = 1000           # valor de face ou valor futuro\n",
    "vencimento = 700    # dias uteis ate o vencimento\n",
    "YTM = 10            # rentabilidade prometida ate o vencimento\n",
    "\n",
    "PU = (VF)/((1+(YTM/100))**(vencimento/252))                 # valor de mercado ou preco unitario\n",
    "\n",
    "print(f'O Preco unitario do titulo sera: R$ {round(PU,2)}')"
   ]
  },
  {
   "cell_type": "markdown",
   "metadata": {},
   "source": [
    "## Marcação a Mercado"
   ]
  },
  {
   "cell_type": "code",
   "execution_count": 26,
   "metadata": {},
   "outputs": [
    {
     "name": "stdout",
     "output_type": "stream",
     "text": [
      "O Preco unitario do titulo sera: R$ 767.4\n",
      "Valor para a venda do titulo sera: R$ 798.63\n",
      "A rentabilidade do titulo no periodo de 200 dias uteis sera: R$ 4.07%\n",
      "A rentabilidade do titulo ao ano sera: R$ 5.15%\n"
     ]
    }
   ],
   "source": [
    "# Dados iniciais\n",
    "VF = 1000           # valor de face ou valor futuro\n",
    "vencimento = 700    # dias uteis ate o vencimento\n",
    "YTM = 10            # rentabilidade prometida ate o vencimento ao ano\n",
    "data_venda = 200    # dias uteis desde a compra do titulo\n",
    "novo_YTM = 12       # nova rentabilidade no dia da venda ao ano\n",
    "\n",
    "PU = (VF)/((1+(YTM/100))**(vencimento/252))                                         # valor de mercado ou preco unitario\n",
    "VP = (VF)/((1+(novo_YTM/100))**((vencimento-data_venda)/252))                       # valor presente\n",
    "rentabilidade_periodo = (((VP/PU)-1)*100)                                           # rentabilidade ao periodo\n",
    "rentabilidade_ano = ((1 + rentabilidade_periodo/100)**(252/data_venda)-1) * 100     # rentabilidade ao ano\n",
    "\n",
    "print(f'O Preco unitario do titulo sera: R$ {round(PU,2)}')\n",
    "print(f'Valor para a venda do titulo sera: R$ {round(VP,2)}')\n",
    "print(f'A rentabilidade do titulo no periodo de {data_venda} dias uteis sera: R$ {round(rentabilidade_periodo,2)}%')\n",
    "print(f'A rentabilidade do titulo ao ano sera: R$ {round(rentabilidade_ano,2)}%')"
   ]
  },
  {
   "cell_type": "markdown",
   "metadata": {},
   "source": [
    "## Preciﬁcação de Letra do Tesouro Nacional (LTN)"
   ]
  },
  {
   "cell_type": "code",
   "execution_count": 27,
   "metadata": {},
   "outputs": [
    {
     "name": "stdout",
     "output_type": "stream",
     "text": [
      "O Preco unitario do titulo sera: R$ 685.7\n"
     ]
    }
   ],
   "source": [
    "# Dados iniciais\n",
    "VF = 1000           # valor de face ou valor futuro\n",
    "vencimento = 839    # dias uteis ate o vencimento\n",
    "YTM = 12            # rentabilidade prometida ate o vencimento\n",
    "\n",
    "PU = (VF)/((1+(YTM/100))**(vencimento/252))                 # valor de mercado ou preco unitario\n",
    "\n",
    "print(f'O Preco unitario do titulo sera: R$ {round(PU,2)}')"
   ]
  },
  {
   "cell_type": "markdown",
   "metadata": {},
   "source": [
    "## Preciﬁcação de Nota do Tesouro Nacional Série F (NTN-F) - Tesouro Preﬁxado com Juros Semestrais"
   ]
  },
  {
   "cell_type": "code",
   "execution_count": null,
   "metadata": {},
   "outputs": [],
   "source": [
    "# Dados iniciais\n",
    "VF = 1000                           # valor de face ou valor futuro\n",
    "vencimento = 308                    # dias uteis ate o vencimento\n",
    "YTM = 7.44                          # rentabilidade prometida ate o vencimento\n",
    "taxa_cupom_ano = 10                 # taxa de cupom ao ano\n",
    "\n",
    "\n",
    "\n",
    "\n",
    "\n",
    "print(f'A VNA atualizada ao periodo sera: R$ {round(VNA_atualizada,2)}')\n",
    "print(f'A cotacao sera: {round(cotacao,2)}')\n",
    "print(f'O Preco unitario do titulo sera: R$ {round(PU,2)}')"
   ]
  },
  {
   "cell_type": "markdown",
   "metadata": {},
   "source": [
    "## Preciﬁcação da Nota do Tesouro Nacional Série B Principal (NTN-B Principal) - Tesouro IPCA+"
   ]
  },
  {
   "cell_type": "code",
   "execution_count": 33,
   "metadata": {},
   "outputs": [
    {
     "name": "stdout",
     "output_type": "stream",
     "text": [
      "A VNA atualizada ao periodo sera: R$ 2370.33\n",
      "A cotacao sera: 47.08\n",
      "O Preco unitario do titulo sera: R$ 1116.07\n"
     ]
    }
   ],
   "source": [
    "# Dados iniciais\n",
    "VF = 100                           # valor de face ou valor futuro\n",
    "vencimento = 2645                   # dias uteis ate o vencimento\n",
    "YTM = 7.44                          # rentabilidade prometida ate o vencimento\n",
    "VNA = 2363.026594                   # Valor Nominal Atualizado\n",
    "infla = 0.64                        # projeção do IPCA ao periodo\n",
    "periodo_proj_ipca = 31              # período para o qual vale a projeção do IPCA em dias corridos\n",
    "periodo_ipca_proporcional = 15      # período para o qual nós desejamos calcular a projeção do IPCA proporcional em dias corridos\n",
    "\n",
    "\n",
    "VNA_atualizada = VNA * (1 + (infla/100))**(periodo_ipca_proporcional/periodo_proj_ipca)                 # valor de mercado ou preco unitario\n",
    "cotacao = (VF/((1+(YTM/100))**(vencimento/252)))\n",
    "PU = (VNA_atualizada * cotacao)/100\n",
    "\n",
    "\n",
    "print(f'A VNA atualizada ao periodo sera: R$ {round(VNA_atualizada,2)}')\n",
    "print(f'A cotacao sera: {round(cotacao,2)}')\n",
    "print(f'O Preco unitario do titulo sera: R$ {round(PU,2)}')"
   ]
  },
  {
   "cell_type": "code",
   "execution_count": null,
   "metadata": {},
   "outputs": [],
   "source": []
  }
 ],
 "metadata": {
  "kernelspec": {
   "display_name": "Python 3",
   "language": "python",
   "name": "python3"
  },
  "language_info": {
   "codemirror_mode": {
    "name": "ipython",
    "version": 3
   },
   "file_extension": ".py",
   "mimetype": "text/x-python",
   "name": "python",
   "nbconvert_exporter": "python",
   "pygments_lexer": "ipython3",
   "version": "3.9.18"
  }
 },
 "nbformat": 4,
 "nbformat_minor": 2
}
