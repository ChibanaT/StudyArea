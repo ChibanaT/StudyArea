{
 "cells": [
  {
   "cell_type": "markdown",
   "metadata": {},
   "source": [
    "## Marcação na Curva"
   ]
  },
  {
   "cell_type": "code",
   "execution_count": 27,
   "metadata": {},
   "outputs": [
    {
     "name": "stdout",
     "output_type": "stream",
     "text": [
      "O Preco unitario do titulo sera: R$767.4\n"
     ]
    }
   ],
   "source": [
    "# Dados iniciais\n",
    "VF = 1000           # valor de face ou valor futuro\n",
    "vencimento = 700    # dias uteis ate o vencimento\n",
    "YTM = 10            # rentabilidade prometida ate o vencimento\n",
    "\n",
    "PU = (VF)/((1+(YTM/100))**(vencimento/252))                 # valor de mercado ou preco unitario\n",
    "\n",
    "print(f'O Preco unitario do titulo sera: R${round(PU,2)}')"
   ]
  },
  {
   "cell_type": "markdown",
   "metadata": {},
   "source": [
    "## Marcação a Mercado"
   ]
  },
  {
   "cell_type": "code",
   "execution_count": 26,
   "metadata": {},
   "outputs": [
    {
     "name": "stdout",
     "output_type": "stream",
     "text": [
      "O Preco unitario do titulo sera: R$767.4\n",
      "Valor para a venda do titulo sera: R$798.63\n",
      "A rentabilidade do titulo no periodo de 200 dias uteis sera: R$4.07%\n",
      "A rentabilidade do titulo ao ano sera: 5.15%\n"
     ]
    }
   ],
   "source": [
    "# Dados iniciais\n",
    "VF = 1000           # valor de face ou valor futuro\n",
    "vencimento = 700    # dias uteis ate o vencimento\n",
    "YTM = 10            # rentabilidade prometida ate o vencimento ao ano\n",
    "data_venda = 200    # dias uteis desde a compra do titulo\n",
    "novo_YTM = 12       # nova rentabilidade no dia da venda ao ano\n",
    "\n",
    "PU = (VF)/((1+(YTM/100))**(vencimento/252))                                         # valor de mercado ou preco unitario\n",
    "VP = (VF)/((1+(novo_YTM/100))**((vencimento-data_venda)/252))                       # valor presente\n",
    "rentabilidade_periodo = (((VP/PU)-1)*100)                                           # rentabilidade ao periodo\n",
    "rentabilidade_ano = ((1 + rentabilidade_periodo/100)**(252/data_venda)-1) * 100     # rentabilidade ao ano\n",
    "\n",
    "print(f'O Preco unitario do titulo sera: R${round(PU,2)}')\n",
    "print(f'Valor para a venda do titulo sera: R${round(VP,2)}')\n",
    "print(f'A rentabilidade do titulo no periodo de {data_venda} dias uteis sera: R${round(rentabilidade_periodo,2)}%')\n",
    "print(f'A rentabilidade do titulo ao ano sera: {round(rentabilidade_ano,2)}%')"
   ]
  },
  {
   "cell_type": "markdown",
   "metadata": {},
   "source": [
    "## Preciﬁcação de Letra do Tesouro Nacional (LTN)"
   ]
  },
  {
   "cell_type": "code",
   "execution_count": 24,
   "metadata": {},
   "outputs": [
    {
     "name": "stdout",
     "output_type": "stream",
     "text": [
      "O Preco unitario do titulo sera: R$685.7\n"
     ]
    }
   ],
   "source": [
    "# Dados iniciais\n",
    "VF = 1000           # valor de face ou valor futuro\n",
    "vencimento = 839    # dias uteis ate o vencimento\n",
    "YTM = 12            # rentabilidade prometida ate o vencimento\n",
    "\n",
    "PU = (VF)/((1+(YTM/100))**(vencimento/252))                 # valor de mercado ou preco unitario\n",
    "\n",
    "print(f'O Preco unitario do titulo sera: R${round(PU,2)}')"
   ]
  },
  {
   "cell_type": "markdown",
   "metadata": {},
   "source": [
    "## Preciﬁcação de Nota do Tesouro Nacional Série F (NTN-F) - Tesouro Preﬁxado com Juros Semestrais"
   ]
  },
  {
   "cell_type": "code",
   "execution_count": 23,
   "metadata": {},
   "outputs": [
    {
     "name": "stdout",
     "output_type": "stream",
     "text": [
      "O Preco unitario do titulo sera: R$995.49\n",
      "O Preco de cada cupom sera: R$48.81\n"
     ]
    }
   ],
   "source": [
    "# Dados iniciais\n",
    "VF = 1000                                                   # valor de face ou valor futuro\n",
    "vencimento = 308                                            # dias uteis ate o vencimento\n",
    "YTM = 13                                                    # rentabilidade prometida ate o vencimento\n",
    "vencimento_cupom = [57, 180]                                # dias uteis ate o vencimento de cada cupom\n",
    "taxa_cupom_ano = 10                                         # taxa de cupom ao ano\n",
    "taxa_cupom_sem = ((1+taxa_cupom_ano/100)**(1/2)-1)*100      # taxa de cupom ao semestre\n",
    "valor_cupom = taxa_cupom_sem/100 * VF                       # Valor do cupom de cada semestre\n",
    "\n",
    "fluxo_cupom = 0\n",
    "for i in vencimento_cupom:\n",
    "        fluxo_cupom += (valor_cupom)/((1+YTM/100)**(i/252))\n",
    "\n",
    "PU = fluxo_cupom + ((VF + valor_cupom)/((1 + YTM/100)**(vencimento/252)))\n",
    "\n",
    "print(f'O Preco unitario do titulo sera: R${round(PU,2)}')\n",
    "print(f'O Preco de cada cupom sera: R${round(valor_cupom,2)}')"
   ]
  },
  {
   "cell_type": "markdown",
   "metadata": {},
   "source": [
    "## Preciﬁcação da Nota do Tesouro Nacional Série C (NTN-C)"
   ]
  },
  {
   "cell_type": "code",
   "execution_count": 20,
   "metadata": {},
   "outputs": [
    {
     "name": "stdout",
     "output_type": "stream",
     "text": [
      "O Preco unitario do titulo sera: R$2927.63\n",
      "O VNA na liquidacao sera: R$2939.96\n",
      "O valor da cotacao sera: R$99.58\n",
      "O Preco de cada cupom sera: R$2.96\n"
     ]
    }
   ],
   "source": [
    "# Dados iniciais\n",
    "VF = 100                                                    # valor de face ou valor futuro\n",
    "YTM = 6.64                                                  # rentabilidade prometida ate o vencimento\n",
    "IGP_M = 0.48                                                # taxa do IGP-M ao mes\n",
    "taxa_cupom_ano = 6                                          # taxa de cupom ao ano\n",
    "data_liqu = 22                                              # dias corridos desde a ultima atualizacao do VNA\n",
    "dias_atul = 31                                              # dias corridos do mes entre a ultima e a proxima atualizacao do VNA\n",
    "vencimento = 360                                            # dias uteis ate o vencimento\n",
    "vencimento_cupom = [107, 238]                               # dias uteis ate o vencimento de cada cupom\n",
    "taxa_cupom_sem = ((1+taxa_cupom_ano/100)**(1/2)-1)*100      # taxa de cupom ao semestre\n",
    "valor_cupom = taxa_cupom_sem/100 * VF                       # Valor do cupom de cada semestre\n",
    "VNA = 2929.984489                                               # Valor Nominal Atualizado do primeiro dia do mes da compra\n",
    "\n",
    "VNA_dia = VNA*((1+(IGP_M/100))**(data_liqu/dias_atul))      # Valor Nominal Atualizado para o dia da compra do titulo\n",
    "\n",
    "fluxo_cupom = 0\n",
    "for i in vencimento_cupom:\n",
    "        fluxo_cupom += (valor_cupom)/((1+YTM/100)**(i/252))\n",
    "\n",
    "cotacao = fluxo_cupom + ((VF + valor_cupom)/((1 + YTM/100)**(vencimento/252)))\n",
    "\n",
    "PU = (VNA_dia * cotacao)/100\n",
    "\n",
    "\n",
    "print(f'O Preco unitario do titulo sera: R${round(PU,2)}')\n",
    "print(f'O VNA na liquidacao sera: R${round(VNA_dia,2)}')\n",
    "print(f'O valor da cotacao sera: R${round(cotacao,2)}')\n",
    "print(f'O Preco de cada cupom sera: R${round(valor_cupom,2)}')"
   ]
  },
  {
   "cell_type": "markdown",
   "metadata": {},
   "source": [
    "## Preciﬁcação da Nota do Tesouro Nacional Série B Principal (NTN-B Principal) - Tesouro IPCA+"
   ]
  },
  {
   "cell_type": "code",
   "execution_count": 22,
   "metadata": {},
   "outputs": [
    {
     "name": "stdout",
     "output_type": "stream",
     "text": [
      "O Preco unitario do titulo sera: R$1116.07\n",
      "A VNA atualizada ao periodo sera: R$2370.33\n",
      "A cotacao sera: R$47.08\n"
     ]
    }
   ],
   "source": [
    "# Dados iniciais\n",
    "VF = 100                            # valor de face ou valor futuro\n",
    "vencimento = 2645                   # dias uteis ate o vencimento\n",
    "YTM = 7.44                          # rentabilidade prometida ate o vencimento\n",
    "VNA = 2363.026594                   # Valor Nominal Atualizado\n",
    "infla = 0.64                        # projeção do IPCA ao periodo\n",
    "periodo_proj_ipca = 31              # período para o qual vale a projeção do IPCA em dias corridos\n",
    "periodo_ipca_proporcional = 15      # período para o qual nós desejamos calcular a projeção do IPCA proporcional em dias corridos\n",
    "\n",
    "\n",
    "VNA_atualizada = VNA * (1 + (infla/100))**(periodo_ipca_proporcional/periodo_proj_ipca)                 # valor de mercado ou preco unitario\n",
    "\n",
    "cotacao = (VF/((1+(YTM/100))**(vencimento/252)))\n",
    "\n",
    "PU = (VNA_atualizada * cotacao)/100\n",
    "\n",
    "\n",
    "print(f'O Preco unitario do titulo sera: R${round(PU,2)}')\n",
    "print(f'A VNA atualizada ao periodo sera: R${round(VNA_atualizada,2)}')\n",
    "print(f'A cotacao sera: R${round(cotacao,2)}')\n"
   ]
  },
  {
   "cell_type": "code",
   "execution_count": null,
   "metadata": {},
   "outputs": [],
   "source": []
  }
 ],
 "metadata": {
  "kernelspec": {
   "display_name": "Python 3",
   "language": "python",
   "name": "python3"
  },
  "language_info": {
   "codemirror_mode": {
    "name": "ipython",
    "version": 3
   },
   "file_extension": ".py",
   "mimetype": "text/x-python",
   "name": "python",
   "nbconvert_exporter": "python",
   "pygments_lexer": "ipython3",
   "version": "3.9.18"
  }
 },
 "nbformat": 4,
 "nbformat_minor": 2
}
